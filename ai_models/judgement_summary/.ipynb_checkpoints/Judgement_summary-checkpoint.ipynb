{
 "cells": [
  {
   "cell_type": "code",
   "execution_count": 1,
   "metadata": {
    "colab": {
     "base_uri": "https://localhost:8080/"
    },
    "id": "ckZeQXHOUM4l",
    "outputId": "1972110a-ed4c-4374-ba02-1aed87880d13"
   },
   "outputs": [
    {
     "name": "stdout",
     "output_type": "stream",
     "text": [
      "Looking in indexes: https://pypi.org/simple, https://us-python.pkg.dev/colab-wheels/public/simple/\n",
      "Requirement already satisfied: transformers in /usr/local/lib/python3.7/dist-packages (4.21.1)\n",
      "Requirement already satisfied: sentencepiece in /usr/local/lib/python3.7/dist-packages (0.1.96)\n",
      "Requirement already satisfied: regex!=2019.12.17 in /usr/local/lib/python3.7/dist-packages (from transformers) (2022.6.2)\n",
      "Requirement already satisfied: packaging>=20.0 in /usr/local/lib/python3.7/dist-packages (from transformers) (21.3)\n",
      "Requirement already satisfied: numpy>=1.17 in /usr/local/lib/python3.7/dist-packages (from transformers) (1.21.6)\n",
      "Requirement already satisfied: requests in /usr/local/lib/python3.7/dist-packages (from transformers) (2.23.0)\n",
      "Requirement already satisfied: pyyaml>=5.1 in /usr/local/lib/python3.7/dist-packages (from transformers) (6.0)\n",
      "Requirement already satisfied: huggingface-hub<1.0,>=0.1.0 in /usr/local/lib/python3.7/dist-packages (from transformers) (0.8.1)\n",
      "Requirement already satisfied: tqdm>=4.27 in /usr/local/lib/python3.7/dist-packages (from transformers) (4.64.0)\n",
      "Requirement already satisfied: filelock in /usr/local/lib/python3.7/dist-packages (from transformers) (3.7.1)\n",
      "Requirement already satisfied: importlib-metadata in /usr/local/lib/python3.7/dist-packages (from transformers) (4.12.0)\n",
      "Requirement already satisfied: tokenizers!=0.11.3,<0.13,>=0.11.1 in /usr/local/lib/python3.7/dist-packages (from transformers) (0.12.1)\n",
      "Requirement already satisfied: typing-extensions>=3.7.4.3 in /usr/local/lib/python3.7/dist-packages (from huggingface-hub<1.0,>=0.1.0->transformers) (4.1.1)\n",
      "Requirement already satisfied: pyparsing!=3.0.5,>=2.0.2 in /usr/local/lib/python3.7/dist-packages (from packaging>=20.0->transformers) (3.0.9)\n",
      "Requirement already satisfied: zipp>=0.5 in /usr/local/lib/python3.7/dist-packages (from importlib-metadata->transformers) (3.8.1)\n",
      "Requirement already satisfied: certifi>=2017.4.17 in /usr/local/lib/python3.7/dist-packages (from requests->transformers) (2022.6.15)\n",
      "Requirement already satisfied: chardet<4,>=3.0.2 in /usr/local/lib/python3.7/dist-packages (from requests->transformers) (3.0.4)\n",
      "Requirement already satisfied: idna<3,>=2.5 in /usr/local/lib/python3.7/dist-packages (from requests->transformers) (2.10)\n",
      "Requirement already satisfied: urllib3!=1.25.0,!=1.25.1,<1.26,>=1.21.1 in /usr/local/lib/python3.7/dist-packages (from requests->transformers) (1.24.3)\n"
     ]
    }
   ],
   "source": [
    "!pip install --no-cache-dir transformers sentencepiece\n"
   ]
  },
  {
   "cell_type": "code",
   "execution_count": 2,
   "metadata": {
    "id": "Tms8IjBAUDOL"
   },
   "outputs": [],
   "source": [
    "from transformers import pipeline\n",
    "from bs4 import BeautifulSoup\n",
    "import requests"
   ]
  },
  {
   "cell_type": "code",
   "execution_count": 3,
   "metadata": {
    "colab": {
     "base_uri": "https://localhost:8080/"
    },
    "id": "UeWImlNEUH5w",
    "outputId": "7a714bef-cee5-45db-8488-dd187711c889"
   },
   "outputs": [
    {
     "name": "stderr",
     "output_type": "stream",
     "text": [
      "Some weights of the PyTorch model were not used when initializing the TF 2.0 model TFPegasusForConditionalGeneration: ['lm_head.weight']\n",
      "- This IS expected if you are initializing TFPegasusForConditionalGeneration from a PyTorch model trained on another task or with another architecture (e.g. initializing a TFBertForSequenceClassification model from a BertForPreTraining model).\n",
      "- This IS NOT expected if you are initializing TFPegasusForConditionalGeneration from a PyTorch model that you expect to be exactly identical (e.g. initializing a TFBertForSequenceClassification model from a BertForSequenceClassification model).\n",
      "All the weights of TFPegasusForConditionalGeneration were initialized from the PyTorch model.\n",
      "If your task is similar to the task the model of the checkpoint was trained on, you can already use TFPegasusForConditionalGeneration for predictions without further training.\n"
     ]
    }
   ],
   "source": [
    "from transformers import AutoTokenizer, TFAutoModelForSeq2SeqLM\n",
    "\n",
    "tokenizer = AutoTokenizer.from_pretrained(\"nsi319/legal-pegasus\",Use_fast=False)  \n",
    "model = TFAutoModelForSeq2SeqLM.from_pretrained(\"nsi319/legal-pegasus\",from_pt=True)"
   ]
  },
  {
   "cell_type": "code",
   "execution_count": 4,
   "metadata": {
    "id": "aAImt4TiUKWw"
   },
   "outputs": [],
   "source": [
    "max_chunk = 500"
   ]
  },
  {
   "cell_type": "code",
   "execution_count": 15,
   "metadata": {
    "id": "-yqC7LVIUTeC"
   },
   "outputs": [],
   "source": [
    "summarizer = pipeline(\"summarization\",model='nsi319/legal-pegasus',tokenizer=tokenizer,device=0)\n"
   ]
  },
  {
   "cell_type": "code",
   "execution_count": 16,
   "metadata": {
    "id": "8zl02LodUVe_"
   },
   "outputs": [],
   "source": [
    "l = \"I Discovered It’s Never Too Late to Invest in Bitcoin If You Understand It Bitcoin has gone mainstream. There are some people who hate me for it. I’m getting quite a few people all asking me the same question: “Is it too late to invest in bitcoin?” I don’t think it is. Bitcoin is a paradigm shift in a world that is high on worthless currency printed in excess. The only way to fund our excessive lifestyles is to increase the global debt and pay for it with money printed out of thin air. My approach to bitcoin is different. It’s a little less drastic. I’ve been playing with it for years and have become fascinated by it. The rewards for me understanding bitcoin are now over 17,900%+ on the initial investment. I don’t think I’ve ever made another investment like it. It’s likely I will never make another investment like it for the rest of my life. There may never be another investment like it. The unfortunate psychological challenge when you buy something that performs beyond your wildest dreams is you think to yourself, “I should have bought more.” You can always want more and spend more. But it doesn’t matter. Money has never made me happy. The same is likely true for you. So how do you manage your psychology when bitcoin mania is sweeping the world and it has gone mainstream? How do you cope when it’s trending on twitter, on the front page of every newspaper, being promoted by some of the biggest wall street tycoons in the world, like Paul Tudor Jones? First, you stay calm. You’re never late to anything in life. You’re right on time. What bitcoin has done to date is irrelevant. If you haven’t bought any or don’t understand it then that’s not the issue. The issue is whether you are openminded enough to rethink everything you know about money and investing. If you are, there is opportunity. If your mind is closed, the world is closed, and so are the opportunities. When I first heard about bitcoin, I thought it was a joke. I made fun of my work colleagues who were buying a sandwich with half a bitcoin and loving life. The trouble with bitcoin is it’s not easy to understand. When people don’t understand a concept they quickly dismiss it and call it a scam so they don’t feel stupid. Like I said, bitcoin isn’t normal. It confuses people and that’s what it was designed to do. Bitcoin is a short-circuit in one’s financial thinking. The “Too Late” Mindset Is Toxic The too late mindset isn’t good for your psychology. It makes you feel like shit. When people think about bitcoin I quickly see them become disappointed. They wish they had listened earlier. Or they wish they had bought at least one bitcoin when the price was lower. The problem with bitcoin is you can never buy at a good price. Why? Bitcoin keeps being the best-performing asset each year, and is now the best performing asset of the decade. Think about that. This is the superpower of bitcoin. It doesn’t matter when you buy it. What matters is that you do eventually. We’re taught to buy assets at a low price and sell them at a higher price. What if this was industrial age factory worker thinking? The best time to buy bitcoin is when you decide to. The reason is, bitcoin has a fixed supply of coins and predictable code built into it that tells you its future. You don’t have to be a genius to understand bitcoin’s future price. A Dutch institutional investor known as Plan B created a stock to flow model which helps investors understand where the price is going based on the hard-coded, predictable monetary policy of bitcoin. Once you understand stock to flow, then you’ll understand the overwhelming dollar value of guaranteed scarcity. Forget the price. What’s the opportunity? I want to shake up your thinking. The opportunity of bitcoin has nothing to do with price. Bitcoin solves a problem. The current value of the circulating supply of bitcoin is roughly $355 billion. The current value of the world’s supply of gold is about $9 trillion. The current value of the world’s supply of derivatives (a popular financial instrument people dump money into) is $640 trillion. The current value of the world’s supply of stocks is $95 trillion. If only a small amount of money moves out of one of these asset classes and into bitcoin then the price will skyrocket. Investment firms are buying bitcoin, not because they want to, but because they have to. There are very few places you can put your money and get a return. There are even fewer places you can put your money to store it safely in the event of a downturn or recession. I don’t personally care about the bitcoin price. I care about the problem it solves and whether over the long-term there is a financial return likely to occur for doing so. The worst way to invest as an everyday person is for the short term. One of my early investments in bitcoin was short term. I bought a lot and then sold it when the price crashed in 2017. That short-term thinking has meant I’m working a few years longer than I need to. I would be retired if I still had all the bitcoin I owned in 2017. I’m okay with that. My investor psychology was weak back then. I needed to see a few 50% drops to learn my lesson. The March 2020 covid crash was certainly a good test, and I passed without selling any bitcoin. Thinking about the assets you invest in over the long term helps reduce your stress levels. You’re less worried about whether it’s “too late” or “is now a good time” and focused on doing your research and understanding what you’re buying. This phrase sums it up better than I could: Time in the market beats timing the market. Euphoria Is Coming It’s going to be bad for your psychology. When euphoria hits an asset like bitcoin, people lose their minds and throw a wall of money at it. How do I know? I lived through the euphoric phase of bitcoin back in 2017. People I worked with went from IT professionals to wild gamblers in a day. Every computer screen in my office at one point was showing the bitcoin price. One guy in the office mortgaged his house to buy bitcoin. The problem ended up being rather unusual: people didn’t buy bitcoin. They bought shitcoins that were worth less than $1, thinking they’d get rich. That’s what euphoria can do to people’s thinking. It isn’t pleasant to watch — and it will happen again. The use-case for bitcoin was born during the pandemic. This is going to create ongoing euphoria. With Citibank throwing numbers out like $318,000 USD per bitcoin, and the price going over the all-time high of $20,000 USD per coin, people are guaranteed to collapse on the ground with a case of FOMO. What can you do about it? Stay calm. Your life won’t end if you don’t buy bitcoin. Take your time and research it. Start by reading the book, “The Bitcoin Standard” and go from there. Patience always wins when it comes to investing. The Risk of Bitcoin You Must Understand Nothing you put your money in is perfect. The biggest risk of bitcoin has always been the potential for it to be banned. In 2017, the risk was enormous. Over time that risk has decreased as more and more adopters of the technology — like PayPal and payments company, Square — have offered the product to their customers. The likelihood of bitcoin getting banned is almost zero. What will happen to bitcoin, though, is regulation. Regulation just means you will have to be identified when you buy and sell bitcoin. Unless you’re a drug dealer breaking the law, regulation is good for your investments. With more regulation comes more opportunities for legitimate wall street firms to invest their money in bitcoin and use it for what it was made for: a store of value. The other risk is your coins get stolen. The old school way to fix that issue is to purchase a Trezor or Ledger to store your coins in. I’m going to give you the non-technical definition of a hardware wallet: A hardware wallet takes your bitcoin off the internet. When your coins are off the internet nobody can access them except you. This is how you stay safe and prevent a Russian hacker from stealing your coins while you drink your early morning coffee by the jacuzzi. What’s the Difference Between Gold and Bitcoin? Scarcity is the one attribute both bitcoin and gold have. The issue is, the scarcity of gold is controlled by humans. The scarcity of bitcoin is controlled by nobody and can’t be changed. Every year the gold supply increases by roughly 2%, as new gold is discovered and mined. With oil, humans invented a technological advancement called fracking which became popular in 1949. Humans could invent more ways to mine gold. We could also throw lots of money at gold to mine more of it. The final option is to mine asteroids for gold. Doomsdayers say that if NASA decided to bring an asteroid home with them from space it would “destroy commodity prices and cause the world’s economy — worth $75.5 trillion — to collapse.” I think this is ridiculous. Humans may mine asteroids for gold but it’s probably a long way away and incredibly difficult to do. I don’t see the downfall of gold coming anytime soon. But I do see the 2% increase in the supply of gold every year as an unfortunate feature of the metal. The speculation over banks manipulating the gold price is another factor to consider when thinking about the difference between bitcoin and gold. Bitcoin is different to gold. It’s understood by digitally savvy millennials and doesn’t require a safe to store it in or muscly arms to hold it. There is no one owner of bitcoin. You can’t rip Zucks out of bed when he’s butt-naked and drag him to court so you can sue him over your grievances with facebook. There isn’t a human or company to sue when it comes to bitcoin. Bitcoin’s supply is fixed.Bitcoin technology is owned by nobody.Bitcoin’s inflation rate is locked and guarded by code.Bitcoin has no ego because no billionaire owns it. Bitcoin is an egoless, non-existent company. The game-changer with bitcoin is the network is owned by the users. Users own and give the technology value. Venture capitalists, bankers, and politicians don’t get to give bitcoin a permission slip or approve its use. Every person from every country in the world gets to vote on bitcoin with their smartphone by buying it. How to Think About Bitcoin Safely Ric Edelman, founder of RIA Digital Assets Council, makes the idea of investing in bitcoin easy. He recommends to his clients as a financial advisor to consider a 1% allocation in bitcoin. If you have $10,000 in savings, then consider a $100 investment in bitcoin. He says if you had invested 1% of your money in bitcoin in 2020, then it would have lifted everything you’d invested in by 25%. Now my approach is different. I’ve spent more than five years understanding how bitcoin works so my allocation is a lot more aggressive than 1%. But if you have no idea and want to access the benefits of bitcoin, then a 1% investment is hard to look past. Iconic hedge fund managers like Raoul Pal use a dead-simple approach: dollar-cost averaging. Here’s how to do it. Step 1: Decide on how much bitcoin you’re going to buy every month. Let’s say you decide on $100. Step 2: In the first month, invest $100 into bitcoin. The price might be at an all-time high. Step 3: In the second month, invest $100 into bitcoin. The price might be at an all-time low. Step 4: In the third month, invest $100 into bitcoin. The price might be going up again. Step 5: Keep investing $100 every month until you’ve reached your desired investment amount (let’s say your desired amount is 1% of all your money goes into bitcoin). With this approach you can smooth out the price you get into bitcoin at without stressing and losing your mind. Some months the price will be high, and some months the price will be low. Just like a savings account, you don’t care. You lock your money away and let it be protected by code, not humans. It Isn’t Too Late to Buy Bitcoin. It’s not time to panic.It’s time to digitally upgrade your financial education. Physical cash in your wallet and nuggets of gold you take inside with a wheelbarrow is the pre-digital financial world. The world of money is a long way behind advances in technology. Bitcoin is trying to catch the financial world up with the digital narrative, so we can use the phone in our pocket to go about our day and store our money without its value being secretly eroded away and taxed by inflation, by the pinstripe suit club. If you’ve been thinking about bitcoin, do your research. Go down the rabbit hole. Avoid FOMO. Stay away from the hype. Understand the problem it solves, intimately. Get to know bitcoin like you would a new lover you invite into your bed to shag. The best time to buy bitcoin is when you understand it and see its value. This article is for informational purposes only, it should not be considered Financial or Legal Advice. Consult a financial professional before making any major financial decisions. A community of storytellers documenting the journey to happiness and fulfillment. 3.4K  33  3.4K\\xa0claps 3.4K\\xa0claps 33 responses Written by Aussie Blogger with 100M+ views — Writer for CNBC & Business Insider. Inspiring the world through Personal Development and Entrepreneurship — timdenning.com/wc A community of storytellers documenting the journey to happiness & fulfillment. Join thousands of others making the climb on Medium. Written by Aussie Blogger with 100M+ views — Writer for CNBC & Business Insider. Inspiring the world through Personal Development and Entrepreneurship — timdenning.com/wc A community of storytellers documenting the journey to happiness & fulfillment. Join thousands of others making the climb on Medium. Medium is an open platform where 170 million readers come to find insightful and dynamic thinking. Here, expert and undiscovered voices alike dive into the heart of any topic and bring new ideas to the surface. Learn more Follow the writers, publications, and topics that matter to you, and you’ll see them on your homepage and in your inbox. Explore If you have a story to tell, knowledge to share, or a perspective to offer — welcome home. It’s easy and free to post your thinking on any topic. Write on Medium About Help Legal Get the Medium app\""
   ]
  },
  {
   "cell_type": "code",
   "execution_count": 17,
   "metadata": {
    "id": "MtHdUtoBVKSy"
   },
   "outputs": [],
   "source": [
    "ARTICLE = l"
   ]
  },
  {
   "cell_type": "code",
   "execution_count": 18,
   "metadata": {
    "colab": {
     "base_uri": "https://localhost:8080/"
    },
    "id": "37_haan5VPI0",
    "outputId": "0d1f7c97-0697-4468-ecf2-2fa45dc2535a"
   },
   "outputs": [
    {
     "name": "stdout",
     "output_type": "stream",
     "text": [
      "0\n"
     ]
    }
   ],
   "source": [
    "ARTICLE = ARTICLE.replace('.', '.<eos>')\n",
    "ARTICLE = ARTICLE.replace('?', '?<eos>')\n",
    "ARTICLE = ARTICLE.replace('!', '!<eos>')\n",
    "\n",
    "sentences = ARTICLE.split('<eos>')\n",
    "current_chunk = 0 \n",
    "chunks = []\n",
    "for sentence in sentences:\n",
    "    if len(chunks) == current_chunk + 1: \n",
    "        if len(chunks[current_chunk]) + len(sentence.split(' ')) <= max_chunk:\n",
    "            chunks[current_chunk].extend(sentence.split(' '))\n",
    "        else:\n",
    "            current_chunk += 1\n",
    "            chunks.append(sentence.split(' '))\n",
    "    else:\n",
    "        print(current_chunk)\n",
    "        chunks.append(sentence.split(' '))\n",
    "\n",
    "for chunk_id in range(len(chunks)):\n",
    "    chunks[chunk_id] = ' '.join(chunks[chunk_id])"
   ]
  },
  {
   "cell_type": "code",
   "execution_count": 21,
   "metadata": {
    "colab": {
     "base_uri": "https://localhost:8080/"
    },
    "id": "KZx_-dcccPg7",
    "outputId": "dd18ed9b-38a3-4df3-893b-eccc48bb8d0f"
   },
   "outputs": [
    {
     "data": {
      "text/plain": [
       "2586"
      ]
     },
     "execution_count": 21,
     "metadata": {},
     "output_type": "execute_result"
    }
   ],
   "source": [
    "len(chunks)"
   ]
  },
  {
   "cell_type": "code",
   "execution_count": 19,
   "metadata": {
    "colab": {
     "base_uri": "https://localhost:8080/"
    },
    "id": "o4iRtPa8VPq5",
    "outputId": "ac570291-593a-42f9-e790-21ef7ce890ab"
   },
   "outputs": [
    {
     "name": "stderr",
     "output_type": "stream",
     "text": [
      "Your max_length is set to 512, but you input_length is only 289. You might consider decreasing max_length manually, e.g. summarizer('...', max_length=144)\n"
     ]
    }
   ],
   "source": [
    "res = summarizer(chunks, max_length=512, min_length=30, do_sample=False)"
   ]
  },
  {
   "cell_type": "code",
   "execution_count": 22,
   "metadata": {
    "id": "myN2mBw8bsDd"
   },
   "outputs": [],
   "source": [
    "text = ' '.join([summ['summary_text'] for summ in res])\n",
    "# with open('/media/anubhav/New Volume/vidhaan/ai_models/judgement_summary/summary.txt', 'w') as f:\n",
    "#     f.write(text)"
   ]
  },
  {
   "cell_type": "code",
   "execution_count": 23,
   "metadata": {
    "colab": {
     "base_uri": "https://localhost:8080/"
    },
    "id": "P7hvLGp8ccZK",
    "outputId": "727aea31-1f9b-4d61-8e63-26b776a71c90"
   },
   "outputs": [
    {
     "name": "stdout",
     "output_type": "stream",
     "text": [
      "The rewards for me understanding bitcoin are now over 17,900%+ on the initial investment. I don't think I've ever made another investment like it for the rest of my life. It's likely I will never make another investment like it for the rest of my life.<n>The problem with bitcoin is it's not easy to understand. When people don't understand a concept they quickly dismiss it and call it a scam so they don't feel stupid. Like I said, bitcoin isn't normal. It confuses people and that's what it was designed to do. Bitcoin is a short-circuit in one's financial thinking. It makes you feel like shit. The too late mindset isn't good for your psychology. It makes you feel like shit. The current value of the circulating supply of bitcoin is roughly $355 billion. The current value of the world’s supply of gold is about $9 trillion. The current value of the world’s supply of derivatives (a popular financial instrument people dump money into) is $640 trillion. The current value of the world’s supply of stocks is $95 trillion. If only a small amount of money moves out of one of these asset classes and into bitcoin then the price will skyrocket. When euphoria hits an asset like bitcoin, people lose their minds and throw a wall of money at it. This is going to be bad for your psychology. With Citibank throwing numbers out like $318,000 USD per bitcoin, and the price going over the all-time high of $20,000 USD per coin, people are guaranteed to collapse on the ground with a case of FOMO. Your life won't end if you don't buy bitcoin. Take your time and research it. Patience always wins when it comes to investing. The biggest risk of bitcoin has always been the potential for it to be banned. In 2017, the risk was enormous. Over time that risk has decreased as more and more adopters of the technology have offered the product to their customers. The likelihood of bitcoin getting banned is almost zero. What will happen to bitcoin, though, is regulation. Regulation just means you will have to be identified when you buy and sell bitcoin. Unless you're a drug dealer breaking the law, regulation is good for your investments. With more regulation comes more opportunities for legitimate wall street firms to invest their money in bitcoin and use it for what it was made for: a store of value. The other risk is your coins get stolen. The old school way to fix that issue is to purchase a Trezor or Ledger to store your coins in. When your coins are off the internet nobody can access them except you. This is how you stay safe and prevent a Russian hacker from stealing your coins while you drink your early morning coffee by the jacuzzi. The issue is, the scarcity of gold is controlled by humans. The scarcity of bitcoin is controlled by nobody and can't be changed. The final option is to mine asteroids for gold. I don't see the downfall of gold coming anytime soon. But I do see the 2% increase in the supply of gold every year as an unfortunate feature of the metal. The speculation over banks manipulating the gold price is another factor to consider when thinking about the difference between bitcoin and gold. Bitcoin is understood by digitally savvy millennials and doesn't require a safe to store it in or muscly arms to hold it. There is no one owner of bitcoin. You can't rip Zucks out of bed when he's butt-naked and drag him to court so you can sue him over your grievances with facebook. There isn't a human or company to sue when it comes to bitcoin. Bitcoin technology is owned by nobody. Bitcoin's inflation rate is locked and guarded by code. Bitcoin is an egoless, non-existent company. The game-changer with bitcoin is the network is owned by the users. Users own and give the technology value. If you have $10,000 in savings, then consider a $100 investment in bitcoin. If you had invested 1% of your money in bitcoin in 2020, then it would have lifted everything you'd invested in by 25%. But if you have no idea and want to access the benefits of bitcoin, then a 1% investment is hard to look past. Iconic hedge fund managers like Raoul Pal use a dead-simple approach: dollar-cost averaging. Here's how to do it. Step 1: Decide on how much bitcoin you're going to buy every month. Step 2: In the first month, invest $100 into bitcoin. The price might be at an all-time high. Step 3: In the second month, invest $100 into bitcoin. The price might be at an all-time low. Step 4: In the third month, invest $100 into bitcoin. The price might be going up again. Step 5: Keep investing $100 every month until you've reached your desired investment amount. With this approach you can smooth out the price you get into bitcoin at without stressing and losing your mind. Some months the price will be high, and some months the price will be low. Just like a savings account, you don't care. Just like a savings account, you lock your money away and let it be protected by code, not humans. A community of storytellers documenting the journey to happiness and fulfillment. Join thousands of others making the climb on Medium.<n>A community of storytellers documenting the journey to happiness and fulfillment. Join thousands of others making the climb on Medium.\n"
     ]
    }
   ],
   "source": [
    "print(text)"
   ]
  },
  {
   "cell_type": "code",
   "execution_count": null,
   "metadata": {
    "id": "wa0d2MTdceCj"
   },
   "outputs": [],
   "source": []
  }
 ],
 "metadata": {
  "accelerator": "GPU",
  "colab": {
   "name": "Judgement summary.ipynb",
   "provenance": []
  },
  "gpuClass": "standard",
  "kernelspec": {
   "display_name": "Python 3",
   "language": "python",
   "name": "python3"
  },
  "language_info": {
   "codemirror_mode": {
    "name": "ipython",
    "version": 3
   },
   "file_extension": ".py",
   "mimetype": "text/x-python",
   "name": "python",
   "nbconvert_exporter": "python",
   "pygments_lexer": "ipython3",
   "version": "3.7.12"
  }
 },
 "nbformat": 4,
 "nbformat_minor": 1
}

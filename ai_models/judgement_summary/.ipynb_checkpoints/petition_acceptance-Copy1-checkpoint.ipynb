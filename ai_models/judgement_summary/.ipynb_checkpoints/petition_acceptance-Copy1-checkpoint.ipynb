{
 "cells": [
  {
   "cell_type": "code",
   "execution_count": 1,
   "id": "314a5e09",
   "metadata": {},
   "outputs": [],
   "source": [
    "#ref:- ILDC CJPE GITHUB"
   ]
  },
  {
   "cell_type": "code",
   "execution_count": 2,
   "id": "283377d9",
   "metadata": {},
   "outputs": [],
   "source": [
    "import pandas as pd"
   ]
  },
  {
   "cell_type": "code",
   "execution_count": 3,
   "id": "b7b21176",
   "metadata": {},
   "outputs": [],
   "source": [
    "df = pd.read_csv(\"/media/anubhav/New Volume/vidhaan/dataset/data/ILDC_single/ILDC_single.csv\")"
   ]
  },
  {
   "cell_type": "code",
   "execution_count": 4,
   "id": "35ae6488",
   "metadata": {},
   "outputs": [],
   "source": [
    "NUM_CLASSES = 2\n",
    "n_epochs = 20\n"
   ]
  },
  {
   "cell_type": "code",
   "execution_count": 5,
   "id": "eb6e127f",
   "metadata": {},
   "outputs": [],
   "source": [
    "train_set = df.query(\" split=='train' \")\n",
    "test_set = df.query(\" split=='test' \")\n",
    "val_set = df.query(\" split=='dev' \")"
   ]
  },
  {
   "cell_type": "code",
   "execution_count": 6,
   "id": "ae9c6ee1",
   "metadata": {},
   "outputs": [],
   "source": [
    "del train_set['split'],train_set['name'],val_set['split'],val_set['name'],test_set['split'],test_set['name']"
   ]
  },
  {
   "cell_type": "code",
   "execution_count": 9,
   "id": "393087f2",
   "metadata": {},
   "outputs": [],
   "source": [
    "train_set.to_csv('/media/anubhav/New Volume/vidhaan/petition_acceptance/petition_data.csv',index=False)"
   ]
  },
  {
   "cell_type": "code",
   "execution_count": 6,
   "id": "ca3483ea",
   "metadata": {},
   "outputs": [
    {
     "data": {
      "text/html": [
       "<div>\n",
       "<style scoped>\n",
       "    .dataframe tbody tr th:only-of-type {\n",
       "        vertical-align: middle;\n",
       "    }\n",
       "\n",
       "    .dataframe tbody tr th {\n",
       "        vertical-align: top;\n",
       "    }\n",
       "\n",
       "    .dataframe thead th {\n",
       "        text-align: right;\n",
       "    }\n",
       "</style>\n",
       "<table border=\"1\" class=\"dataframe\">\n",
       "  <thead>\n",
       "    <tr style=\"text-align: right;\">\n",
       "      <th></th>\n",
       "      <th>text</th>\n",
       "      <th>label</th>\n",
       "    </tr>\n",
       "  </thead>\n",
       "  <tbody>\n",
       "    <tr>\n",
       "      <th>0</th>\n",
       "      <td>F. NARIMAN, J. Leave granted. In 2008, the Pu...</td>\n",
       "      <td>1</td>\n",
       "    </tr>\n",
       "    <tr>\n",
       "      <th>1</th>\n",
       "      <td>S. THAKUR, J. Leave granted. These appeals ar...</td>\n",
       "      <td>0</td>\n",
       "    </tr>\n",
       "    <tr>\n",
       "      <th>2</th>\n",
       "      <td>Markandey Katju, J. Leave granted. Heard lear...</td>\n",
       "      <td>1</td>\n",
       "    </tr>\n",
       "    <tr>\n",
       "      <th>3</th>\n",
       "      <td>ALTAMAS KABIR,J. Leave granted. The question ...</td>\n",
       "      <td>1</td>\n",
       "    </tr>\n",
       "    <tr>\n",
       "      <th>4</th>\n",
       "      <td>CIVIL APPEAL NO. 598 OF 2007 K. MATHUR, J. Th...</td>\n",
       "      <td>1</td>\n",
       "    </tr>\n",
       "    <tr>\n",
       "      <th>5</th>\n",
       "      <td>O R D E R CIVIL APPEAL NOS. 85-86 OF 2002 Thes...</td>\n",
       "      <td>0</td>\n",
       "    </tr>\n",
       "    <tr>\n",
       "      <th>6</th>\n",
       "      <td>O R D E R Arising out of S.L.P C  No.3358 of ...</td>\n",
       "      <td>1</td>\n",
       "    </tr>\n",
       "    <tr>\n",
       "      <th>7</th>\n",
       "      <td>SANTOSH HEGDE, J. Noticing certain companytra...</td>\n",
       "      <td>0</td>\n",
       "    </tr>\n",
       "    <tr>\n",
       "      <th>8</th>\n",
       "      <td>2004  3   SCR 534 WITH W.P.  C  No. 852/91, C...</td>\n",
       "      <td>0</td>\n",
       "    </tr>\n",
       "    <tr>\n",
       "      <th>9</th>\n",
       "      <td>Arising out SLP  c  No. 16202 of 2003  With ...</td>\n",
       "      <td>1</td>\n",
       "    </tr>\n",
       "  </tbody>\n",
       "</table>\n",
       "</div>"
      ],
      "text/plain": [
       "                                                text  label\n",
       "0   F. NARIMAN, J. Leave granted. In 2008, the Pu...      1\n",
       "1   S. THAKUR, J. Leave granted. These appeals ar...      0\n",
       "2   Markandey Katju, J. Leave granted. Heard lear...      1\n",
       "3   ALTAMAS KABIR,J. Leave granted. The question ...      1\n",
       "4   CIVIL APPEAL NO. 598 OF 2007 K. MATHUR, J. Th...      1\n",
       "5  O R D E R CIVIL APPEAL NOS. 85-86 OF 2002 Thes...      0\n",
       "6   O R D E R Arising out of S.L.P C  No.3358 of ...      1\n",
       "7   SANTOSH HEGDE, J. Noticing certain companytra...      0\n",
       "8   2004  3   SCR 534 WITH W.P.  C  No. 852/91, C...      0\n",
       "9    Arising out SLP  c  No. 16202 of 2003  With ...      1"
      ]
     },
     "execution_count": 6,
     "metadata": {},
     "output_type": "execute_result"
    }
   ],
   "source": [
    "train_set.head(10)"
   ]
  },
  {
   "cell_type": "code",
   "execution_count": 7,
   "id": "6c7c99ec",
   "metadata": {},
   "outputs": [],
   "source": [
    "x_train = train_set['text']\n",
    "y_train = train_set['label']\n",
    "\n",
    "x_test = test_set['text']\n",
    "y_test = test_set['label']\n",
    "\n",
    "x_val = val_set['text']\n",
    "y_val = val_set['label']"
   ]
  },
  {
   "cell_type": "code",
   "execution_count": 8,
   "id": "b20cd057",
   "metadata": {},
   "outputs": [],
   "source": [
    "del train_set,val_set,test_set"
   ]
  },
  {
   "cell_type": "code",
   "execution_count": 9,
   "id": "025daf98",
   "metadata": {},
   "outputs": [
    {
     "data": {
      "text/plain": [
       "0       28354\n",
       "1       31637\n",
       "2       18402\n",
       "3       20133\n",
       "4       28326\n",
       "        ...  \n",
       "5077    21900\n",
       "5078     6574\n",
       "5079     6998\n",
       "5080     5042\n",
       "5081     2871\n",
       "Name: text, Length: 5082, dtype: int64"
      ]
     },
     "execution_count": 9,
     "metadata": {},
     "output_type": "execute_result"
    }
   ],
   "source": [
    "x_train.str.len()"
   ]
  },
  {
   "cell_type": "code",
   "execution_count": 10,
   "id": "5d62fbd6",
   "metadata": {},
   "outputs": [
    {
     "data": {
      "text/plain": [
       "<tf.Tensor: shape=(1, 768), dtype=float32, numpy=\n",
       "array([[ 1.08269259e-01, -9.16296169e-02, -3.19652617e-01,\n",
       "        -1.70691609e-02,  3.34133714e-01,  2.00266346e-01,\n",
       "        -2.46935949e-01, -5.43310463e-01, -3.56957167e-01,\n",
       "        -2.97796637e-01, -2.08980471e-01,  1.42026097e-01,\n",
       "         2.72502378e-02, -4.33980823e-01, -5.73599935e-01,\n",
       "        -8.82728934e-01,  2.37143964e-01, -1.87127888e-01,\n",
       "        -2.56524235e-01, -2.46629849e-01,  6.32454276e-01,\n",
       "         1.21353403e-01, -3.95606637e-01,  1.58425614e-01,\n",
       "        -6.60170689e-02, -1.00859642e+00,  3.03424656e-01,\n",
       "         2.40533184e-02, -9.84722450e-02, -6.36505723e-01,\n",
       "         1.15401939e-01, -7.62529016e-01, -5.43886602e-01,\n",
       "        -4.67391998e-01, -6.24043286e-01,  2.63592631e-01,\n",
       "        -4.41221118e-01,  6.62037209e-02, -3.88788283e-01,\n",
       "         1.61614940e-02,  1.15523271e-01, -4.35086548e-01,\n",
       "        -5.12637436e-01,  2.74717063e-01, -3.44000697e-01,\n",
       "        -1.88089922e-01,  1.52751924e-02, -3.23565662e-01,\n",
       "         3.03293556e-01,  3.83590519e-01,  3.73140007e-01,\n",
       "         1.05662203e+00,  2.65405357e-01, -2.77808189e-01,\n",
       "         6.00600317e-02,  9.51381996e-02,  1.53987827e-02,\n",
       "        -3.05229813e-01,  2.57458955e-01, -2.20640972e-01,\n",
       "        -3.19689125e-01, -4.33157504e-01, -1.83581412e-01,\n",
       "        -5.61815977e-01, -3.60706598e-01, -1.27185136e-02,\n",
       "        -2.26824179e-01, -4.15556073e-01, -1.52611703e-01,\n",
       "        -4.75151718e-01, -8.22973967e-01, -7.81014800e-01,\n",
       "         1.13984376e-01, -3.97321314e-01, -1.61369994e-01,\n",
       "        -1.50216660e-02, -3.85155320e-01, -1.41645297e-01,\n",
       "        -5.67433476e-01, -1.96933612e-01,  9.26954001e-02,\n",
       "         3.41263866e+00, -4.40866798e-01, -3.74857128e-01,\n",
       "         3.05707127e-01,  9.27159861e-02, -1.75334513e-01,\n",
       "        -1.90602526e-01,  2.08361462e-01,  1.57442868e-01,\n",
       "        -2.96183378e-01,  5.33570707e-01, -4.92963850e-01,\n",
       "        -6.09962821e-01,  7.23476931e-02, -2.35900968e-01,\n",
       "        -4.35635448e-01,  2.84979790e-01, -1.12737700e-01,\n",
       "        -8.74458179e-02,  1.06023222e-01, -2.77983516e-01,\n",
       "         4.13429588e-02, -8.70153084e-02,  6.58436179e-01,\n",
       "        -2.40862191e-01, -3.30954671e-01, -2.05701813e-01,\n",
       "         7.51762316e-02,  1.29355928e-02, -9.85727459e-02,\n",
       "        -1.16354994e-01,  8.02327767e-02,  2.37922654e-01,\n",
       "        -2.28398472e-01,  4.86106992e-01, -2.93943197e-01,\n",
       "         2.02164307e-01, -2.21727371e-01,  3.97713304e-01,\n",
       "        -1.21958710e-01, -1.49668530e-01,  1.49841920e-01,\n",
       "        -2.35190725e+00, -2.80008703e-01,  4.76798892e-01,\n",
       "         2.38757744e-01, -1.85721949e-01,  1.89203531e-01,\n",
       "        -1.34296358e-01,  5.39197065e-02,  8.31942335e-02,\n",
       "        -3.04814875e-01, -3.19169730e-01, -3.75501513e-01,\n",
       "        -1.86103538e-01, -1.66042939e-01, -3.35772246e-01,\n",
       "         1.98825300e-01,  1.06204227e-01,  2.22116292e-01,\n",
       "         1.69316247e-01, -8.01409557e-02,  5.85858941e-01,\n",
       "        -4.21976924e-01,  1.92272693e-01, -1.17814258e-01,\n",
       "         5.07525541e-02, -6.33543730e-03, -2.58770347e-01,\n",
       "        -1.55983254e-01, -9.29404497e-02, -1.29259303e-01,\n",
       "        -1.86782330e-01, -4.52822030e-01, -3.72046344e-02,\n",
       "        -1.79112405e-01,  7.37308264e-01, -2.70774335e-01,\n",
       "         6.77011907e-02, -4.02352661e-01,  3.56926054e-01,\n",
       "        -1.24753937e-01, -1.35014221e-01, -4.02243793e-01,\n",
       "        -2.08426282e-01, -1.80958822e-01, -1.68644980e-01,\n",
       "        -4.42371637e-01, -2.91358560e-01, -3.87244344e-01,\n",
       "        -2.18316764e-01, -1.20590203e-01,  1.26221836e-01,\n",
       "         2.22632825e-01,  4.13879484e-01, -3.56124431e-01,\n",
       "        -5.81821501e-01, -4.61166799e-01,  3.83982658e-01,\n",
       "        -2.19285041e-01,  4.97522622e-01, -2.60479059e-02,\n",
       "        -3.52640748e-01, -1.38495147e-01, -2.48728007e-01,\n",
       "        -6.27778396e-02,  2.00329766e-01, -7.88270175e-01,\n",
       "         1.19192228e-01,  1.42032370e-01, -6.05769932e-01,\n",
       "         6.37908578e-02, -2.26174071e-01, -6.35088503e-01,\n",
       "         3.88163716e-01, -3.55442524e-01, -8.75470757e-01,\n",
       "         1.42647848e-01, -6.87846988e-02, -5.20077050e-01,\n",
       "         1.39270931e-01,  3.53218555e-01, -4.94885772e-01,\n",
       "        -2.22825870e-01, -3.46113324e-01,  2.55098976e-02,\n",
       "        -3.59312564e-01, -3.39053482e-01, -5.22466153e-02,\n",
       "        -5.30674040e-01, -5.25370501e-02,  5.55585027e-01,\n",
       "        -5.38592458e-01,  6.42333403e-02, -6.47422552e-01,\n",
       "        -4.31252748e-01, -6.47714660e-02, -3.78567815e-01,\n",
       "         3.19087207e-01,  1.58831656e-01, -4.33930047e-02,\n",
       "        -1.97739646e-01,  2.61362106e-01, -6.11117065e-01,\n",
       "        -7.43353903e-01, -8.40410113e-01, -2.52397686e-01,\n",
       "         6.84558302e-02,  5.17156303e-01, -2.68190205e-01,\n",
       "         1.09282754e-01, -1.45635128e-01, -3.55043620e-01,\n",
       "        -1.29663810e-01,  1.52991176e+00,  1.95044518e-01,\n",
       "        -4.62971866e-01, -5.01527965e-01, -1.48183048e-01,\n",
       "         9.83452499e-02, -3.73080522e-01, -1.57468617e-01,\n",
       "        -2.43043229e-01, -1.59453064e-01,  9.99960005e-02,\n",
       "        -3.64763513e-02,  3.51281822e-01,  1.44407317e-01,\n",
       "         2.42307693e-01, -7.36036479e-01, -5.60945570e-01,\n",
       "        -1.87428325e-01,  3.36207777e-01, -4.80296731e-01,\n",
       "        -3.68308872e-01, -5.68377316e-01, -4.56658095e-01,\n",
       "        -7.02095568e-01, -1.54308388e-02,  3.06935042e-01,\n",
       "         2.63165295e-01,  3.38008106e-01,  9.23087969e-02,\n",
       "        -4.15672213e-01, -3.40315491e-01, -1.73356795e+00,\n",
       "         5.65597229e-02, -4.55608964e-01,  1.12783425e-01,\n",
       "        -2.25903347e-01,  2.04137042e-01,  3.44312489e-01,\n",
       "         2.50561871e-02,  9.63601246e-02, -7.12236837e-02,\n",
       "         1.45250276e-01, -4.04904395e-01, -2.34392490e-02,\n",
       "        -2.50297606e-01, -9.20384973e-02,  2.23543033e-01,\n",
       "        -1.35792649e+00, -3.98427695e-01, -6.01878703e-01,\n",
       "        -7.61916339e-02, -2.64523417e-01, -4.41331238e-01,\n",
       "         4.81944717e-02,  3.58299315e-01, -1.33150601e+00,\n",
       "         2.17102934e-02,  1.53144255e-01, -4.04417962e-01,\n",
       "        -5.83852887e-01, -7.22645700e-01,  3.77292559e-02,\n",
       "        -5.03761649e-01,  1.83342934e-01, -5.16863633e-03,\n",
       "         2.33440891e-01, -4.99748647e-01,  6.85963929e-01,\n",
       "        -7.93866292e-02,  3.08637828e-01, -1.59952343e-01,\n",
       "        -5.87115169e-01, -2.52798468e-01, -2.85169542e-01,\n",
       "         1.18621655e-01,  2.65130490e-01,  6.61573634e-02,\n",
       "         3.45351025e-02, -6.27704203e-01, -4.70491618e-01,\n",
       "        -3.76359880e-01, -1.35674506e-01, -3.00187379e-01,\n",
       "        -4.05925244e-01,  4.01474237e-02, -4.80753511e-01,\n",
       "        -6.21602237e-01, -7.45006129e-02, -8.79777610e-01,\n",
       "         1.89425558e-01,  5.04526019e-01, -2.83185869e-01,\n",
       "        -5.44335127e-01, -1.37116879e-01,  2.96509355e-01,\n",
       "        -2.39187434e-01,  1.59068525e-01,  3.14902574e-01,\n",
       "        -4.26552892e-01, -4.28237587e-01,  1.53175607e-01,\n",
       "        -4.79634285e-01, -1.42727435e-01, -2.89245993e-01,\n",
       "         3.99240911e-01, -3.32198739e-01, -2.85584237e-02,\n",
       "        -6.20941043e-01, -1.69071838e-01, -2.96478182e-01,\n",
       "        -1.12306774e+00, -5.29507935e-01,  1.20835865e+00,\n",
       "        -4.32094693e-01, -8.64039660e-02, -3.50380829e-03,\n",
       "        -1.35400221e-01, -3.38872552e-01, -2.52411097e-01,\n",
       "         9.61906239e-02,  4.19668943e-01, -2.71689713e-01,\n",
       "        -1.45881668e-01,  1.23759635e-01,  2.13959083e-01,\n",
       "         1.59111321e-01,  3.57742399e-01, -1.14355588e+00,\n",
       "        -8.31823573e-02,  6.55236542e-01, -2.34257370e-01,\n",
       "         6.68020487e-01, -3.47833097e-01, -6.14470653e-02,\n",
       "         1.16835915e-01, -3.47784340e-01, -1.11869462e-01,\n",
       "        -5.78172922e-01, -1.45530328e-01,  2.53924221e-01,\n",
       "         2.52304018e-01, -3.85980278e-01,  2.52888829e-01,\n",
       "        -1.17506094e-01, -4.99595821e-01,  6.26748875e-02,\n",
       "        -2.16236501e-03, -3.49671870e-01,  2.32552260e-01,\n",
       "        -9.08971727e-02, -6.51567057e-02, -2.55360991e-01,\n",
       "         6.48919716e-02, -3.53196353e-01, -6.00122571e-01,\n",
       "        -7.58729339e-01,  1.76420942e-01, -7.12873638e-02,\n",
       "        -2.55982518e-01, -2.59139597e-01, -7.13042393e-02,\n",
       "        -5.95093891e-02, -3.06402057e-01, -2.96071351e-01,\n",
       "        -1.00795396e-01,  1.87205315e-01, -1.47629380e-02,\n",
       "        -6.01508796e-01, -3.39255601e-01,  3.23090076e-01,\n",
       "         7.57318556e-01, -2.00506017e-01, -5.29879272e-01,\n",
       "         6.48645833e-02,  4.61982638e-02, -4.58673507e-01,\n",
       "        -2.86637574e-01,  2.50962049e-01, -6.18168712e-01,\n",
       "         4.05809939e-01, -6.87813610e-02,  4.24551189e-01,\n",
       "        -6.21736199e-02, -3.39808941e-01, -9.69121993e-01,\n",
       "        -9.13548023e-02,  1.42469153e-01, -3.27546030e-01,\n",
       "        -4.83615100e-01, -7.27520168e-01, -5.70859730e-01,\n",
       "         1.00367613e-01, -8.45976651e-01, -2.43919268e-01,\n",
       "         5.78141958e-02, -3.02724481e-01,  1.06637226e-02,\n",
       "         8.99902061e-02, -2.33167633e-01, -3.11468029e+00,\n",
       "         3.29167217e-01, -1.39614627e-01,  1.02732748e-01,\n",
       "        -9.09854919e-02,  8.20478871e-02,  3.56284082e-01,\n",
       "         1.19334066e+00,  8.39918852e-02,  5.25490334e-03,\n",
       "         9.40003246e-02, -4.75272030e-01, -3.02915331e-02,\n",
       "         4.20691162e-01, -2.70276759e-02, -1.62039280e-01,\n",
       "         3.78890745e-02, -2.65558690e-01, -1.00597486e-01,\n",
       "         1.69123954e-03, -4.98750687e-01, -7.69661486e-01,\n",
       "         7.53793567e-02, -2.00716928e-01,  3.21470886e-01,\n",
       "         6.44942326e-03, -2.47087166e-01, -2.70209491e-01,\n",
       "        -7.71890104e-01, -4.39380765e-01, -3.15874279e-01,\n",
       "        -2.83888400e-01, -1.42223462e-01, -2.45840684e-01,\n",
       "         1.71644446e-02, -3.88524681e-01, -1.42030016e-01,\n",
       "        -2.24418297e-01,  4.37545449e-01, -1.23888692e-02,\n",
       "         3.48796666e-01, -4.78703268e-02, -3.33002269e-01,\n",
       "        -5.60467899e-01,  1.76142991e-01,  2.88321167e-01,\n",
       "        -6.50513589e-01, -1.89969450e-01,  3.77420969e-02,\n",
       "        -4.02462304e-01,  2.74133742e-01, -3.48836422e-01,\n",
       "        -6.56167209e-01, -5.83127558e-01, -9.67246108e-03,\n",
       "         2.55938232e-01, -3.37733626e-01,  4.18114178e-02,\n",
       "        -4.22189742e-01, -1.48968697e-01,  6.61189947e-03,\n",
       "        -1.50332451e-01, -1.95644289e-01, -4.71435398e-01,\n",
       "         3.83720785e-01,  1.89865008e-01,  7.33698487e-01,\n",
       "        -1.09784611e-01, -4.95695710e-01,  5.03356867e-02,\n",
       "        -3.68161425e-02, -3.58069479e-01, -1.54380798e-02,\n",
       "        -2.72294600e-02,  8.80400956e-01, -1.29185662e-01,\n",
       "         3.61403257e-01, -2.78489858e-01,  1.58043861e-01,\n",
       "        -3.34318668e-01,  2.64281571e-01, -1.67409137e-01,\n",
       "         4.37166868e-03,  3.04006457e-01,  8.28975812e-02,\n",
       "        -4.43531454e-01, -7.67219782e-01,  1.27058446e-01,\n",
       "        -1.27811134e-01, -5.65582395e-01, -2.30786666e-01,\n",
       "        -6.54356897e-01,  6.04460299e-01, -1.91539764e-01,\n",
       "        -1.27588794e-01,  9.39528644e-01, -5.85639060e-01,\n",
       "         1.69813499e-01, -2.98429430e-01,  3.85908663e-01,\n",
       "        -1.69386685e-01, -3.00402373e-01,  1.76812485e-01,\n",
       "        -6.39458120e-01,  6.05482422e-02,  3.62401277e-01,\n",
       "        -6.38770819e-01, -1.90224251e-04,  1.84139624e-01,\n",
       "        -3.36119354e-01, -1.06193043e-01, -1.04941182e-01,\n",
       "        -3.88572186e-01, -1.81991890e-01,  2.77762026e-01,\n",
       "        -8.13042149e-02, -5.41395128e-01,  4.51610029e-01,\n",
       "        -2.73833811e-01, -2.82286167e-01,  5.22313178e-01,\n",
       "        -1.11360915e-01, -7.59104729e-01, -2.18092963e-01,\n",
       "         5.26548982e-01, -3.63154747e-02,  2.44015515e-01,\n",
       "        -1.01801001e-01,  4.35276181e-02, -3.86086628e-02,\n",
       "        -1.61701709e-01, -6.13519013e-01, -4.59829211e-01,\n",
       "         1.51405543e-01, -1.71733379e-01,  2.16187201e-02,\n",
       "        -3.03414166e-01, -5.67613244e-01, -3.47661972e-03,\n",
       "        -2.95787871e-01, -4.13330048e-01, -1.43417776e-01,\n",
       "        -3.43641818e-01, -3.13949473e-02, -7.09285796e-01,\n",
       "        -4.48446810e-01, -1.17010154e-01,  7.53776133e-02,\n",
       "         7.95766637e-02, -6.49368688e-02,  2.47721896e-01,\n",
       "        -9.75487605e-02, -1.74207687e-01, -2.81795710e-01,\n",
       "        -1.74393356e-01, -2.36101180e-01, -3.46550941e-01,\n",
       "         2.31091097e-01, -2.10902601e-01, -4.01737839e-01,\n",
       "         3.49368006e-02,  3.29537719e-01,  1.82513654e-01,\n",
       "        -9.21233773e-01, -1.78981319e-01,  9.38107744e-02,\n",
       "        -6.31082430e-02, -3.83345872e-01,  3.16464543e-01,\n",
       "         4.24018741e-01, -1.99327275e-01, -4.19510603e-02,\n",
       "         1.26029411e-02,  3.82633150e-01,  7.88049549e-02,\n",
       "        -2.43515268e-01,  1.11869117e-02,  7.11549759e-01,\n",
       "        -1.06267489e-01, -3.13524157e-01, -3.89122255e-02,\n",
       "        -5.21773875e-01, -7.98660591e-02,  7.38602728e-02,\n",
       "        -4.83715907e-02,  3.27068269e-01,  2.73987770e-01,\n",
       "        -1.64233953e-01,  1.95503328e-03, -1.73914120e-01,\n",
       "         1.41122025e-02, -5.05729690e-02, -2.91822314e-01,\n",
       "        -6.98175490e-01,  5.74842840e-02, -7.65891373e-01,\n",
       "         2.86359668e-01, -2.18708888e-01, -6.94723520e-03,\n",
       "        -5.80258250e-01,  5.33906482e-02, -9.47831944e-02,\n",
       "        -8.24900866e-02,  4.77858603e-01, -4.94444728e-01,\n",
       "        -5.06340802e-01, -8.48833740e-01, -1.35629785e+00,\n",
       "        -3.92206252e-01,  2.66225219e-01,  4.72581416e-01,\n",
       "         4.74546403e-02, -8.40480700e-02, -6.11177564e-01,\n",
       "        -2.77258456e-01, -4.33367133e-01,  8.09901059e-02,\n",
       "        -2.94399679e-01,  8.31184015e-02,  1.21778235e-01,\n",
       "        -4.86485571e-01,  2.07452968e-01, -3.73954654e-01,\n",
       "        -3.13676625e-01, -3.68659228e-01,  1.30866274e-01,\n",
       "        -1.02568399e-02,  2.28802040e-01,  1.24097228e-01,\n",
       "        -1.70712814e-01, -4.31590378e-01,  5.89256942e-01,\n",
       "        -1.13135643e-01, -3.66987288e-01,  2.04518843e+00,\n",
       "         3.01997066e-01, -3.01489145e-01, -3.45578045e-01,\n",
       "        -4.48928386e-01, -9.99430194e-03, -1.28506646e-01,\n",
       "        -1.52878344e-01,  2.88956851e-01, -9.74642411e-02,\n",
       "        -2.06355959e-01, -1.80277720e-01,  1.40995726e-01,\n",
       "         1.74816370e-01,  8.93049985e-02, -1.18417419e-01,\n",
       "        -1.87856764e-01, -1.78233739e-02, -7.73712099e-01,\n",
       "        -2.25853667e-01,  1.09384649e-01, -2.71455701e-02,\n",
       "        -4.08823669e-01,  4.82970029e-02, -5.72386920e-01,\n",
       "        -2.01550514e-01, -7.58018255e-01, -8.02608877e-02,\n",
       "         1.43199161e-01, -2.54355788e-01, -7.71072432e-02,\n",
       "        -7.10112751e-02, -8.19681436e-02, -3.81209731e-01,\n",
       "        -7.45247677e-02,  2.51101583e-01, -1.20165318e-01,\n",
       "         1.25486357e-02, -6.74843669e-01,  6.15665615e-01,\n",
       "        -2.00630464e-02, -5.02994657e-01,  2.55705148e-01,\n",
       "        -7.34649692e-03, -6.62068307e-01,  2.28922054e-01,\n",
       "        -7.45225132e-01, -1.20328508e-01, -3.93407524e-01,\n",
       "         1.37418479e-01,  2.78632909e-01, -1.75016627e-01,\n",
       "         1.22507848e-02, -2.72780973e-02, -6.05924010e-01,\n",
       "        -9.28305164e-02,  1.95985079e-01, -2.35151686e-02,\n",
       "        -4.10495400e-01,  9.41901430e-02, -2.48037264e-01,\n",
       "        -2.63280600e-01, -3.56168956e-01, -6.83446452e-02,\n",
       "        -6.24910951e-01, -3.70503724e-01,  4.48972136e-02,\n",
       "        -8.14884901e-02, -6.33918941e-01,  9.85704735e-02,\n",
       "         2.71174550e-01, -3.89514454e-02, -1.05085701e-01,\n",
       "        -4.01221722e-01, -3.58504653e-01, -6.68667793e-01,\n",
       "        -4.02836055e-01, -7.14626193e-01, -5.28744578e-01,\n",
       "        -6.12608492e-01,  1.63218275e-01,  2.29248300e-01,\n",
       "         8.38351250e-02, -4.62568802e-04, -1.57136232e-01,\n",
       "         8.11282545e-02, -1.69787169e-01, -4.18063134e-01,\n",
       "         9.97973621e-01,  6.68053031e-01, -3.24506164e-01,\n",
       "        -7.89362192e-03, -7.25979507e-02, -2.89816082e-01,\n",
       "         3.91992658e-01, -3.11667085e-01,  2.58146137e-01,\n",
       "         9.12457928e-02, -3.82214159e-01, -1.45118818e-01]], dtype=float32)>"
      ]
     },
     "execution_count": 10,
     "metadata": {},
     "output_type": "execute_result"
    }
   ],
   "source": [
    "import tensorflow_hub as hub\n",
    "import tensorflow_text as text\n",
    "\n",
    "preprocessor = hub.KerasLayer(\"https://tfhub.dev/google/universal-sentence-encoder-cmlm/multilingual-preprocess/2\")\n",
    "encoder = hub.KerasLayer(\"https://tfhub.dev/google/universal-sentence-encoder-cmlm/multilingual-base/1\")\n",
    "\n",
    "\n",
    "def get_embeddings(sentences):\n",
    "#   \"return BERT-like embeddings of input text \"\n",
    "#   \"\"Args:\n",
    "#     - sentences: list of strings\n",
    "#   Output:\n",
    "#     - BERT-like embeddings: tf.Tensor of shape=(len(sentences), 768)\n",
    "#   \"\"\n",
    "    preprocessed_text = preprocessor(sentences)\n",
    "    return encoder(preprocessed_text)['pooled_output']\n",
    "\n",
    "\n",
    "get_embeddings([\n",
    "    \"Questa collezione di Haiku è una porta aperta sulla cultura giapponese.\"]\n",
    ")"
   ]
  },
  {
   "cell_type": "code",
   "execution_count": 11,
   "id": "ff63feb2",
   "metadata": {},
   "outputs": [],
   "source": [
    "# pip install tensorflow_hub tensorflow_text"
   ]
  },
  {
   "cell_type": "code",
   "execution_count": 14,
   "id": "e5c1a196",
   "metadata": {},
   "outputs": [],
   "source": [
    "from keras import backend as K\n",
    "import tensorflow as tf\n",
    "\n",
    "def balanced_recall(y_true, y_pred):\n",
    "    \"\"\"This function calculates the balanced recall metric\n",
    "    recall = TP / (TP + FN)\n",
    "    \"\"\"\n",
    "    recall_by_class = 0\n",
    "    # iterate over each predicted class to get class-specific metric\n",
    "    for i in range(y_pred.shape[1]):\n",
    "        y_pred_class = y_pred[:, i]\n",
    "        y_true_class = y_true[:, i]\n",
    "        true_positives = K.sum(K.round(K.clip(y_true_class * y_pred_class, 0, 1)))\n",
    "        possible_positives = K.sum(K.round(K.clip(y_true_class, 0, 1)))\n",
    "        recall = true_positives / (possible_positives + K.epsilon())\n",
    "        recall_by_class = recall_by_class + recall\n",
    "    return recall_by_class / y_pred.shape[1]\n",
    "\n",
    "def balanced_precision(y_true, y_pred):\n",
    "    \"\"\"This function calculates the balanced precision metric\n",
    "    precision = TP / (TP + FP)\n",
    "    \"\"\"\n",
    "    precision_by_class = 0\n",
    "    # iterate over each predicted class to get class-specific metric\n",
    "    for i in range(y_pred.shape[1]):\n",
    "        y_pred_class = y_pred[:, i]\n",
    "        y_true_class = y_true[:, i]\n",
    "        true_positives = K.sum(K.round(K.clip(y_true_class * y_pred_class, 0, 1)))\n",
    "        predicted_positives = K.sum(K.round(K.clip(y_pred_class, 0, 1)))\n",
    "        precision = true_positives / (predicted_positives + K.epsilon())\n",
    "        precision_by_class = precision_by_class + precision\n",
    "    # return average balanced metric for each class\n",
    "    return precision_by_class / y_pred.shape[1]\n",
    "\n",
    "def balanced_f1_score(y_true, y_pred):\n",
    "    \"\"\"This function calculates the F1 score metric\"\"\"\n",
    "    precision = balanced_precision(y_true, y_pred)\n",
    "    recall = balanced_recall(y_true, y_pred)\n",
    "    return 2 * ((precision * recall) / (precision + recall + K.epsilon()))"
   ]
  },
  {
   "cell_type": "code",
   "execution_count": 37,
   "id": "47363be3",
   "metadata": {},
   "outputs": [
    {
     "ename": "IndexError",
     "evalue": "tuple index out of range",
     "output_type": "error",
     "traceback": [
      "\u001b[0;31m---------------------------------------------------------------------------\u001b[0m",
      "\u001b[0;31mIndexError\u001b[0m                                Traceback (most recent call last)",
      "\u001b[0;32m<ipython-input-37-7f0b012c5f50>\u001b[0m in \u001b[0;36m<module>\u001b[0;34m\u001b[0m\n\u001b[0;32m----> 1\u001b[0;31m \u001b[0mi\u001b[0m \u001b[0;34m=\u001b[0m \u001b[0mtf\u001b[0m\u001b[0;34m.\u001b[0m\u001b[0mkeras\u001b[0m\u001b[0;34m.\u001b[0m\u001b[0mlayers\u001b[0m\u001b[0;34m.\u001b[0m\u001b[0mInput\u001b[0m\u001b[0;34m(\u001b[0m\u001b[0mshape\u001b[0m\u001b[0;34m=\u001b[0m\u001b[0;34m(\u001b[0m\u001b[0mx_train\u001b[0m\u001b[0;34m.\u001b[0m\u001b[0mshape\u001b[0m\u001b[0;34m[\u001b[0m\u001b[0;34m-\u001b[0m\u001b[0;36m2\u001b[0m\u001b[0;34m]\u001b[0m\u001b[0;34m,\u001b[0m\u001b[0mx_train\u001b[0m\u001b[0;34m.\u001b[0m\u001b[0mshape\u001b[0m\u001b[0;34m[\u001b[0m\u001b[0;34m-\u001b[0m\u001b[0;36m1\u001b[0m\u001b[0;34m]\u001b[0m\u001b[0;34m)\u001b[0m\u001b[0;34m,\u001b[0m \u001b[0mdtype\u001b[0m\u001b[0;34m=\u001b[0m\u001b[0mtf\u001b[0m\u001b[0;34m.\u001b[0m\u001b[0mstring\u001b[0m\u001b[0;34m,\u001b[0m \u001b[0mname\u001b[0m\u001b[0;34m=\u001b[0m\u001b[0;34m'text'\u001b[0m\u001b[0;34m)\u001b[0m\u001b[0;34m\u001b[0m\u001b[0;34m\u001b[0m\u001b[0m\n\u001b[0m\u001b[1;32m      2\u001b[0m \u001b[0;31m# i = tf.keras.layers.Input(shape=(x_train.shape[-2],x_train.shape[-1]),name='input',dtype=tf.string)\u001b[0m\u001b[0;34m\u001b[0m\u001b[0;34m\u001b[0m\u001b[0;34m\u001b[0m\u001b[0m\n\u001b[1;32m      3\u001b[0m \u001b[0mx\u001b[0m \u001b[0;34m=\u001b[0m \u001b[0mpreprocessor\u001b[0m\u001b[0;34m(\u001b[0m\u001b[0mi\u001b[0m\u001b[0;34m)\u001b[0m\u001b[0;34m\u001b[0m\u001b[0;34m\u001b[0m\u001b[0m\n\u001b[1;32m      4\u001b[0m \u001b[0mx\u001b[0m \u001b[0;34m=\u001b[0m \u001b[0mencoder\u001b[0m\u001b[0;34m(\u001b[0m\u001b[0mx\u001b[0m\u001b[0;34m)\u001b[0m\u001b[0;34m\u001b[0m\u001b[0;34m\u001b[0m\u001b[0m\n\u001b[1;32m      5\u001b[0m \u001b[0mx\u001b[0m \u001b[0;34m=\u001b[0m \u001b[0mtf\u001b[0m\u001b[0;34m.\u001b[0m\u001b[0mkeras\u001b[0m\u001b[0;34m.\u001b[0m\u001b[0mlayers\u001b[0m\u001b[0;34m.\u001b[0m\u001b[0mDropout\u001b[0m\u001b[0;34m(\u001b[0m\u001b[0;36m0.2\u001b[0m\u001b[0;34m,\u001b[0m \u001b[0mname\u001b[0m\u001b[0;34m=\u001b[0m\u001b[0;34m\"dropout\"\u001b[0m\u001b[0;34m)\u001b[0m\u001b[0;34m(\u001b[0m\u001b[0mx\u001b[0m\u001b[0;34m[\u001b[0m\u001b[0;34m'pooled_output'\u001b[0m\u001b[0;34m]\u001b[0m\u001b[0;34m)\u001b[0m\u001b[0;34m\u001b[0m\u001b[0;34m\u001b[0m\u001b[0m\n",
      "\u001b[0;31mIndexError\u001b[0m: tuple index out of range"
     ]
    }
   ],
   "source": [
    "i = tf.keras.layers.Input(shape=(x_train.shape[-2],x_train.shape[-1]), dtype=tf.string, name='text')\n",
    "# i = tf.keras.layers.Input(shape=(x_train.shape[-2],x_train.shape[-1]),name='input',dtype=tf.string)\n",
    "x = preprocessor(i)\n",
    "x = encoder(x)\n",
    "x = tf.keras.layers.Dropout(0.2, name=\"dropout\")(x['pooled_output'])\n",
    "x = tf.keras.layers.Dense(NUM_CLASSES, activation='softmax', name=\"output\")(x)\n",
    "\n",
    "model = tf.keras.Model(i, x)"
   ]
  },
  {
   "cell_type": "code",
   "execution_count": 35,
   "id": "893a45ae",
   "metadata": {},
   "outputs": [
    {
     "name": "stdout",
     "output_type": "stream",
     "text": [
      "Epoch 1/20\n"
     ]
    },
    {
     "ename": "ValueError",
     "evalue": "in user code:\n\n    File \"/home/anubhav/miniconda3/envs/vidhaan/lib/python3.7/site-packages/keras/engine/training.py\", line 1051, in train_function  *\n        return step_function(self, iterator)\n    File \"<ipython-input-14-8f1c946c95ef>\", line 12, in balanced_recall  *\n        y_true_class = y_true[:, i]\n\n    ValueError: slice index 1 of dimension 1 out of bounds. for '{{node strided_slice_4}} = StridedSlice[Index=DT_INT32, T=DT_FLOAT, begin_mask=1, ellipsis_mask=0, end_mask=1, new_axis_mask=0, shrink_axis_mask=2](Cast_4, strided_slice_4/stack, strided_slice_4/stack_1, strided_slice_4/stack_2)' with input shapes: [?,1], [2], [2], [2] and with computed input tensors: input[1] = <0 1>, input[2] = <0 2>, input[3] = <1 1>.\n",
     "output_type": "error",
     "traceback": [
      "\u001b[0;31m---------------------------------------------------------------------------\u001b[0m",
      "\u001b[0;31mValueError\u001b[0m                                Traceback (most recent call last)",
      "\u001b[0;32m<ipython-input-35-26b6b40862b1>\u001b[0m in \u001b[0;36m<module>\u001b[0;34m\u001b[0m\n\u001b[1;32m     18\u001b[0m                       \u001b[0mepochs\u001b[0m \u001b[0;34m=\u001b[0m \u001b[0mn_epochs\u001b[0m\u001b[0;34m,\u001b[0m\u001b[0;34m\u001b[0m\u001b[0;34m\u001b[0m\u001b[0m\n\u001b[1;32m     19\u001b[0m                       \u001b[0mvalidation_data\u001b[0m \u001b[0;34m=\u001b[0m \u001b[0;34m(\u001b[0m\u001b[0mx_val\u001b[0m\u001b[0;34m,\u001b[0m \u001b[0my_val\u001b[0m\u001b[0;34m)\u001b[0m\u001b[0;34m,\u001b[0m\u001b[0;34m\u001b[0m\u001b[0;34m\u001b[0m\u001b[0m\n\u001b[0;32m---> 20\u001b[0;31m                       callbacks = [earlystop_callback])\n\u001b[0m",
      "\u001b[0;32m~/miniconda3/envs/vidhaan/lib/python3.7/site-packages/keras/utils/traceback_utils.py\u001b[0m in \u001b[0;36merror_handler\u001b[0;34m(*args, **kwargs)\u001b[0m\n\u001b[1;32m     65\u001b[0m     \u001b[0;32mexcept\u001b[0m \u001b[0mException\u001b[0m \u001b[0;32mas\u001b[0m \u001b[0me\u001b[0m\u001b[0;34m:\u001b[0m  \u001b[0;31m# pylint: disable=broad-except\u001b[0m\u001b[0;34m\u001b[0m\u001b[0;34m\u001b[0m\u001b[0m\n\u001b[1;32m     66\u001b[0m       \u001b[0mfiltered_tb\u001b[0m \u001b[0;34m=\u001b[0m \u001b[0m_process_traceback_frames\u001b[0m\u001b[0;34m(\u001b[0m\u001b[0me\u001b[0m\u001b[0;34m.\u001b[0m\u001b[0m__traceback__\u001b[0m\u001b[0;34m)\u001b[0m\u001b[0;34m\u001b[0m\u001b[0;34m\u001b[0m\u001b[0m\n\u001b[0;32m---> 67\u001b[0;31m       \u001b[0;32mraise\u001b[0m \u001b[0me\u001b[0m\u001b[0;34m.\u001b[0m\u001b[0mwith_traceback\u001b[0m\u001b[0;34m(\u001b[0m\u001b[0mfiltered_tb\u001b[0m\u001b[0;34m)\u001b[0m \u001b[0;32mfrom\u001b[0m \u001b[0;32mNone\u001b[0m\u001b[0;34m\u001b[0m\u001b[0;34m\u001b[0m\u001b[0m\n\u001b[0m\u001b[1;32m     68\u001b[0m     \u001b[0;32mfinally\u001b[0m\u001b[0;34m:\u001b[0m\u001b[0;34m\u001b[0m\u001b[0;34m\u001b[0m\u001b[0m\n\u001b[1;32m     69\u001b[0m       \u001b[0;32mdel\u001b[0m \u001b[0mfiltered_tb\u001b[0m\u001b[0;34m\u001b[0m\u001b[0;34m\u001b[0m\u001b[0m\n",
      "\u001b[0;32m~/miniconda3/envs/vidhaan/lib/python3.7/site-packages/keras/engine/training.py\u001b[0m in \u001b[0;36mtf__train_function\u001b[0;34m(iterator)\u001b[0m\n\u001b[1;32m     13\u001b[0m                 \u001b[0;32mtry\u001b[0m\u001b[0;34m:\u001b[0m\u001b[0;34m\u001b[0m\u001b[0;34m\u001b[0m\u001b[0m\n\u001b[1;32m     14\u001b[0m                     \u001b[0mdo_return\u001b[0m \u001b[0;34m=\u001b[0m \u001b[0;32mTrue\u001b[0m\u001b[0;34m\u001b[0m\u001b[0;34m\u001b[0m\u001b[0m\n\u001b[0;32m---> 15\u001b[0;31m                     \u001b[0mretval_\u001b[0m \u001b[0;34m=\u001b[0m \u001b[0mag__\u001b[0m\u001b[0;34m.\u001b[0m\u001b[0mconverted_call\u001b[0m\u001b[0;34m(\u001b[0m\u001b[0mag__\u001b[0m\u001b[0;34m.\u001b[0m\u001b[0mld\u001b[0m\u001b[0;34m(\u001b[0m\u001b[0mstep_function\u001b[0m\u001b[0;34m)\u001b[0m\u001b[0;34m,\u001b[0m \u001b[0;34m(\u001b[0m\u001b[0mag__\u001b[0m\u001b[0;34m.\u001b[0m\u001b[0mld\u001b[0m\u001b[0;34m(\u001b[0m\u001b[0mself\u001b[0m\u001b[0;34m)\u001b[0m\u001b[0;34m,\u001b[0m \u001b[0mag__\u001b[0m\u001b[0;34m.\u001b[0m\u001b[0mld\u001b[0m\u001b[0;34m(\u001b[0m\u001b[0miterator\u001b[0m\u001b[0;34m)\u001b[0m\u001b[0;34m)\u001b[0m\u001b[0;34m,\u001b[0m \u001b[0;32mNone\u001b[0m\u001b[0;34m,\u001b[0m \u001b[0mfscope\u001b[0m\u001b[0;34m)\u001b[0m\u001b[0;34m\u001b[0m\u001b[0;34m\u001b[0m\u001b[0m\n\u001b[0m\u001b[1;32m     16\u001b[0m                 \u001b[0;32mexcept\u001b[0m\u001b[0;34m:\u001b[0m\u001b[0;34m\u001b[0m\u001b[0;34m\u001b[0m\u001b[0m\n\u001b[1;32m     17\u001b[0m                     \u001b[0mdo_return\u001b[0m \u001b[0;34m=\u001b[0m \u001b[0;32mFalse\u001b[0m\u001b[0;34m\u001b[0m\u001b[0;34m\u001b[0m\u001b[0m\n",
      "\u001b[0;32m/tmp/__autograph_generated_filefl7vydtb.py\u001b[0m in \u001b[0;36mtf__balanced_recall\u001b[0;34m(y_true, y_pred)\u001b[0m\n\u001b[1;32m     33\u001b[0m                 \u001b[0my_true_class\u001b[0m \u001b[0;34m=\u001b[0m \u001b[0mag__\u001b[0m\u001b[0;34m.\u001b[0m\u001b[0mUndefined\u001b[0m\u001b[0;34m(\u001b[0m\u001b[0;34m'y_true_class'\u001b[0m\u001b[0;34m)\u001b[0m\u001b[0;34m\u001b[0m\u001b[0;34m\u001b[0m\u001b[0m\n\u001b[1;32m     34\u001b[0m                 \u001b[0my_pred_class\u001b[0m \u001b[0;34m=\u001b[0m \u001b[0mag__\u001b[0m\u001b[0;34m.\u001b[0m\u001b[0mUndefined\u001b[0m\u001b[0;34m(\u001b[0m\u001b[0;34m'y_pred_class'\u001b[0m\u001b[0;34m)\u001b[0m\u001b[0;34m\u001b[0m\u001b[0;34m\u001b[0m\u001b[0m\n\u001b[0;32m---> 35\u001b[0;31m                 \u001b[0mag__\u001b[0m\u001b[0;34m.\u001b[0m\u001b[0mfor_stmt\u001b[0m\u001b[0;34m(\u001b[0m\u001b[0mag__\u001b[0m\u001b[0;34m.\u001b[0m\u001b[0mconverted_call\u001b[0m\u001b[0;34m(\u001b[0m\u001b[0mag__\u001b[0m\u001b[0;34m.\u001b[0m\u001b[0mld\u001b[0m\u001b[0;34m(\u001b[0m\u001b[0mrange\u001b[0m\u001b[0;34m)\u001b[0m\u001b[0;34m,\u001b[0m \u001b[0;34m(\u001b[0m\u001b[0mag__\u001b[0m\u001b[0;34m.\u001b[0m\u001b[0mld\u001b[0m\u001b[0;34m(\u001b[0m\u001b[0my_pred\u001b[0m\u001b[0;34m)\u001b[0m\u001b[0;34m.\u001b[0m\u001b[0mshape\u001b[0m\u001b[0;34m[\u001b[0m\u001b[0;36m1\u001b[0m\u001b[0;34m]\u001b[0m\u001b[0;34m,\u001b[0m\u001b[0;34m)\u001b[0m\u001b[0;34m,\u001b[0m \u001b[0;32mNone\u001b[0m\u001b[0;34m,\u001b[0m \u001b[0mfscope\u001b[0m\u001b[0;34m)\u001b[0m\u001b[0;34m,\u001b[0m \u001b[0;32mNone\u001b[0m\u001b[0;34m,\u001b[0m \u001b[0mloop_body\u001b[0m\u001b[0;34m,\u001b[0m \u001b[0mget_state\u001b[0m\u001b[0;34m,\u001b[0m \u001b[0mset_state\u001b[0m\u001b[0;34m,\u001b[0m \u001b[0;34m(\u001b[0m\u001b[0;34m'recall_by_class'\u001b[0m\u001b[0;34m,\u001b[0m\u001b[0;34m)\u001b[0m\u001b[0;34m,\u001b[0m \u001b[0;34m{\u001b[0m\u001b[0;34m'iterate_names'\u001b[0m\u001b[0;34m:\u001b[0m \u001b[0;34m'i'\u001b[0m\u001b[0;34m}\u001b[0m\u001b[0;34m)\u001b[0m\u001b[0;34m\u001b[0m\u001b[0;34m\u001b[0m\u001b[0m\n\u001b[0m\u001b[1;32m     36\u001b[0m                 \u001b[0;32mtry\u001b[0m\u001b[0;34m:\u001b[0m\u001b[0;34m\u001b[0m\u001b[0;34m\u001b[0m\u001b[0m\n\u001b[1;32m     37\u001b[0m                     \u001b[0mdo_return\u001b[0m \u001b[0;34m=\u001b[0m \u001b[0;32mTrue\u001b[0m\u001b[0;34m\u001b[0m\u001b[0;34m\u001b[0m\u001b[0m\n",
      "\u001b[0;32m/tmp/__autograph_generated_filefl7vydtb.py\u001b[0m in \u001b[0;36mloop_body\u001b[0;34m(itr)\u001b[0m\n\u001b[1;32m     22\u001b[0m                     \u001b[0mi\u001b[0m \u001b[0;34m=\u001b[0m \u001b[0mitr\u001b[0m\u001b[0;34m\u001b[0m\u001b[0;34m\u001b[0m\u001b[0m\n\u001b[1;32m     23\u001b[0m                     \u001b[0my_pred_class\u001b[0m \u001b[0;34m=\u001b[0m \u001b[0mag__\u001b[0m\u001b[0;34m.\u001b[0m\u001b[0mld\u001b[0m\u001b[0;34m(\u001b[0m\u001b[0my_pred\u001b[0m\u001b[0;34m)\u001b[0m\u001b[0;34m[\u001b[0m\u001b[0;34m:\u001b[0m\u001b[0;34m,\u001b[0m \u001b[0mag__\u001b[0m\u001b[0;34m.\u001b[0m\u001b[0mld\u001b[0m\u001b[0;34m(\u001b[0m\u001b[0mi\u001b[0m\u001b[0;34m)\u001b[0m\u001b[0;34m]\u001b[0m\u001b[0;34m\u001b[0m\u001b[0;34m\u001b[0m\u001b[0m\n\u001b[0;32m---> 24\u001b[0;31m                     \u001b[0my_true_class\u001b[0m \u001b[0;34m=\u001b[0m \u001b[0mag__\u001b[0m\u001b[0;34m.\u001b[0m\u001b[0mld\u001b[0m\u001b[0;34m(\u001b[0m\u001b[0my_true\u001b[0m\u001b[0;34m)\u001b[0m\u001b[0;34m[\u001b[0m\u001b[0;34m:\u001b[0m\u001b[0;34m,\u001b[0m \u001b[0mag__\u001b[0m\u001b[0;34m.\u001b[0m\u001b[0mld\u001b[0m\u001b[0;34m(\u001b[0m\u001b[0mi\u001b[0m\u001b[0;34m)\u001b[0m\u001b[0;34m]\u001b[0m\u001b[0;34m\u001b[0m\u001b[0;34m\u001b[0m\u001b[0m\n\u001b[0m\u001b[1;32m     25\u001b[0m                     \u001b[0mtrue_positives\u001b[0m \u001b[0;34m=\u001b[0m \u001b[0mag__\u001b[0m\u001b[0;34m.\u001b[0m\u001b[0mconverted_call\u001b[0m\u001b[0;34m(\u001b[0m\u001b[0mag__\u001b[0m\u001b[0;34m.\u001b[0m\u001b[0mld\u001b[0m\u001b[0;34m(\u001b[0m\u001b[0mK\u001b[0m\u001b[0;34m)\u001b[0m\u001b[0;34m.\u001b[0m\u001b[0msum\u001b[0m\u001b[0;34m,\u001b[0m \u001b[0;34m(\u001b[0m\u001b[0mag__\u001b[0m\u001b[0;34m.\u001b[0m\u001b[0mconverted_call\u001b[0m\u001b[0;34m(\u001b[0m\u001b[0mag__\u001b[0m\u001b[0;34m.\u001b[0m\u001b[0mld\u001b[0m\u001b[0;34m(\u001b[0m\u001b[0mK\u001b[0m\u001b[0;34m)\u001b[0m\u001b[0;34m.\u001b[0m\u001b[0mround\u001b[0m\u001b[0;34m,\u001b[0m \u001b[0;34m(\u001b[0m\u001b[0mag__\u001b[0m\u001b[0;34m.\u001b[0m\u001b[0mconverted_call\u001b[0m\u001b[0;34m(\u001b[0m\u001b[0mag__\u001b[0m\u001b[0;34m.\u001b[0m\u001b[0mld\u001b[0m\u001b[0;34m(\u001b[0m\u001b[0mK\u001b[0m\u001b[0;34m)\u001b[0m\u001b[0;34m.\u001b[0m\u001b[0mclip\u001b[0m\u001b[0;34m,\u001b[0m \u001b[0;34m(\u001b[0m\u001b[0;34m(\u001b[0m\u001b[0mag__\u001b[0m\u001b[0;34m.\u001b[0m\u001b[0mld\u001b[0m\u001b[0;34m(\u001b[0m\u001b[0my_true_class\u001b[0m\u001b[0;34m)\u001b[0m \u001b[0;34m*\u001b[0m \u001b[0mag__\u001b[0m\u001b[0;34m.\u001b[0m\u001b[0mld\u001b[0m\u001b[0;34m(\u001b[0m\u001b[0my_pred_class\u001b[0m\u001b[0;34m)\u001b[0m\u001b[0;34m)\u001b[0m\u001b[0;34m,\u001b[0m \u001b[0;36m0\u001b[0m\u001b[0;34m,\u001b[0m \u001b[0;36m1\u001b[0m\u001b[0;34m)\u001b[0m\u001b[0;34m,\u001b[0m \u001b[0;32mNone\u001b[0m\u001b[0;34m,\u001b[0m \u001b[0mfscope\u001b[0m\u001b[0;34m)\u001b[0m\u001b[0;34m,\u001b[0m\u001b[0;34m)\u001b[0m\u001b[0;34m,\u001b[0m \u001b[0;32mNone\u001b[0m\u001b[0;34m,\u001b[0m \u001b[0mfscope\u001b[0m\u001b[0;34m)\u001b[0m\u001b[0;34m,\u001b[0m\u001b[0;34m)\u001b[0m\u001b[0;34m,\u001b[0m \u001b[0;32mNone\u001b[0m\u001b[0;34m,\u001b[0m \u001b[0mfscope\u001b[0m\u001b[0;34m)\u001b[0m\u001b[0;34m\u001b[0m\u001b[0;34m\u001b[0m\u001b[0m\n\u001b[1;32m     26\u001b[0m                     \u001b[0mpossible_positives\u001b[0m \u001b[0;34m=\u001b[0m \u001b[0mag__\u001b[0m\u001b[0;34m.\u001b[0m\u001b[0mconverted_call\u001b[0m\u001b[0;34m(\u001b[0m\u001b[0mag__\u001b[0m\u001b[0;34m.\u001b[0m\u001b[0mld\u001b[0m\u001b[0;34m(\u001b[0m\u001b[0mK\u001b[0m\u001b[0;34m)\u001b[0m\u001b[0;34m.\u001b[0m\u001b[0msum\u001b[0m\u001b[0;34m,\u001b[0m \u001b[0;34m(\u001b[0m\u001b[0mag__\u001b[0m\u001b[0;34m.\u001b[0m\u001b[0mconverted_call\u001b[0m\u001b[0;34m(\u001b[0m\u001b[0mag__\u001b[0m\u001b[0;34m.\u001b[0m\u001b[0mld\u001b[0m\u001b[0;34m(\u001b[0m\u001b[0mK\u001b[0m\u001b[0;34m)\u001b[0m\u001b[0;34m.\u001b[0m\u001b[0mround\u001b[0m\u001b[0;34m,\u001b[0m \u001b[0;34m(\u001b[0m\u001b[0mag__\u001b[0m\u001b[0;34m.\u001b[0m\u001b[0mconverted_call\u001b[0m\u001b[0;34m(\u001b[0m\u001b[0mag__\u001b[0m\u001b[0;34m.\u001b[0m\u001b[0mld\u001b[0m\u001b[0;34m(\u001b[0m\u001b[0mK\u001b[0m\u001b[0;34m)\u001b[0m\u001b[0;34m.\u001b[0m\u001b[0mclip\u001b[0m\u001b[0;34m,\u001b[0m \u001b[0;34m(\u001b[0m\u001b[0mag__\u001b[0m\u001b[0;34m.\u001b[0m\u001b[0mld\u001b[0m\u001b[0;34m(\u001b[0m\u001b[0my_true_class\u001b[0m\u001b[0;34m)\u001b[0m\u001b[0;34m,\u001b[0m \u001b[0;36m0\u001b[0m\u001b[0;34m,\u001b[0m \u001b[0;36m1\u001b[0m\u001b[0;34m)\u001b[0m\u001b[0;34m,\u001b[0m \u001b[0;32mNone\u001b[0m\u001b[0;34m,\u001b[0m \u001b[0mfscope\u001b[0m\u001b[0;34m)\u001b[0m\u001b[0;34m,\u001b[0m\u001b[0;34m)\u001b[0m\u001b[0;34m,\u001b[0m \u001b[0;32mNone\u001b[0m\u001b[0;34m,\u001b[0m \u001b[0mfscope\u001b[0m\u001b[0;34m)\u001b[0m\u001b[0;34m,\u001b[0m\u001b[0;34m)\u001b[0m\u001b[0;34m,\u001b[0m \u001b[0;32mNone\u001b[0m\u001b[0;34m,\u001b[0m \u001b[0mfscope\u001b[0m\u001b[0;34m)\u001b[0m\u001b[0;34m\u001b[0m\u001b[0;34m\u001b[0m\u001b[0m\n",
      "\u001b[0;31mValueError\u001b[0m: in user code:\n\n    File \"/home/anubhav/miniconda3/envs/vidhaan/lib/python3.7/site-packages/keras/engine/training.py\", line 1051, in train_function  *\n        return step_function(self, iterator)\n    File \"<ipython-input-14-8f1c946c95ef>\", line 12, in balanced_recall  *\n        y_true_class = y_true[:, i]\n\n    ValueError: slice index 1 of dimension 1 out of bounds. for '{{node strided_slice_4}} = StridedSlice[Index=DT_INT32, T=DT_FLOAT, begin_mask=1, ellipsis_mask=0, end_mask=1, new_axis_mask=0, shrink_axis_mask=2](Cast_4, strided_slice_4/stack, strided_slice_4/stack_1, strided_slice_4/stack_2)' with input shapes: [?,1], [2], [2], [2] and with computed input tensors: input[1] = <0 1>, input[2] = <0 2>, input[3] = <1 1>.\n"
     ]
    }
   ],
   "source": [
    "METRICS = [\n",
    "      tf.keras.metrics.CategoricalAccuracy(name=\"accuracy\"),\n",
    "      balanced_recall,\n",
    "      balanced_precision,\n",
    "      balanced_f1_score\n",
    "]\n",
    "\n",
    "earlystop_callback = tf.keras.callbacks.EarlyStopping(monitor = \"val_loss\", \n",
    "                                                      patience = 3,\n",
    "                                                      restore_best_weights = True)\n",
    "\n",
    "model.compile(optimizer = \"adam\",\n",
    "              loss = \"sparse_categorical_crossentropy\",\n",
    "              metrics = METRICS)\n",
    "\n",
    "model_fit = model.fit(x_train, \n",
    "                      y_train, \n",
    "                      epochs = n_epochs,\n",
    "                      validation_data = (x_val, y_val),\n",
    "                      callbacks = [earlystop_callback])"
   ]
  },
  {
   "cell_type": "code",
   "execution_count": 20,
   "id": "cce86eba",
   "metadata": {},
   "outputs": [
    {
     "data": {
      "text/plain": [
       "(5082,)"
      ]
     },
     "execution_count": 20,
     "metadata": {},
     "output_type": "execute_result"
    }
   ],
   "source": [
    "x_train.shape"
   ]
  },
  {
   "cell_type": "code",
   "execution_count": 21,
   "id": "46897d43",
   "metadata": {},
   "outputs": [
    {
     "data": {
      "text/plain": [
       "(5082,)"
      ]
     },
     "execution_count": 21,
     "metadata": {},
     "output_type": "execute_result"
    }
   ],
   "source": [
    "y_train.shape"
   ]
  },
  {
   "cell_type": "code",
   "execution_count": 22,
   "id": "ee021866",
   "metadata": {},
   "outputs": [
    {
     "data": {
      "text/plain": [
       "(994,)"
      ]
     },
     "execution_count": 22,
     "metadata": {},
     "output_type": "execute_result"
    }
   ],
   "source": [
    "x_val.shape"
   ]
  },
  {
   "cell_type": "code",
   "execution_count": 23,
   "id": "a06f2140",
   "metadata": {},
   "outputs": [
    {
     "data": {
      "text/plain": [
       "(994,)"
      ]
     },
     "execution_count": 23,
     "metadata": {},
     "output_type": "execute_result"
    }
   ],
   "source": [
    "y_val.shape"
   ]
  },
  {
   "cell_type": "code",
   "execution_count": 24,
   "id": "5642c983",
   "metadata": {},
   "outputs": [
    {
     "data": {
      "text/plain": [
       "(1517,)"
      ]
     },
     "execution_count": 24,
     "metadata": {},
     "output_type": "execute_result"
    }
   ],
   "source": [
    "x_test.shape"
   ]
  },
  {
   "cell_type": "code",
   "execution_count": 25,
   "id": "c2b4676f",
   "metadata": {},
   "outputs": [
    {
     "data": {
      "text/plain": [
       "(1517,)"
      ]
     },
     "execution_count": 25,
     "metadata": {},
     "output_type": "execute_result"
    }
   ],
   "source": [
    "y_test.shape"
   ]
  },
  {
   "cell_type": "code",
   "execution_count": null,
   "id": "a6a9099c",
   "metadata": {},
   "outputs": [],
   "source": []
  }
 ],
 "metadata": {
  "kernelspec": {
   "display_name": "Python [conda env:vidhaan] *",
   "language": "python",
   "name": "conda-env-vidhaan-py"
  },
  "language_info": {
   "codemirror_mode": {
    "name": "ipython",
    "version": 3
   },
   "file_extension": ".py",
   "mimetype": "text/x-python",
   "name": "python",
   "nbconvert_exporter": "python",
   "pygments_lexer": "ipython3",
   "version": "3.7.12"
  }
 },
 "nbformat": 4,
 "nbformat_minor": 5
}

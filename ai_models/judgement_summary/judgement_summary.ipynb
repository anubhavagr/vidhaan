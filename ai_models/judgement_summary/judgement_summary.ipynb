{
 "cells": [
  {
   "cell_type": "code",
   "execution_count": 1,
   "id": "85daa790",
   "metadata": {},
   "outputs": [],
   "source": [
    "# pip install -U transformers"
   ]
  },
  {
   "cell_type": "code",
   "execution_count": 2,
   "id": "8053eb7b",
   "metadata": {},
   "outputs": [],
   "source": [
    "from transformers import pipeline\n",
    "from bs4 import BeautifulSoup\n",
    "import requests"
   ]
  },
  {
   "cell_type": "code",
   "execution_count": 3,
   "id": "ee79396d",
   "metadata": {},
   "outputs": [],
   "source": [
    "# conda install -c conda-forge tensorflow-gpu "
   ]
  },
  {
   "cell_type": "code",
   "execution_count": 18,
   "id": "c30d0893",
   "metadata": {},
   "outputs": [],
   "source": [
    "from transformers import AutoTokenizer #, TFAutoModelForSeq2SeqLM\n",
    "\n",
    "tokenizer = AutoTokenizer.from_pretrained(\"nsi319/legal-pegasus\",framework='pt')  \n",
    "# model = TFAutoModelForSeq2SeqLM.from_pretrained(\"nsi319/legal-pegasus\",from_pt=True)"
   ]
  },
  {
   "cell_type": "code",
   "execution_count": 19,
   "id": "faf5e37e",
   "metadata": {},
   "outputs": [],
   "source": [
    "max_chunk = 500"
   ]
  },
  {
   "cell_type": "code",
   "execution_count": 20,
   "id": "fa33c613",
   "metadata": {
    "scrolled": true
   },
   "outputs": [
    {
     "ename": "RuntimeError",
     "evalue": "CUDA out of memory. Tried to allocate 376.00 MiB (GPU 0; 3.82 GiB total capacity; 2.13 GiB already allocated; 367.50 MiB free; 2.14 GiB reserved in total by PyTorch) If reserved memory is >> allocated memory try setting max_split_size_mb to avoid fragmentation.  See documentation for Memory Management and PYTORCH_CUDA_ALLOC_CONF",
     "output_type": "error",
     "traceback": [
      "\u001b[0;31m---------------------------------------------------------------------------\u001b[0m",
      "\u001b[0;31mRuntimeError\u001b[0m                              Traceback (most recent call last)",
      "\u001b[0;32m<ipython-input-20-37f7a1afd999>\u001b[0m in \u001b[0;36m<module>\u001b[0;34m\u001b[0m\n\u001b[0;32m----> 1\u001b[0;31m \u001b[0msummarizer\u001b[0m \u001b[0;34m=\u001b[0m \u001b[0mpipeline\u001b[0m\u001b[0;34m(\u001b[0m\u001b[0;34m\"summarization\"\u001b[0m\u001b[0;34m,\u001b[0m\u001b[0mmodel\u001b[0m\u001b[0;34m=\u001b[0m\u001b[0;34m'nsi319/legal-pegasus'\u001b[0m\u001b[0;34m,\u001b[0m\u001b[0mtokenizer\u001b[0m\u001b[0;34m=\u001b[0m\u001b[0mtokenizer\u001b[0m\u001b[0;34m,\u001b[0m\u001b[0mdevice\u001b[0m\u001b[0;34m=\u001b[0m\u001b[0;36m0\u001b[0m\u001b[0;34m,\u001b[0m\u001b[0mbatch_size\u001b[0m\u001b[0;34m=\u001b[0m\u001b[0;36m1\u001b[0m\u001b[0;34m,\u001b[0m\u001b[0mframework\u001b[0m\u001b[0;34m=\u001b[0m\u001b[0;34m'pt'\u001b[0m\u001b[0;34m)\u001b[0m\u001b[0;34m\u001b[0m\u001b[0;34m\u001b[0m\u001b[0m\n\u001b[0m",
      "\u001b[0;32m~/miniconda3/envs/vidhaan/lib/python3.7/site-packages/transformers/pipelines/__init__.py\u001b[0m in \u001b[0;36mpipeline\u001b[0;34m(task, model, config, tokenizer, feature_extractor, framework, revision, use_fast, use_auth_token, device_map, torch_dtype, trust_remote_code, model_kwargs, pipeline_class, **kwargs)\u001b[0m\n\u001b[1;32m    765\u001b[0m         \u001b[0mkwargs\u001b[0m\u001b[0;34m[\u001b[0m\u001b[0;34m\"feature_extractor\"\u001b[0m\u001b[0;34m]\u001b[0m \u001b[0;34m=\u001b[0m \u001b[0mfeature_extractor\u001b[0m\u001b[0;34m\u001b[0m\u001b[0;34m\u001b[0m\u001b[0m\n\u001b[1;32m    766\u001b[0m \u001b[0;34m\u001b[0m\u001b[0m\n\u001b[0;32m--> 767\u001b[0;31m     \u001b[0;32mreturn\u001b[0m \u001b[0mpipeline_class\u001b[0m\u001b[0;34m(\u001b[0m\u001b[0mmodel\u001b[0m\u001b[0;34m=\u001b[0m\u001b[0mmodel\u001b[0m\u001b[0;34m,\u001b[0m \u001b[0mframework\u001b[0m\u001b[0;34m=\u001b[0m\u001b[0mframework\u001b[0m\u001b[0;34m,\u001b[0m \u001b[0mtask\u001b[0m\u001b[0;34m=\u001b[0m\u001b[0mtask\u001b[0m\u001b[0;34m,\u001b[0m \u001b[0;34m**\u001b[0m\u001b[0mkwargs\u001b[0m\u001b[0;34m)\u001b[0m\u001b[0;34m\u001b[0m\u001b[0;34m\u001b[0m\u001b[0m\n\u001b[0m",
      "\u001b[0;32m~/miniconda3/envs/vidhaan/lib/python3.7/site-packages/transformers/pipelines/text2text_generation.py\u001b[0m in \u001b[0;36m__init__\u001b[0;34m(self, *args, **kwargs)\u001b[0m\n\u001b[1;32m     45\u001b[0m \u001b[0;34m\u001b[0m\u001b[0m\n\u001b[1;32m     46\u001b[0m     \u001b[0;32mdef\u001b[0m \u001b[0m__init__\u001b[0m\u001b[0;34m(\u001b[0m\u001b[0mself\u001b[0m\u001b[0;34m,\u001b[0m \u001b[0;34m*\u001b[0m\u001b[0margs\u001b[0m\u001b[0;34m,\u001b[0m \u001b[0;34m**\u001b[0m\u001b[0mkwargs\u001b[0m\u001b[0;34m)\u001b[0m\u001b[0;34m:\u001b[0m\u001b[0;34m\u001b[0m\u001b[0;34m\u001b[0m\u001b[0m\n\u001b[0;32m---> 47\u001b[0;31m         \u001b[0msuper\u001b[0m\u001b[0;34m(\u001b[0m\u001b[0;34m)\u001b[0m\u001b[0;34m.\u001b[0m\u001b[0m__init__\u001b[0m\u001b[0;34m(\u001b[0m\u001b[0;34m*\u001b[0m\u001b[0margs\u001b[0m\u001b[0;34m,\u001b[0m \u001b[0;34m**\u001b[0m\u001b[0mkwargs\u001b[0m\u001b[0;34m)\u001b[0m\u001b[0;34m\u001b[0m\u001b[0;34m\u001b[0m\u001b[0m\n\u001b[0m\u001b[1;32m     48\u001b[0m \u001b[0;34m\u001b[0m\u001b[0m\n\u001b[1;32m     49\u001b[0m         self.check_model_type(\n",
      "\u001b[0;32m~/miniconda3/envs/vidhaan/lib/python3.7/site-packages/transformers/pipelines/base.py\u001b[0m in \u001b[0;36m__init__\u001b[0;34m(self, model, tokenizer, feature_extractor, modelcard, framework, task, args_parser, device, binary_output, **kwargs)\u001b[0m\n\u001b[1;32m    771\u001b[0m         \u001b[0;31m# Special handling\u001b[0m\u001b[0;34m\u001b[0m\u001b[0;34m\u001b[0m\u001b[0;34m\u001b[0m\u001b[0m\n\u001b[1;32m    772\u001b[0m         \u001b[0;32mif\u001b[0m \u001b[0mself\u001b[0m\u001b[0;34m.\u001b[0m\u001b[0mframework\u001b[0m \u001b[0;34m==\u001b[0m \u001b[0;34m\"pt\"\u001b[0m \u001b[0;32mand\u001b[0m \u001b[0mself\u001b[0m\u001b[0;34m.\u001b[0m\u001b[0mdevice\u001b[0m\u001b[0;34m.\u001b[0m\u001b[0mtype\u001b[0m \u001b[0;34m==\u001b[0m \u001b[0;34m\"cuda\"\u001b[0m\u001b[0;34m:\u001b[0m\u001b[0;34m\u001b[0m\u001b[0;34m\u001b[0m\u001b[0m\n\u001b[0;32m--> 773\u001b[0;31m             \u001b[0mself\u001b[0m\u001b[0;34m.\u001b[0m\u001b[0mmodel\u001b[0m \u001b[0;34m=\u001b[0m \u001b[0mself\u001b[0m\u001b[0;34m.\u001b[0m\u001b[0mmodel\u001b[0m\u001b[0;34m.\u001b[0m\u001b[0mto\u001b[0m\u001b[0;34m(\u001b[0m\u001b[0mself\u001b[0m\u001b[0;34m.\u001b[0m\u001b[0mdevice\u001b[0m\u001b[0;34m)\u001b[0m\u001b[0;34m\u001b[0m\u001b[0;34m\u001b[0m\u001b[0m\n\u001b[0m\u001b[1;32m    774\u001b[0m \u001b[0;34m\u001b[0m\u001b[0m\n\u001b[1;32m    775\u001b[0m         \u001b[0;31m# Update config with task specific parameters\u001b[0m\u001b[0;34m\u001b[0m\u001b[0;34m\u001b[0m\u001b[0;34m\u001b[0m\u001b[0m\n",
      "\u001b[0;32m~/miniconda3/envs/vidhaan/lib/python3.7/site-packages/torch/nn/modules/module.py\u001b[0m in \u001b[0;36mto\u001b[0;34m(self, *args, **kwargs)\u001b[0m\n\u001b[1;32m    925\u001b[0m             \u001b[0;32mreturn\u001b[0m \u001b[0mt\u001b[0m\u001b[0;34m.\u001b[0m\u001b[0mto\u001b[0m\u001b[0;34m(\u001b[0m\u001b[0mdevice\u001b[0m\u001b[0;34m,\u001b[0m \u001b[0mdtype\u001b[0m \u001b[0;32mif\u001b[0m \u001b[0mt\u001b[0m\u001b[0;34m.\u001b[0m\u001b[0mis_floating_point\u001b[0m\u001b[0;34m(\u001b[0m\u001b[0;34m)\u001b[0m \u001b[0;32mor\u001b[0m \u001b[0mt\u001b[0m\u001b[0;34m.\u001b[0m\u001b[0mis_complex\u001b[0m\u001b[0;34m(\u001b[0m\u001b[0;34m)\u001b[0m \u001b[0;32melse\u001b[0m \u001b[0;32mNone\u001b[0m\u001b[0;34m,\u001b[0m \u001b[0mnon_blocking\u001b[0m\u001b[0;34m)\u001b[0m\u001b[0;34m\u001b[0m\u001b[0;34m\u001b[0m\u001b[0m\n\u001b[1;32m    926\u001b[0m \u001b[0;34m\u001b[0m\u001b[0m\n\u001b[0;32m--> 927\u001b[0;31m         \u001b[0;32mreturn\u001b[0m \u001b[0mself\u001b[0m\u001b[0;34m.\u001b[0m\u001b[0m_apply\u001b[0m\u001b[0;34m(\u001b[0m\u001b[0mconvert\u001b[0m\u001b[0;34m)\u001b[0m\u001b[0;34m\u001b[0m\u001b[0;34m\u001b[0m\u001b[0m\n\u001b[0m\u001b[1;32m    928\u001b[0m \u001b[0;34m\u001b[0m\u001b[0m\n\u001b[1;32m    929\u001b[0m     def register_backward_hook(\n",
      "\u001b[0;32m~/miniconda3/envs/vidhaan/lib/python3.7/site-packages/torch/nn/modules/module.py\u001b[0m in \u001b[0;36m_apply\u001b[0;34m(self, fn)\u001b[0m\n\u001b[1;32m    577\u001b[0m     \u001b[0;32mdef\u001b[0m \u001b[0m_apply\u001b[0m\u001b[0;34m(\u001b[0m\u001b[0mself\u001b[0m\u001b[0;34m,\u001b[0m \u001b[0mfn\u001b[0m\u001b[0;34m)\u001b[0m\u001b[0;34m:\u001b[0m\u001b[0;34m\u001b[0m\u001b[0;34m\u001b[0m\u001b[0m\n\u001b[1;32m    578\u001b[0m         \u001b[0;32mfor\u001b[0m \u001b[0mmodule\u001b[0m \u001b[0;32min\u001b[0m \u001b[0mself\u001b[0m\u001b[0;34m.\u001b[0m\u001b[0mchildren\u001b[0m\u001b[0;34m(\u001b[0m\u001b[0;34m)\u001b[0m\u001b[0;34m:\u001b[0m\u001b[0;34m\u001b[0m\u001b[0;34m\u001b[0m\u001b[0m\n\u001b[0;32m--> 579\u001b[0;31m             \u001b[0mmodule\u001b[0m\u001b[0;34m.\u001b[0m\u001b[0m_apply\u001b[0m\u001b[0;34m(\u001b[0m\u001b[0mfn\u001b[0m\u001b[0;34m)\u001b[0m\u001b[0;34m\u001b[0m\u001b[0;34m\u001b[0m\u001b[0m\n\u001b[0m\u001b[1;32m    580\u001b[0m \u001b[0;34m\u001b[0m\u001b[0m\n\u001b[1;32m    581\u001b[0m         \u001b[0;32mdef\u001b[0m \u001b[0mcompute_should_use_set_data\u001b[0m\u001b[0;34m(\u001b[0m\u001b[0mtensor\u001b[0m\u001b[0;34m,\u001b[0m \u001b[0mtensor_applied\u001b[0m\u001b[0;34m)\u001b[0m\u001b[0;34m:\u001b[0m\u001b[0;34m\u001b[0m\u001b[0;34m\u001b[0m\u001b[0m\n",
      "\u001b[0;32m~/miniconda3/envs/vidhaan/lib/python3.7/site-packages/torch/nn/modules/module.py\u001b[0m in \u001b[0;36m_apply\u001b[0;34m(self, fn)\u001b[0m\n\u001b[1;32m    577\u001b[0m     \u001b[0;32mdef\u001b[0m \u001b[0m_apply\u001b[0m\u001b[0;34m(\u001b[0m\u001b[0mself\u001b[0m\u001b[0;34m,\u001b[0m \u001b[0mfn\u001b[0m\u001b[0;34m)\u001b[0m\u001b[0;34m:\u001b[0m\u001b[0;34m\u001b[0m\u001b[0;34m\u001b[0m\u001b[0m\n\u001b[1;32m    578\u001b[0m         \u001b[0;32mfor\u001b[0m \u001b[0mmodule\u001b[0m \u001b[0;32min\u001b[0m \u001b[0mself\u001b[0m\u001b[0;34m.\u001b[0m\u001b[0mchildren\u001b[0m\u001b[0;34m(\u001b[0m\u001b[0;34m)\u001b[0m\u001b[0;34m:\u001b[0m\u001b[0;34m\u001b[0m\u001b[0;34m\u001b[0m\u001b[0m\n\u001b[0;32m--> 579\u001b[0;31m             \u001b[0mmodule\u001b[0m\u001b[0;34m.\u001b[0m\u001b[0m_apply\u001b[0m\u001b[0;34m(\u001b[0m\u001b[0mfn\u001b[0m\u001b[0;34m)\u001b[0m\u001b[0;34m\u001b[0m\u001b[0;34m\u001b[0m\u001b[0m\n\u001b[0m\u001b[1;32m    580\u001b[0m \u001b[0;34m\u001b[0m\u001b[0m\n\u001b[1;32m    581\u001b[0m         \u001b[0;32mdef\u001b[0m \u001b[0mcompute_should_use_set_data\u001b[0m\u001b[0;34m(\u001b[0m\u001b[0mtensor\u001b[0m\u001b[0;34m,\u001b[0m \u001b[0mtensor_applied\u001b[0m\u001b[0;34m)\u001b[0m\u001b[0;34m:\u001b[0m\u001b[0;34m\u001b[0m\u001b[0;34m\u001b[0m\u001b[0m\n",
      "\u001b[0;32m~/miniconda3/envs/vidhaan/lib/python3.7/site-packages/torch/nn/modules/module.py\u001b[0m in \u001b[0;36m_apply\u001b[0;34m(self, fn)\u001b[0m\n\u001b[1;32m    600\u001b[0m             \u001b[0;31m# `with torch.no_grad():`\u001b[0m\u001b[0;34m\u001b[0m\u001b[0;34m\u001b[0m\u001b[0;34m\u001b[0m\u001b[0m\n\u001b[1;32m    601\u001b[0m             \u001b[0;32mwith\u001b[0m \u001b[0mtorch\u001b[0m\u001b[0;34m.\u001b[0m\u001b[0mno_grad\u001b[0m\u001b[0;34m(\u001b[0m\u001b[0;34m)\u001b[0m\u001b[0;34m:\u001b[0m\u001b[0;34m\u001b[0m\u001b[0;34m\u001b[0m\u001b[0m\n\u001b[0;32m--> 602\u001b[0;31m                 \u001b[0mparam_applied\u001b[0m \u001b[0;34m=\u001b[0m \u001b[0mfn\u001b[0m\u001b[0;34m(\u001b[0m\u001b[0mparam\u001b[0m\u001b[0;34m)\u001b[0m\u001b[0;34m\u001b[0m\u001b[0;34m\u001b[0m\u001b[0m\n\u001b[0m\u001b[1;32m    603\u001b[0m             \u001b[0mshould_use_set_data\u001b[0m \u001b[0;34m=\u001b[0m \u001b[0mcompute_should_use_set_data\u001b[0m\u001b[0;34m(\u001b[0m\u001b[0mparam\u001b[0m\u001b[0;34m,\u001b[0m \u001b[0mparam_applied\u001b[0m\u001b[0;34m)\u001b[0m\u001b[0;34m\u001b[0m\u001b[0;34m\u001b[0m\u001b[0m\n\u001b[1;32m    604\u001b[0m             \u001b[0;32mif\u001b[0m \u001b[0mshould_use_set_data\u001b[0m\u001b[0;34m:\u001b[0m\u001b[0;34m\u001b[0m\u001b[0;34m\u001b[0m\u001b[0m\n",
      "\u001b[0;32m~/miniconda3/envs/vidhaan/lib/python3.7/site-packages/torch/nn/modules/module.py\u001b[0m in \u001b[0;36mconvert\u001b[0;34m(t)\u001b[0m\n\u001b[1;32m    923\u001b[0m                 return t.to(device, dtype if t.is_floating_point() or t.is_complex() else None,\n\u001b[1;32m    924\u001b[0m                             non_blocking, memory_format=convert_to_format)\n\u001b[0;32m--> 925\u001b[0;31m             \u001b[0;32mreturn\u001b[0m \u001b[0mt\u001b[0m\u001b[0;34m.\u001b[0m\u001b[0mto\u001b[0m\u001b[0;34m(\u001b[0m\u001b[0mdevice\u001b[0m\u001b[0;34m,\u001b[0m \u001b[0mdtype\u001b[0m \u001b[0;32mif\u001b[0m \u001b[0mt\u001b[0m\u001b[0;34m.\u001b[0m\u001b[0mis_floating_point\u001b[0m\u001b[0;34m(\u001b[0m\u001b[0;34m)\u001b[0m \u001b[0;32mor\u001b[0m \u001b[0mt\u001b[0m\u001b[0;34m.\u001b[0m\u001b[0mis_complex\u001b[0m\u001b[0;34m(\u001b[0m\u001b[0;34m)\u001b[0m \u001b[0;32melse\u001b[0m \u001b[0;32mNone\u001b[0m\u001b[0;34m,\u001b[0m \u001b[0mnon_blocking\u001b[0m\u001b[0;34m)\u001b[0m\u001b[0;34m\u001b[0m\u001b[0;34m\u001b[0m\u001b[0m\n\u001b[0m\u001b[1;32m    926\u001b[0m \u001b[0;34m\u001b[0m\u001b[0m\n\u001b[1;32m    927\u001b[0m         \u001b[0;32mreturn\u001b[0m \u001b[0mself\u001b[0m\u001b[0;34m.\u001b[0m\u001b[0m_apply\u001b[0m\u001b[0;34m(\u001b[0m\u001b[0mconvert\u001b[0m\u001b[0;34m)\u001b[0m\u001b[0;34m\u001b[0m\u001b[0;34m\u001b[0m\u001b[0m\n",
      "\u001b[0;31mRuntimeError\u001b[0m: CUDA out of memory. Tried to allocate 376.00 MiB (GPU 0; 3.82 GiB total capacity; 2.13 GiB already allocated; 367.50 MiB free; 2.14 GiB reserved in total by PyTorch) If reserved memory is >> allocated memory try setting max_split_size_mb to avoid fragmentation.  See documentation for Memory Management and PYTORCH_CUDA_ALLOC_CONF"
     ]
    }
   ],
   "source": [
    "summarizer = pipeline(\"summarization\",model='nsi319/legal-pegasus',tokenizer=tokenizer,device=0,batch_size=1,framework='pt')\n"
   ]
  },
  {
   "cell_type": "code",
   "execution_count": null,
   "id": "94169ff2",
   "metadata": {},
   "outputs": [],
   "source": [
    "# pip install -U tensorflow\n",
    "# pip install -U tensorflow-base\n",
    "# pip install -U tensorflow-gpu\n",
    "# !pip install -U keras"
   ]
  },
  {
   "cell_type": "code",
   "execution_count": null,
   "id": "9b2e3db3",
   "metadata": {},
   "outputs": [],
   "source": [
    "# conda list | grep tensorflow"
   ]
  },
  {
   "cell_type": "code",
   "execution_count": null,
   "id": "814059a1",
   "metadata": {},
   "outputs": [],
   "source": [
    "l = \"I Discovered It’s Never Too Late to Invest in Bitcoin If You Understand It Bitcoin has gone mainstream. There are some people who hate me for it. I’m getting quite a few people all asking me the same question: “Is it too late to invest in bitcoin?” I don’t think it is. Bitcoin is a paradigm shift in a world that is high on worthless currency printed in excess. The only way to fund our excessive lifestyles is to increase the global debt and pay for it with money printed out of thin air. My approach to bitcoin is different. It’s a little less drastic. I’ve been playing with it for years and have become fascinated by it. The rewards for me understanding bitcoin are now over 17,900%+ on the initial investment. I don’t think I’ve ever made another investment like it. It’s likely I will never make another investment like it for the rest of my life. There may never be another investment like it. The unfortunate psychological challenge when you buy something that performs beyond your wildest dreams is you think to yourself, “I should have bought more.” You can always want more and spend more. But it doesn’t matter. Money has never made me happy. The same is likely true for you. So how do you manage your psychology when bitcoin mania is sweeping the world and it has gone mainstream? How do you cope when it’s trending on twitter, on the front page of every newspaper, being promoted by some of the biggest wall street tycoons in the world, like Paul Tudor Jones? First, you stay calm. You’re never late to anything in life. You’re right on time. What bitcoin has done to date is irrelevant. If you haven’t bought any or don’t understand it then that’s not the issue. The issue is whether you are openminded enough to rethink everything you know about money and investing. If you are, there is opportunity. If your mind is closed, the world is closed, and so are the opportunities. When I first heard about bitcoin, I thought it was a joke. I made fun of my work colleagues who were buying a sandwich with half a bitcoin and loving life. The trouble with bitcoin is it’s not easy to understand. When people don’t understand a concept they quickly dismiss it and call it a scam so they don’t feel stupid. Like I said, bitcoin isn’t normal. It confuses people and that’s what it was designed to do. Bitcoin is a short-circuit in one’s financial thinking. The “Too Late” Mindset Is Toxic The too late mindset isn’t good for your psychology. It makes you feel like shit. When people think about bitcoin I quickly see them become disappointed. They wish they had listened earlier. Or they wish they had bought at least one bitcoin when the price was lower. The problem with bitcoin is you can never buy at a good price. Why? Bitcoin keeps being the best-performing asset each year, and is now the best performing asset of the decade. Think about that. This is the superpower of bitcoin. It doesn’t matter when you buy it. What matters is that you do eventually. We’re taught to buy assets at a low price and sell them at a higher price. What if this was industrial age factory worker thinking? The best time to buy bitcoin is when you decide to. The reason is, bitcoin has a fixed supply of coins and predictable code built into it that tells you its future. You don’t have to be a genius to understand bitcoin’s future price. A Dutch institutional investor known as Plan B created a stock to flow model which helps investors understand where the price is going based on the hard-coded, predictable monetary policy of bitcoin. Once you understand stock to flow, then you’ll understand the overwhelming dollar value of guaranteed scarcity. Forget the price. What’s the opportunity? I want to shake up your thinking. The opportunity of bitcoin has nothing to do with price. Bitcoin solves a problem. The current value of the circulating supply of bitcoin is roughly $355 billion. The current value of the world’s supply of gold is about $9 trillion. The current value of the world’s supply of derivatives (a popular financial instrument people dump money into) is $640 trillion. The current value of the world’s supply of stocks is $95 trillion. If only a small amount of money moves out of one of these asset classes and into bitcoin then the price will skyrocket. Investment firms are buying bitcoin, not because they want to, but because they have to. There are very few places you can put your money and get a return. There are even fewer places you can put your money to store it safely in the event of a downturn or recession. I don’t personally care about the bitcoin price. I care about the problem it solves and whether over the long-term there is a financial return likely to occur for doing so. The worst way to invest as an everyday person is for the short term. One of my early investments in bitcoin was short term. I bought a lot and then sold it when the price crashed in 2017. That short-term thinking has meant I’m working a few years longer than I need to. I would be retired if I still had all the bitcoin I owned in 2017. I’m okay with that. My investor psychology was weak back then. I needed to see a few 50% drops to learn my lesson. The March 2020 covid crash was certainly a good test, and I passed without selling any bitcoin. Thinking about the assets you invest in over the long term helps reduce your stress levels. You’re less worried about whether it’s “too late” or “is now a good time” and focused on doing your research and understanding what you’re buying. This phrase sums it up better than I could: Time in the market beats timing the market. Euphoria Is Coming It’s going to be bad for your psychology. When euphoria hits an asset like bitcoin, people lose their minds and throw a wall of money at it. How do I know? I lived through the euphoric phase of bitcoin back in 2017. People I worked with went from IT professionals to wild gamblers in a day. Every computer screen in my office at one point was showing the bitcoin price. One guy in the office mortgaged his house to buy bitcoin. The problem ended up being rather unusual: people didn’t buy bitcoin. They bought shitcoins that were worth less than $1, thinking they’d get rich. That’s what euphoria can do to people’s thinking. It isn’t pleasant to watch — and it will happen again. The use-case for bitcoin was born during the pandemic. This is going to create ongoing euphoria. With Citibank throwing numbers out like $318,000 USD per bitcoin, and the price going over the all-time high of $20,000 USD per coin, people are guaranteed to collapse on the ground with a case of FOMO. What can you do about it? Stay calm. Your life won’t end if you don’t buy bitcoin. Take your time and research it. Start by reading the book, “The Bitcoin Standard” and go from there. Patience always wins when it comes to investing. The Risk of Bitcoin You Must Understand Nothing you put your money in is perfect. The biggest risk of bitcoin has always been the potential for it to be banned. In 2017, the risk was enormous. Over time that risk has decreased as more and more adopters of the technology — like PayPal and payments company, Square — have offered the product to their customers. The likelihood of bitcoin getting banned is almost zero. What will happen to bitcoin, though, is regulation. Regulation just means you will have to be identified when you buy and sell bitcoin. Unless you’re a drug dealer breaking the law, regulation is good for your investments. With more regulation comes more opportunities for legitimate wall street firms to invest their money in bitcoin and use it for what it was made for: a store of value. The other risk is your coins get stolen. The old school way to fix that issue is to purchase a Trezor or Ledger to store your coins in. I’m going to give you the non-technical definition of a hardware wallet: A hardware wallet takes your bitcoin off the internet. When your coins are off the internet nobody can access them except you. This is how you stay safe and prevent a Russian hacker from stealing your coins while you drink your early morning coffee by the jacuzzi. What’s the Difference Between Gold and Bitcoin? Scarcity is the one attribute both bitcoin and gold have. The issue is, the scarcity of gold is controlled by humans. The scarcity of bitcoin is controlled by nobody and can’t be changed. Every year the gold supply increases by roughly 2%, as new gold is discovered and mined. With oil, humans invented a technological advancement called fracking which became popular in 1949. Humans could invent more ways to mine gold. We could also throw lots of money at gold to mine more of it. The final option is to mine asteroids for gold. Doomsdayers say that if NASA decided to bring an asteroid home with them from space it would “destroy commodity prices and cause the world’s economy — worth $75.5 trillion — to collapse.” I think this is ridiculous. Humans may mine asteroids for gold but it’s probably a long way away and incredibly difficult to do. I don’t see the downfall of gold coming anytime soon. But I do see the 2% increase in the supply of gold every year as an unfortunate feature of the metal. The speculation over banks manipulating the gold price is another factor to consider when thinking about the difference between bitcoin and gold. Bitcoin is different to gold. It’s understood by digitally savvy millennials and doesn’t require a safe to store it in or muscly arms to hold it. There is no one owner of bitcoin. You can’t rip Zucks out of bed when he’s butt-naked and drag him to court so you can sue him over your grievances with facebook. There isn’t a human or company to sue when it comes to bitcoin. Bitcoin’s supply is fixed.Bitcoin technology is owned by nobody.Bitcoin’s inflation rate is locked and guarded by code.Bitcoin has no ego because no billionaire owns it. Bitcoin is an egoless, non-existent company. The game-changer with bitcoin is the network is owned by the users. Users own and give the technology value. Venture capitalists, bankers, and politicians don’t get to give bitcoin a permission slip or approve its use. Every person from every country in the world gets to vote on bitcoin with their smartphone by buying it. How to Think About Bitcoin Safely Ric Edelman, founder of RIA Digital Assets Council, makes the idea of investing in bitcoin easy. He recommends to his clients as a financial advisor to consider a 1% allocation in bitcoin. If you have $10,000 in savings, then consider a $100 investment in bitcoin. He says if you had invested 1% of your money in bitcoin in 2020, then it would have lifted everything you’d invested in by 25%. Now my approach is different. I’ve spent more than five years understanding how bitcoin works so my allocation is a lot more aggressive than 1%. But if you have no idea and want to access the benefits of bitcoin, then a 1% investment is hard to look past. Iconic hedge fund managers like Raoul Pal use a dead-simple approach: dollar-cost averaging. Here’s how to do it. Step 1: Decide on how much bitcoin you’re going to buy every month. Let’s say you decide on $100. Step 2: In the first month, invest $100 into bitcoin. The price might be at an all-time high. Step 3: In the second month, invest $100 into bitcoin. The price might be at an all-time low. Step 4: In the third month, invest $100 into bitcoin. The price might be going up again. Step 5: Keep investing $100 every month until you’ve reached your desired investment amount (let’s say your desired amount is 1% of all your money goes into bitcoin). With this approach you can smooth out the price you get into bitcoin at without stressing and losing your mind. Some months the price will be high, and some months the price will be low. Just like a savings account, you don’t care. You lock your money away and let it be protected by code, not humans. It Isn’t Too Late to Buy Bitcoin. It’s not time to panic.It’s time to digitally upgrade your financial education. Physical cash in your wallet and nuggets of gold you take inside with a wheelbarrow is the pre-digital financial world. The world of money is a long way behind advances in technology. Bitcoin is trying to catch the financial world up with the digital narrative, so we can use the phone in our pocket to go about our day and store our money without its value being secretly eroded away and taxed by inflation, by the pinstripe suit club. If you’ve been thinking about bitcoin, do your research. Go down the rabbit hole. Avoid FOMO. Stay away from the hype. Understand the problem it solves, intimately. Get to know bitcoin like you would a new lover you invite into your bed to shag. The best time to buy bitcoin is when you understand it and see its value. This article is for informational purposes only, it should not be considered Financial or Legal Advice. Consult a financial professional before making any major financial decisions. A community of storytellers documenting the journey to happiness and fulfillment. 3.4K  33  3.4K\\xa0claps 3.4K\\xa0claps 33 responses Written by Aussie Blogger with 100M+ views — Writer for CNBC & Business Insider. Inspiring the world through Personal Development and Entrepreneurship — timdenning.com/wc A community of storytellers documenting the journey to happiness & fulfillment. Join thousands of others making the climb on Medium. Written by Aussie Blogger with 100M+ views — Writer for CNBC & Business Insider. Inspiring the world through Personal Development and Entrepreneurship — timdenning.com/wc A community of storytellers documenting the journey to happiness & fulfillment. Join thousands of others making the climb on Medium. Medium is an open platform where 170 million readers come to find insightful and dynamic thinking. Here, expert and undiscovered voices alike dive into the heart of any topic and bring new ideas to the surface. Learn more Follow the writers, publications, and topics that matter to you, and you’ll see them on your homepage and in your inbox. Explore If you have a story to tell, knowledge to share, or a perspective to offer — welcome home. It’s easy and free to post your thinking on any topic. Write on Medium About Help Legal Get the Medium app\""
   ]
  },
  {
   "cell_type": "code",
   "execution_count": null,
   "id": "0f53db5f",
   "metadata": {},
   "outputs": [],
   "source": [
    "ARTICLE = l"
   ]
  },
  {
   "cell_type": "code",
   "execution_count": null,
   "id": "b449c179",
   "metadata": {},
   "outputs": [],
   "source": [
    "ARTICLE = ARTICLE.replace('.', '.<eos>')\n",
    "ARTICLE = ARTICLE.replace('?', '?<eos>')\n",
    "ARTICLE = ARTICLE.replace('!', '!<eos>')\n",
    "\n",
    "sentences = ARTICLE.split('<eos>')\n",
    "current_chunk = 0 \n",
    "chunks = []\n",
    "for sentence in sentences:\n",
    "    if len(chunks) == current_chunk + 1: \n",
    "        if len(chunks[current_chunk]) + len(sentence.split(' ')) <= max_chunk:\n",
    "            chunks[current_chunk].extend(sentence.split(' '))\n",
    "        else:\n",
    "            current_chunk += 1\n",
    "            chunks.append(sentence.split(' '))\n",
    "    else:\n",
    "        print(current_chunk)\n",
    "        chunks.append(sentence.split(' '))\n",
    "\n",
    "for chunk_id in range(len(chunks)):\n",
    "    chunks[chunk_id] = ' '.join(chunks[chunk_id])"
   ]
  },
  {
   "cell_type": "code",
   "execution_count": null,
   "id": "b161d44a",
   "metadata": {},
   "outputs": [],
   "source": [
    "len(chunks)"
   ]
  },
  {
   "cell_type": "code",
   "execution_count": null,
   "id": "1864fa75",
   "metadata": {},
   "outputs": [],
   "source": [
    "len(chunks[5])"
   ]
  },
  {
   "cell_type": "code",
   "execution_count": null,
   "id": "caecd5b7",
   "metadata": {
    "scrolled": false
   },
   "outputs": [],
   "source": [
    "res = summarizer(chunks, max_length=300, min_length=30, do_sample=False)"
   ]
  },
  {
   "cell_type": "code",
   "execution_count": null,
   "id": "f5fe386d",
   "metadata": {},
   "outputs": [],
   "source": [
    "text = ' '.join([summ['summary_text'] for summ in res])"
   ]
  },
  {
   "cell_type": "code",
   "execution_count": null,
   "id": "87131362",
   "metadata": {},
   "outputs": [],
   "source": [
    "# summarizer?"
   ]
  },
  {
   "cell_type": "code",
   "execution_count": null,
   "id": "06900aff",
   "metadata": {},
   "outputs": [],
   "source": [
    "res[0]"
   ]
  },
  {
   "cell_type": "code",
   "execution_count": null,
   "id": "593647f0",
   "metadata": {
    "scrolled": true
   },
   "outputs": [],
   "source": [
    "res[0]"
   ]
  },
  {
   "cell_type": "code",
   "execution_count": 4,
   "id": "dbc16068",
   "metadata": {},
   "outputs": [],
   "source": []
  },
  {
   "cell_type": "code",
   "execution_count": 9,
   "id": "2fc8cb88",
   "metadata": {},
   "outputs": [],
   "source": [
    "# tx3 = \"Shri Mohan Lal Anchal was working as Junior Assistant at Branch Pratappur of the Chhattisgarh State Warehousing Corporation. He died in harness on 26-4-2021 on account of being infected by COVID-19. Suresh Kumar Anchal claiming to be son of Late Shri Mohan Lal Anchal with his first wife Smt. Rajkumari claimed compassionate appointment by filing application on 25-5-2021, whereas the present petitioner being son of Late Shri Mohan Lal Anchal through wife Smt. Tara Devi also filed application for compassionate appointment. It is the case of the petitioner that his mother’s name is also recorded in the nomination form submitted by his father Late Shri Mohan Lal Anchal. Respondent No.2 directed Smt. Tara Devi and the present petitioner – Piyush Kumar Anchal to obtain succession certificate, by the impugned order. The present petitioner earlier filed a writ petition before this Court being W.P.(S)No.4796/2021 in which this Court by order dated 9-9-2021 has directed respondent No.2 to decide the claim of the petitioner for compassionate appointment. Now, order has been passed rejecting the application filed by the petitioner on the ground that valid succession certificate has not been filed by the petitioner and liberty has been given to the petitioner to consider the application after the valid succession certificate is obtained against which this writ petition has been filed. Return has been filed on behalf of respondents No.2 to 5 stating inter alia that the order passed by respondent No.2 is strictly in accordance with law and since two applications by two rival claimants have been preferred claiming appointment on compassionate ground, the W.P.(S)No.1034/2022 respondent Corporation has rightly directed the petitioner to obtain succession certificate. No rejoinder has been filed on behalf of the petitioner. Mr. Rakesh Pandey, learned counsel appearing for the petitioner, would submit that the petitioner being son of Late Shri Mohan Lal Anchal through his wife Smt. Tara Devi, is entitled for compassionate appointment and the order directing for submission of succession certificate is unsustainable and bad in law and it is liable to be set aside. He would rely upon the decision of the Supreme Court in the matter of Union of India and another v. V.R. Tripathi 1 and also relied upon the decision of the Supreme Court in the matter of Mukesh Kumar and others v. The Union of India (UOI) and others 2 in which the decision of the Supreme Court in V.R. Tripathi’s case (supra) has also been followed. Mr. Pandey, learned counsel, further relied upon the decision of the Patna High Court in the matter of Raj Kishore Kumar v. State of Bihar and others 3 to buttress his submission. Mr. B.D. Guru, learned counsel appearing for respondents No.2 to 5,would support the impugned order stating that on account of two rival claimants, the application of the petitioner herein has rightly been rejected requiring and directing the petitioner to obtain succession certificate as to whether he is entitled for compassionate appointment or not. I have heard learned counsel for the parties and considered their rival submissions made herein-above and also went through the material available on record with utmost circumspection.1 AIR 2019 SC 666 2 Civil Appeal No.1620/2022, decided on 24-2-2022 3 2009 SCC OnLine Pat 582W.P.(S)No.1034/2022. There is serious dispute between the parties, whether the petitioner’s\n",
    "# mother is first wife of the deceased Government servant late Shri\n",
    "# Mohan Lal Anchal or the mother of Suresh Kumar Anchal, who also\n",
    "# claimed compassionate appointment being another son of late Shri\n",
    "# Mohan Lal Anchal from Smt. Rajkumari, is the first wife of the\n",
    "# deceased Government servant, but the fact remains that even the\n",
    "# illegitimate son / daughter is also entitled for compassionate\n",
    "# appointment and this question is no longer res integra and stand\n",
    "# decided authoritatively by the Supreme Court in V.R. Tripathi’s case 1\n",
    "# (supra).\n",
    "# 8. The Bombay High Court in the matter of Union of India and others v.\n",
    "# V.R. Tripathi 4 considered the issue relating to grant of compassionate\n",
    "# appointment to the children born out of second marriage in the light of\n",
    "# circular dated 2-1-1992 and directed for consideration for grant of\n",
    "# compassionate appointment sustaining the order of the Central\n",
    "# Administrative Tribunal in favour of the claimant of compassionate\n",
    "# appointment therein. When the matter was taken-up by the petitioners\n",
    "# -Railway authorities before the Supreme Court in V.R. Tripathi’s case 1\n",
    "# (supra), their Lordships in paragraph 12 formulated the following issue\n",
    "# for consideration: -\n",
    "# “12. The real issue in the present case, however, is\n",
    "# whether the condition which has been imposed by the\n",
    "# circular of the Railway Board under which compassionate\n",
    "# appointment cannot be granted to the children born from a\n",
    "# second marriage of a deceased employee (except where\n",
    "# the marriage was permitted by the administration taking\n",
    "# into account personal law, etc) accords with basic notions\n",
    "# of fairness and equal treatment, so as to be consistent with\n",
    "# Article 14 of the Constitution. ...”\n",
    "# 4 2016(3) ABR 529W.P.(S)No.1034/2022\n",
    "# Page 5 of 11\n",
    "# Their Lordships considered the issue threadbare and answered in\n",
    "# affirmative holding that the child born out of second marriage is still a\n",
    "# legitimate child and is entitled for grant of compassionate appointment\n",
    "# upholding the view taken by the Board and the High Court in\n",
    "# paragraphs 13 and 14, and held as under: -\n",
    "# “13. In sub-section (1) of Section 16, the legislature has\n",
    "# stipulated that a child born from a marriage which is null\n",
    "# and void under Section 11 is legitimate, regardless of\n",
    "# whether the birth has taken place before or after the\n",
    "# commencement of Amending Act 68 of 1976. Legitimacy of\n",
    "# a child born from a marriage which is null and void, is a\n",
    "# matter of public policy so as to protect a child born from\n",
    "# such a marriage from suffering the consequences of\n",
    "# illegitimacy. Hence, though the marriage may be null and\n",
    "# void, a child who is born from the marriage is nonetheless\n",
    "# treated as legitimate by sub-section (1) of Section 16. One\n",
    "# of the grounds on which a marriage is null and void under\n",
    "# Section 11 read with clause (i) of Section 5 is that the\n",
    "# marriage has been contracted when one of the parties had\n",
    "# a spouse living at the time of marriage. A second marriage\n",
    "# contracted by a Hindu during the subsistence of the first\n",
    "# marriage is, therefore, null and void.\n",
    "# However, the\n",
    "# legislature has stepped in by enacting Section 16(1) to\n",
    "# protect the legitimacy of a child born from such a marriage.\n",
    "# Sub-section (3) of Section 16, however, stipulates that such\n",
    "# a child who is born from a marriage which is null and void,\n",
    "# will have a right in the property only of the parents and\n",
    "# none other than the parents.\n",
    "# 14. The issue essentially is whether it is open to an\n",
    "# employer, who is amenable to Part III of the Constitution to\n",
    "# deny the benefit of compassionate appointment which is\n",
    "# available to other legitimate children. Undoubtedly, while\n",
    "# designing a policy of compassionate appointment, the\n",
    "# State can prescribe the terms on which it can be granted.\n",
    "# However, it is not open to the State, while making the\n",
    "# scheme or rules, to lay down a condition which is\n",
    "# inconsistent with Article 14 of the Constitution. The\n",
    "# purpose of compassionate appointment is to prevent\n",
    "# destitution and penury in the family of a deceased\n",
    "# employee. The effect of the circular is that irrespective of\n",
    "# the destitution which a child born from a second marriage\n",
    "# of a deceased employee may face, compassionateW.P.(S)No.1034/2022\n",
    "# Page 6 of 11\n",
    "# appointment is to be refused unless the second marriage\n",
    "# was contracted with the permission of the administration.\n",
    "# Once Section 16 of the Hindu Marriage Act, 1955 regards a\n",
    "# child born from a marriage entered into while the earlier\n",
    "# marriage is subsisting to be legitimate, it would not be open\n",
    "# to the State, consistent with Article 14 to exclude such a\n",
    "# child from seeking the benefit of compassionate\n",
    "# appointment. Such a condition of exclusion is arbitrary and\n",
    "# ultra vires.”\n",
    "# 9. The principle of law laid down by their Lordships of the Supreme Court\n",
    "# in V.R. Tripathi’s case 1 (supra) was further followed by a Three Judge\n",
    "# Bench of the Supreme Court in Mukesh Kumar (supra) with approval\n",
    "# and it has been held in paragraph 9 as under: -\n",
    "# “9.\n",
    "# While compassionate appointment is an exception to\n",
    "# the constitutional guarantee under Article 16, a policy for\n",
    "# compassionate appointment must be consistent with the\n",
    "# mandate of Articles 14 and 16. That is to say, a policy for\n",
    "# compassionate appointment, which has the force of law,\n",
    "# must not discriminate on any of the grounds mentioned in\n",
    "# Article 16(2), including that of descent. In this regard,\n",
    "# ‘descent’ must be understood to encompass the familial\n",
    "# origins of a person. 5 Familial origins include the validity of\n",
    "# the marriage of the parents of a claimant of compassionate\n",
    "# appointment and the claimant’s legitimacy as their child.\n",
    "# The policy cannot discriminate against a person only on the\n",
    "# ground of descent by classifying children of the deceased\n",
    "# employee as legitimate and illegitimate and recognizing\n",
    "# only the right of legitimate descendant. Apart from the fact\n",
    "# that strict scrutiny would reveal that the classification is\n",
    "# suspect, as demonstrated by this Court in V.R. Tripathi, it\n",
    "# will instantly fall foul of the constitutional prohibition of\n",
    "# discrimination on the ground of descent. Such a policy is\n",
    "# violative of Article 16(2).”\n",
    "# 10. As such, in view of the aforesaid decisions, it is quite vivid that the\n",
    "# petitioner herein / another son of the deceased Government servant,\n",
    "# even if he is illegitimate son of the deceased Government servant,\n",
    "# would be entitled for consideration on compassionate ground and\n",
    "# 5\n",
    "# See, Gazula Dasaratha Rama Rao v. State of Andhra Pradesh and others, (1961) 2 SCR 931W.P.(S)No.1034/2022\n",
    "# Page 7 of 11\n",
    "# cannot be denied consideration on the ground that he is illegitimate\n",
    "# son of the deceased Government servant.\n",
    "# 11. Now, the next question would be, who would be entitled for\n",
    "# appointment in view of the two rival claimants (two sons) for\n",
    "# compassionate appointment, whether it would be the petitioner herein\n",
    "# or Suresh Kumar Anchal – another son of the deceased Government\n",
    "# servant?\n",
    "# 12. Admittedly and undisputedly, circular dated 14-6-2013 and revised\n",
    "# circulars dated 22-3-2016 and 30-4-2016 would be applicable for\n",
    "# consideration on compassionate ground. The candidates who would\n",
    "# be eligible for compassionate appointment have been given in para 5\n",
    "# of circular dated 14-6-2013 which states as under: -\n",
    "# 13. A careful perusal of para 5 of the aforesaid circular would show that\n",
    "# preference has been given for consideration on compassionate\n",
    "# ground in para 5 and if a widow or widower of the deceased\n",
    "# Government servant is not eligible, then only, son / adopted son would\n",
    "# be entitled for consideration and in absence of that, daughter /\n",
    "# adopted daughter would be entitled for consideration. In the instantW.P.(S)No.1034/2022\n",
    "# Page 8 of 11\n",
    "# case, application has been filed by two sons of the deceased\n",
    "# Government servant who have claimed compassionate appointment.\n",
    "# In fact, both the widows have not claimed compassionate appointment\n",
    "# and relinquished their claim in favour of their respective sons and\n",
    "# therefore two sons of the deceased Government servant would be\n",
    "# entitled for consideration and eligibility has to be considered upon\n",
    "# considering their applications for compassionate appointment. The\n",
    "# respondent authorities have rejected the applications and directed for\n",
    "# obtaining succession certificate in view of the fact that there is rival\n",
    "# claim by two sons of the deceased Government servant for\n",
    "# compassionate appointment, as both will fall within the category of\n",
    "# para 5¼[k½ of circular dated 14-6-2013, but the circular is silent about\n",
    "# the manner / method of consideration in case of two rival claims in one\n",
    "# category.\n",
    "# 14. In this regard, the decision of the Patna High Court in Raj Kishore\n",
    "# Kumar (supra) may be noticed herein profitably in which it has been\n",
    "# held that it is the settled principle of law that the entitlement to\n",
    "# compassionate appointment has to be considered in order of seniority,\n",
    "# i.e., case of the elder brother will have the first priority and only if his\n",
    "# case is rejected then the case of the younger brother shall be\n",
    "# considered. It has been observed in paragraph 9 as under: -\n",
    "# “9.\n",
    "# In the aforesaid facts and circumstances, both the\n",
    "# writ applications are allowed and the impugned letter dated\n",
    "# 27.12.2005 and the decision of the District Compassionate\n",
    "# Committee dated 8.12.2005 in C.W.J.C. No.993 of 2006 as\n",
    "# also the impugned letter dated 8.11.2006 and the decision\n",
    "# dated 10.8.2006 of the District Compassionate Committee\n",
    "# in C.W.J.C. No.16352 of 2008 are quashed and the matter\n",
    "# is remanded to the District Compassionate Committee,\n",
    "# Muzaffarpur to reconsider the cases of both the petitioners\n",
    "# in accordance with law and take a final decision in theW.P.(S)No.1034/2022\n",
    "# Page 9 of 11\n",
    "# matter within a period of two months from the date of\n",
    "# receipt/production of a copy of this order. It is made clear\n",
    "# that as per the settled decisions of this Court the\n",
    "# entitlement to compassionate appointment has to be\n",
    "# considered in order of seniority, i.e., case of the elder\n",
    "# brother, Jai Kishore Manto will have the first priority and\n",
    "# only if his case is rejected then the case of the younger\n",
    "# brother Raj Kishor Kumar shall be considered.”\n",
    "# 15. As such, the decision of the Patna High Court in Raj Kishore Kumar\n",
    "# (supra) recognizing the principle that in case of two sons being\n",
    "# eligible, elder son has to be preferred first in order of seniority and will\n",
    "# have the first priority if qualified / eligible as per rules, appears to be\n",
    "# valid, rational and justified. The principle of law laid down by the\n",
    "# Patna High Court in Raj Kishore Kumar (supra) has been followed by\n",
    "# the Jharkhand High Court in the matters of Janki Devi and another v.\n",
    "# Jharkhand State Electricity Board and others 6 and Abhishek Nitin v.\n",
    "# Jharkhand State Electricity Board and others 7 . I fully agree with the\n",
    "# view taken by the High Court of Patna in Raj Kishore Kumar (supra)\n",
    "# followed by the Jharkhand High Court.\n",
    "# 16. In view of the aforesaid analysis, the impugned order dated 2-12-2021\n",
    "# directing to produce succession certificate is hereby set aside and the\n",
    "# matter is remitted to the respondent authorities to consider the\n",
    "# applications of the petitioner and one Suresh Kumar Anchal – sons of\n",
    "# the deceased Government servant for compassionate appointment\n",
    "# after giving them an opportunity to file representation qua their\n",
    "# entitlement / eligibility in light of the observations made herein-above.\n",
    "# Decision will be taken within 45 days from the date of receipt of a copy\n",
    "# of this order on its own merit, in accordance with law.\n",
    "# 6 2014 SCC OnLine Jhar 816\n",
    "# 7 2014 SCC OnLine Jhar 2775W.P.(S)No.1034/2022\n",
    "# Page 10 of 11\n",
    "# 17. The writ petition is allowed to the extent indicated herein-above\n",
    "# leaving the parties to bear their own cost(s).\n",
    "# Sd/-\n",
    "# (Sanjay K. Agrawal)\n",
    "# Judge\n",
    "# SomaW.P.(S)No.1034/2022\n",
    "# Page 11 of 11\n",
    "# HIGH COURT OF CHHATTISGARH, BILASPUR\n",
    "# Writ Petition (S) No.1034 of 2022\n",
    "# Piyush Kumar Anchal\n",
    "# Versus\n",
    "# State of C.G. and others\n",
    "# Head Note\n",
    "# Illegitimate son is also entitled to be considered for compassionate\n",
    "# appointment.\""
   ]
  },
  {
   "cell_type": "code",
   "execution_count": 5,
   "id": "4a610f00",
   "metadata": {},
   "outputs": [],
   "source": [
    "ARTICLE = l\n",
    "# ARTICLE = tx\n",
    "# ARTICLE = tx2\n",
    "# ARTICLE = tx3"
   ]
  },
  {
   "cell_type": "code",
   "execution_count": null,
   "id": "c6c59593",
   "metadata": {},
   "outputs": [],
   "source": [
    "text = ' '.join([summ['summary_text'] for summ in res])"
   ]
  },
  {
   "cell_type": "code",
   "execution_count": null,
   "id": "8c9c3b86",
   "metadata": {},
   "outputs": [],
   "source": [
    "with open('/media/anubhav/New Volume/vidhaan/ai_models/summary2.txt', 'w') as f:\n",
    "    f.write(text)"
   ]
  },
  {
   "cell_type": "code",
   "execution_count": null,
   "id": "1dfa456b",
   "metadata": {},
   "outputs": [],
   "source": [
    "tx2 = \"In sub-section (1) of Section 16, the legislature has stipulated that a child born from a marriage which is null and void under Section 11 is legitimate, regardless of whether the birth has taken place before or after the commencement of Amending Act 68 of 1976. Legitimacy of a child born from a marriage which is null and void, is a matter of public policy so as to protect a child born from such a marriage from suffering the consequences of illegitimacy. Hence, though the marriage may be null and void, a child who is born from the marriage is nonetheless treated as legitimate by sub-section (1) of Section 16. One of the grounds on which a marriage is null and void under Section 11 read with clause (i) of Section 5 is that the marriage has been contracted when one of the parties had a spouse living at the time of marriage. A second marriage contracted by a Hindu during the subsistence of the first marriage is, therefore, null and void. However, the legislature has stepped in by enacting Section 16(1) to protect the legitimacy of a child born from such a marriage. Sub-section (3) of Section 16, however, stipulates that such a child who is born from a marriage which is null and void, will have a right in the property only of the parents and none other than the parents.\""
   ]
  },
  {
   "cell_type": "code",
   "execution_count": null,
   "id": "bfab5521",
   "metadata": {},
   "outputs": [],
   "source": [
    "tx = \"Jailed: Joshua Sadler, 21, was sentenced to 12 months after admitting dangerous driving . The mother of a teenager who was killed when a friend crashed his car just four days after passing his test has spoken of her shock after the driver was jailed for only 12 months. Joshua Sadler, 21, lost control of his silver Renault Clio on a 60mph country road and smashed into a tree, killing front seat passenger Mikey Maguire, 19. Sadler had previously been convicted of a . string of serious motoring offences and twice banned from the road . before he even had a licence. He was seen on the night of the fatal crash performing handbrake turns and showing off in a car park. Sadler . pleaded guilty to causing death by careless driving and was sentenced . to 12 months in jail and banned him from driving for five years. Afterwards Mr Maguire’s mother Allison Jarman, 43, described the sentence as an ‘insult’. She said: 'When I was in court my head was in my hands and at one point I couldn’t even listen to what was happening. 'I . expected the sentence to be low because I have been doing a lot of . research online but when I heard it was 12 months it felt like a slap in . the face. 'Nothing can . bring Mikey back but 12 months for my son’s life is shocking. I was . absolutely speechless, he will be out in three months. 'Mikey and Joshua had known each other for years but I was under the impression that they weren’t close any more. 'He . had always been a bit of a troublemaker and had previous convictions . for driving offences. I always said he would end up hurting someone one . day, I just didn’t expect it to be my son.' The fatal crash happened on Huntick Road, Lytchett Matravers, near Poole, Dorset, on February 8 last year. Sadler, from Poole, lost control of his . car on a bend before it ploughed down a grass bank and struck the tree. Mr Maguire was pronounced dead at the scene. Victim: Mikey Maguire pictured on on holiday with his mother Allison, who described the sentence as an 'insult' to her son's memory . Sadler had previously been disqualified from driving after being convicted of two counts of aggravated vehicle taking. He appeared in court for one of the counts and driving without a licence and insurance in July 2010. In both incidents he lost control and caused more than £5,000 damage to one of the vehicles. Les Smith, defending, read out a statement from Sadler to Bournemouth Crown Court in which he expressed ‘regret and sorrow’ for the Mr Maguire’s death. He added: 'The incident haunts me every day and will do for the rest of my life. Nothing that is said or done to me can make me feel any worse.' As well as being jailed Sadler was disqualified from driving for five years and ordered to take an extended test at the end of the ban.\""
   ]
  },
  {
   "cell_type": "code",
   "execution_count": null,
   "id": "670f959b",
   "metadata": {},
   "outputs": [],
   "source": [
    "summary_gen = gen_summ(tx2)"
   ]
  },
  {
   "cell_type": "code",
   "execution_count": null,
   "id": "3391f75e",
   "metadata": {},
   "outputs": [],
   "source": [
    "res = summarizer(chunks, max_length=len(ARTICLE)//10, min_length=30, do_sample=False, device='cuda')\n",
    "text = ' '.join([summ['summary_text'] for summ in res])\n",
    "with open('/media/anubhav/New Volume/vidhaan/ai_models/judgement_summary/summary.txt', 'w') as f:\n",
    "    f.write(text)"
   ]
  },
  {
   "cell_type": "code",
   "execution_count": null,
   "id": "29d626f9",
   "metadata": {},
   "outputs": [],
   "source": []
  },
  {
   "cell_type": "code",
   "execution_count": null,
   "id": "d1779cc9",
   "metadata": {},
   "outputs": [],
   "source": []
  },
  {
   "cell_type": "code",
   "execution_count": null,
   "id": "c0ffb05c",
   "metadata": {},
   "outputs": [],
   "source": [
    "# pip install pyarrow==2.0"
   ]
  },
  {
   "cell_type": "code",
   "execution_count": null,
   "id": "bdab9260",
   "metadata": {},
   "outputs": [],
   "source": [
    "import pandas as pd\n"
   ]
  },
  {
   "cell_type": "code",
   "execution_count": null,
   "id": "9d06ca04",
   "metadata": {},
   "outputs": [],
   "source": [
    "data = pd.read_csv('/media/anubhav/New Volume/vidhaan/ai_models/petition_acceptance/petition_data.csv')"
   ]
  },
  {
   "cell_type": "code",
   "execution_count": null,
   "id": "6c0eecfc",
   "metadata": {},
   "outputs": [],
   "source": [
    "df_new = pd.DataFrame(columns = ['text'])"
   ]
  },
  {
   "cell_type": "code",
   "execution_count": null,
   "id": "d02e2ffe",
   "metadata": {},
   "outputs": [],
   "source": [
    "# def compute():\n",
    "#     for ARTICLE in data['text']:\n",
    "#         ARTICLE = ARTICLE.replace('.', '.<eos>')\n",
    "#         ARTICLE = ARTICLE.replace('?', '?<eos>')\n",
    "#         ARTICLE = ARTICLE.replace('!', '!<eos>')\n",
    "\n",
    "#         sentences = ARTICLE.split('<eos>')\n",
    "#         current_chunk = 0 \n",
    "#         chunks = []\n",
    "#         for sentence in sentences:\n",
    "#             if len(chunks) == current_chunk + 1: \n",
    "#                 if len(chunks[current_chunk]) + len(sentence.split(' ')) <= max_chunk:\n",
    "#                     chunks[current_chunk].extend(sentence.split(' '))\n",
    "#                 else:\n",
    "#                     current_chunk += 1\n",
    "#                     chunks.append(sentence.split(' '))\n",
    "#             else:\n",
    "#                 print(current_chunk)\n",
    "#                 chunks.append(sentence.split(' '))\n",
    "\n",
    "#         for chunk_id in range(len(chunks)):\n",
    "#             chunks[chunk_id] = ' '.join(chunks[chunk_id])\n",
    "        \n",
    "#         res = summarizer(chunks, max_length=768,min_length=128,do_sample=False, device='cuda')\n",
    "#         text = ' '.join([summ['summary_text'] for summ in res])\n",
    "#         df_new = df_new.append({'text':text})\n",
    "#         yield"
   ]
  },
  {
   "cell_type": "code",
   "execution_count": null,
   "id": "15ed2a18",
   "metadata": {},
   "outputs": [],
   "source": [
    "# from alive_progress import alive_bar\n",
    "\n",
    "# with alive_bar(len(data['text'])) as bar:\n",
    "#     for ARTICLE in compute():\n",
    "#         bar()"
   ]
  },
  {
   "cell_type": "code",
   "execution_count": null,
   "id": "8979a1cd",
   "metadata": {},
   "outputs": [],
   "source": [
    "for ARTICLE in data['text']:\n",
    "        ARTICLE = ARTICLE.replace('.', '.<eos>')\n",
    "        ARTICLE = ARTICLE.replace('?', '?<eos>')\n",
    "        ARTICLE = ARTICLE.replace('!', '!<eos>')\n",
    "\n",
    "        sentences = ARTICLE.split('<eos>')\n",
    "        current_chunk = 0 \n",
    "        chunks = []\n",
    "        for sentence in sentences:\n",
    "            if len(chunks) == current_chunk + 1: \n",
    "                if len(chunks[current_chunk]) + len(sentence.split(' ')) <= max_chunk:\n",
    "                    chunks[current_chunk].extend(sentence.split(' '))\n",
    "                else:\n",
    "                    current_chunk += 1\n",
    "                    chunks.append(sentence.split(' '))\n",
    "            else:\n",
    "                print(current_chunk)\n",
    "                chunks.append(sentence.split(' '))\n",
    "\n",
    "        for chunk_id in range(len(chunks)):\n",
    "            chunks[chunk_id] = ' '.join(chunks[chunk_id])\n",
    "        \n",
    "        res = summarizer(chunks, max_length=768,min_length=128,do_sample=False, device='cuda')\n",
    "        text = ' '.join([summ['summary_text'] for summ in res])\n",
    "        df_new = df_new.append({'text':text})"
   ]
  },
  {
   "cell_type": "code",
   "execution_count": null,
   "id": "97b0a427",
   "metadata": {},
   "outputs": [],
   "source": [
    "# ARTICLE = data['text'][0]\n",
    "ARTICLE = l\n",
    "\n",
    "ARTICLE = ARTICLE.replace('.', '.<eos>')\n",
    "ARTICLE = ARTICLE.replace('?', '?<eos>')\n",
    "ARTICLE = ARTICLE.replace('!', '!<eos>')\n",
    "\n",
    "sentences = ARTICLE.split('<eos>')\n",
    "current_chunk = 0 \n",
    "chunks = []\n",
    "for sentence in sentences:\n",
    "    if len(chunks) == current_chunk + 1: \n",
    "        if len(chunks[current_chunk]) + len(sentence.split(' ')) <= max_chunk:\n",
    "            chunks[current_chunk].extend(sentence.split(' '))\n",
    "        else:\n",
    "            current_chunk += 1\n",
    "            chunks.append(sentence.split(' '))\n",
    "    else:\n",
    "        print(current_chunk)\n",
    "        chunks.append(sentence.split(' '))\n",
    "\n",
    "for chunk_id in range(len(chunks)):\n",
    "    chunks[chunk_id] = ' '.join(chunks[chunk_id])\n",
    "        \n",
    "res = summarizer(chunks, max_length=512,min_length=128,do_sample=False, device='cuda')\n",
    "text = ' '.join([summ['summary_text'] for summ in res])"
   ]
  },
  {
   "cell_type": "code",
   "execution_count": null,
   "id": "0282dcbd",
   "metadata": {},
   "outputs": [],
   "source": []
  }
 ],
 "metadata": {
  "kernelspec": {
   "display_name": "Python [conda env:vidhaan] *",
   "language": "python",
   "name": "conda-env-vidhaan-py"
  },
  "language_info": {
   "codemirror_mode": {
    "name": "ipython",
    "version": 3
   },
   "file_extension": ".py",
   "mimetype": "text/x-python",
   "name": "python",
   "nbconvert_exporter": "python",
   "pygments_lexer": "ipython3",
   "version": "3.7.12"
  }
 },
 "nbformat": 4,
 "nbformat_minor": 5
}

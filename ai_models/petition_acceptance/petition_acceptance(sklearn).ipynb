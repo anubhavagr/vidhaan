{
 "cells": [
  {
   "cell_type": "code",
   "execution_count": 1,
   "id": "314a5e09",
   "metadata": {},
   "outputs": [],
   "source": [
    "#ref:- ILDC CJPE GITHUB"
   ]
  },
  {
   "cell_type": "code",
   "execution_count": 2,
   "id": "1e07640b",
   "metadata": {},
   "outputs": [],
   "source": [
    "# NO VALIDATION"
   ]
  },
  {
   "cell_type": "code",
   "execution_count": 3,
   "id": "283377d9",
   "metadata": {},
   "outputs": [],
   "source": [
    "import pandas as pd\n",
    "import numpy as np\n",
    "from sklearn.model_selection import train_test_split\n",
    "from sklearn.linear_model import LogisticRegression\n",
    "from sklearn import feature_extraction, linear_model, model_selection, preprocessing\n",
    "from sklearn.metrics import ConfusionMatrixDisplay\n",
    "import matplotlib.pyplot as plt"
   ]
  },
  {
   "cell_type": "code",
   "execution_count": 4,
   "id": "b7b21176",
   "metadata": {},
   "outputs": [],
   "source": [
    "df = pd.read_csv(\"/media/anubhav/New Volume/vidhaan/dataset/data/ILDC_single/ILDC_single.csv\")"
   ]
  },
  {
   "cell_type": "code",
   "execution_count": 5,
   "id": "eb6e127f",
   "metadata": {},
   "outputs": [],
   "source": [
    "train_set = df.query(\" split=='train' \")\n",
    "test_set = df.query(\" split=='test' \")\n",
    "val_set = df.query(\" split=='dev' \")"
   ]
  },
  {
   "cell_type": "code",
   "execution_count": 6,
   "id": "ae9c6ee1",
   "metadata": {},
   "outputs": [],
   "source": [
    "del train_set['split'],train_set['name'],val_set['split'],val_set['name'],test_set['split'],test_set['name']"
   ]
  },
  {
   "cell_type": "code",
   "execution_count": 7,
   "id": "ca3483ea",
   "metadata": {},
   "outputs": [
    {
     "data": {
      "text/html": [
       "<div>\n",
       "<style scoped>\n",
       "    .dataframe tbody tr th:only-of-type {\n",
       "        vertical-align: middle;\n",
       "    }\n",
       "\n",
       "    .dataframe tbody tr th {\n",
       "        vertical-align: top;\n",
       "    }\n",
       "\n",
       "    .dataframe thead th {\n",
       "        text-align: right;\n",
       "    }\n",
       "</style>\n",
       "<table border=\"1\" class=\"dataframe\">\n",
       "  <thead>\n",
       "    <tr style=\"text-align: right;\">\n",
       "      <th></th>\n",
       "      <th>text</th>\n",
       "      <th>label</th>\n",
       "    </tr>\n",
       "  </thead>\n",
       "  <tbody>\n",
       "    <tr>\n",
       "      <th>0</th>\n",
       "      <td>F. NARIMAN, J. Leave granted. In 2008, the Pu...</td>\n",
       "      <td>1</td>\n",
       "    </tr>\n",
       "    <tr>\n",
       "      <th>1</th>\n",
       "      <td>S. THAKUR, J. Leave granted. These appeals ar...</td>\n",
       "      <td>0</td>\n",
       "    </tr>\n",
       "    <tr>\n",
       "      <th>2</th>\n",
       "      <td>Markandey Katju, J. Leave granted. Heard lear...</td>\n",
       "      <td>1</td>\n",
       "    </tr>\n",
       "    <tr>\n",
       "      <th>3</th>\n",
       "      <td>ALTAMAS KABIR,J. Leave granted. The question ...</td>\n",
       "      <td>1</td>\n",
       "    </tr>\n",
       "    <tr>\n",
       "      <th>4</th>\n",
       "      <td>CIVIL APPEAL NO. 598 OF 2007 K. MATHUR, J. Th...</td>\n",
       "      <td>1</td>\n",
       "    </tr>\n",
       "    <tr>\n",
       "      <th>5</th>\n",
       "      <td>O R D E R CIVIL APPEAL NOS. 85-86 OF 2002 Thes...</td>\n",
       "      <td>0</td>\n",
       "    </tr>\n",
       "    <tr>\n",
       "      <th>6</th>\n",
       "      <td>O R D E R Arising out of S.L.P C  No.3358 of ...</td>\n",
       "      <td>1</td>\n",
       "    </tr>\n",
       "    <tr>\n",
       "      <th>7</th>\n",
       "      <td>SANTOSH HEGDE, J. Noticing certain companytra...</td>\n",
       "      <td>0</td>\n",
       "    </tr>\n",
       "    <tr>\n",
       "      <th>8</th>\n",
       "      <td>2004  3   SCR 534 WITH W.P.  C  No. 852/91, C...</td>\n",
       "      <td>0</td>\n",
       "    </tr>\n",
       "    <tr>\n",
       "      <th>9</th>\n",
       "      <td>Arising out SLP  c  No. 16202 of 2003  With ...</td>\n",
       "      <td>1</td>\n",
       "    </tr>\n",
       "  </tbody>\n",
       "</table>\n",
       "</div>"
      ],
      "text/plain": [
       "                                                text  label\n",
       "0   F. NARIMAN, J. Leave granted. In 2008, the Pu...      1\n",
       "1   S. THAKUR, J. Leave granted. These appeals ar...      0\n",
       "2   Markandey Katju, J. Leave granted. Heard lear...      1\n",
       "3   ALTAMAS KABIR,J. Leave granted. The question ...      1\n",
       "4   CIVIL APPEAL NO. 598 OF 2007 K. MATHUR, J. Th...      1\n",
       "5  O R D E R CIVIL APPEAL NOS. 85-86 OF 2002 Thes...      0\n",
       "6   O R D E R Arising out of S.L.P C  No.3358 of ...      1\n",
       "7   SANTOSH HEGDE, J. Noticing certain companytra...      0\n",
       "8   2004  3   SCR 534 WITH W.P.  C  No. 852/91, C...      0\n",
       "9    Arising out SLP  c  No. 16202 of 2003  With ...      1"
      ]
     },
     "execution_count": 7,
     "metadata": {},
     "output_type": "execute_result"
    }
   ],
   "source": [
    "train_set.head(10)"
   ]
  },
  {
   "cell_type": "code",
   "execution_count": 8,
   "id": "aa2ba5a1",
   "metadata": {},
   "outputs": [],
   "source": [
    "x_train = train_set['text']\n",
    "y_train = train_set['label']\n",
    "\n",
    "x_test = test_set['text']\n",
    "y_test = test_set['label']\n",
    "\n",
    "x_val = val_set['text']\n",
    "y_val = val_set['label']"
   ]
  },
  {
   "cell_type": "code",
   "execution_count": 9,
   "id": "5332f78b",
   "metadata": {},
   "outputs": [],
   "source": [
    "# del train_set,val_set,test_set"
   ]
  },
  {
   "cell_type": "code",
   "execution_count": 10,
   "id": "64b4bbc0",
   "metadata": {},
   "outputs": [
    {
     "name": "stdout",
     "output_type": "stream",
     "text": [
      "(5082,)\n",
      "(5082,)\n",
      "(1517,)\n",
      "(1517,)\n"
     ]
    }
   ],
   "source": [
    "print(x_train.shape)\n",
    "print(y_train.shape)\n",
    "print(x_test.shape)\n",
    "print(y_test.shape)"
   ]
  },
  {
   "cell_type": "code",
   "execution_count": 11,
   "id": "a05fcfbb",
   "metadata": {},
   "outputs": [],
   "source": [
    "from sklearn.feature_extraction.text import TfidfVectorizer\n",
    "\n",
    "vectorizer = TfidfVectorizer()\n",
    "\n",
    "train_vectors = vectorizer.fit_transform(x_train)"
   ]
  },
  {
   "cell_type": "code",
   "execution_count": 12,
   "id": "f2c9de5d",
   "metadata": {},
   "outputs": [
    {
     "data": {
      "text/plain": [
       "array([0.27467811, 0.22123894, 0.26431718, 0.36734694, 0.27237354,\n",
       "       0.37903226, 0.41304348, 0.43097643, 0.41237113, 0.48916409,\n",
       "       0.54037267])"
      ]
     },
     "execution_count": 12,
     "metadata": {},
     "output_type": "execute_result"
    }
   ],
   "source": [
    "clf = linear_model.RidgeClassifier()\n",
    "\n",
    "scores = model_selection.cross_val_score(clf, train_vectors, y=y_train, cv=11, scoring=\"f1\")\n",
    "scores"
   ]
  },
  {
   "cell_type": "code",
   "execution_count": 13,
   "id": "47242fc3",
   "metadata": {},
   "outputs": [
    {
     "data": {
      "text/plain": [
       "RidgeClassifier()"
      ]
     },
     "execution_count": 13,
     "metadata": {},
     "output_type": "execute_result"
    }
   ],
   "source": [
    "clf.fit(train_vectors,y_train)"
   ]
  },
  {
   "cell_type": "code",
   "execution_count": 14,
   "id": "925e6dd1",
   "metadata": {},
   "outputs": [],
   "source": [
    "test_vectors = vectorizer.transform(x_test)\n"
   ]
  },
  {
   "cell_type": "code",
   "execution_count": 15,
   "id": "4825045a",
   "metadata": {},
   "outputs": [
    {
     "data": {
      "image/png": "[encoded data removed]",
      "text/plain": [
       "<Figure size 640x480 with 2 Axes>"
      ]
     },
     "metadata": {},
     "output_type": "display_data"
    }
   ],
   "source": [
    "ConfusionMatrixDisplay.from_estimator(clf,test_vectors,y_test)\n",
    "plt.show()"
   ]
  },
  {
   "cell_type": "code",
   "execution_count": 16,
   "id": "48167b89",
   "metadata": {},
   "outputs": [
    {
     "data": {
      "text/html": [
       "<div>\n",
       "<style scoped>\n",
       "    .dataframe tbody tr th:only-of-type {\n",
       "        vertical-align: middle;\n",
       "    }\n",
       "\n",
       "    .dataframe tbody tr th {\n",
       "        vertical-align: top;\n",
       "    }\n",
       "\n",
       "    .dataframe thead th {\n",
       "        text-align: right;\n",
       "    }\n",
       "</style>\n",
       "<table border=\"1\" class=\"dataframe\">\n",
       "  <thead>\n",
       "    <tr style=\"text-align: right;\">\n",
       "      <th></th>\n",
       "      <th>text</th>\n",
       "      <th>label</th>\n",
       "    </tr>\n",
       "  </thead>\n",
       "  <tbody>\n",
       "    <tr>\n",
       "      <th>5082</th>\n",
       "      <td>civil appellate jurisdiction civil appeal numb...</td>\n",
       "      <td>1</td>\n",
       "    </tr>\n",
       "    <tr>\n",
       "      <th>5083</th>\n",
       "      <td>criminal appellate jurisdiction special leave ...</td>\n",
       "      <td>0</td>\n",
       "    </tr>\n",
       "    <tr>\n",
       "      <th>5084</th>\n",
       "      <td>criminal appellate jurisdiction criminal appea...</td>\n",
       "      <td>0</td>\n",
       "    </tr>\n",
       "    <tr>\n",
       "      <th>5085</th>\n",
       "      <td>civil appellate jurisdiction civil appeal numb...</td>\n",
       "      <td>0</td>\n",
       "    </tr>\n",
       "    <tr>\n",
       "      <th>5086</th>\n",
       "      <td>civil appellate jurisdiction civil appeal numb...</td>\n",
       "      <td>1</td>\n",
       "    </tr>\n",
       "  </tbody>\n",
       "</table>\n",
       "</div>"
      ],
      "text/plain": [
       "                                                   text  label\n",
       "5082  civil appellate jurisdiction civil appeal numb...      1\n",
       "5083  criminal appellate jurisdiction special leave ...      0\n",
       "5084  criminal appellate jurisdiction criminal appea...      0\n",
       "5085  civil appellate jurisdiction civil appeal numb...      0\n",
       "5086  civil appellate jurisdiction civil appeal numb...      1"
      ]
     },
     "execution_count": 16,
     "metadata": {},
     "output_type": "execute_result"
    }
   ],
   "source": [
    "test_set.head()"
   ]
  },
  {
   "cell_type": "code",
   "execution_count": 17,
   "id": "0b9eb3ad",
   "metadata": {},
   "outputs": [
    {
     "name": "stderr",
     "output_type": "stream",
     "text": [
      "/home/anubhav/miniconda3/envs/vidhaan/lib/python3.7/site-packages/ipykernel_launcher.py:1: SettingWithCopyWarning: \n",
      "A value is trying to be set on a copy of a slice from a DataFrame.\n",
      "Try using .loc[row_indexer,col_indexer] = value instead\n",
      "\n",
      "See the caveats in the documentation: https://pandas.pydata.org/pandas-docs/stable/user_guide/indexing.html#returning-a-view-versus-a-copy\n",
      "  \"\"\"Entry point for launching an IPython kernel.\n",
      "/home/anubhav/miniconda3/envs/vidhaan/lib/python3.7/site-packages/ipykernel_launcher.py:2: SettingWithCopyWarning: \n",
      "A value is trying to be set on a copy of a slice from a DataFrame.\n",
      "Try using .loc[row_indexer,col_indexer] = value instead\n",
      "\n",
      "See the caveats in the documentation: https://pandas.pydata.org/pandas-docs/stable/user_guide/indexing.html#returning-a-view-versus-a-copy\n",
      "  \n"
     ]
    }
   ],
   "source": [
    "test_set['Prediction'] = clf.predict(test_vectors)\n",
    "test_set['probability'] = clf.decision_function(test_vectors)"
   ]
  },
  {
   "cell_type": "code",
   "execution_count": 18,
   "id": "7876d0da",
   "metadata": {},
   "outputs": [
    {
     "data": {
      "text/html": [
       "<div>\n",
       "<style scoped>\n",
       "    .dataframe tbody tr th:only-of-type {\n",
       "        vertical-align: middle;\n",
       "    }\n",
       "\n",
       "    .dataframe tbody tr th {\n",
       "        vertical-align: top;\n",
       "    }\n",
       "\n",
       "    .dataframe thead th {\n",
       "        text-align: right;\n",
       "    }\n",
       "</style>\n",
       "<table border=\"1\" class=\"dataframe\">\n",
       "  <thead>\n",
       "    <tr style=\"text-align: right;\">\n",
       "      <th></th>\n",
       "      <th>text</th>\n",
       "      <th>label</th>\n",
       "      <th>Prediction</th>\n",
       "      <th>probability</th>\n",
       "    </tr>\n",
       "  </thead>\n",
       "  <tbody>\n",
       "    <tr>\n",
       "      <th>5082</th>\n",
       "      <td>civil appellate jurisdiction civil appeal numb...</td>\n",
       "      <td>1</td>\n",
       "      <td>0</td>\n",
       "      <td>-0.124477</td>\n",
       "    </tr>\n",
       "    <tr>\n",
       "      <th>5083</th>\n",
       "      <td>criminal appellate jurisdiction special leave ...</td>\n",
       "      <td>0</td>\n",
       "      <td>0</td>\n",
       "      <td>-0.086525</td>\n",
       "    </tr>\n",
       "    <tr>\n",
       "      <th>5084</th>\n",
       "      <td>criminal appellate jurisdiction criminal appea...</td>\n",
       "      <td>0</td>\n",
       "      <td>1</td>\n",
       "      <td>0.218550</td>\n",
       "    </tr>\n",
       "    <tr>\n",
       "      <th>5085</th>\n",
       "      <td>civil appellate jurisdiction civil appeal numb...</td>\n",
       "      <td>0</td>\n",
       "      <td>1</td>\n",
       "      <td>0.270277</td>\n",
       "    </tr>\n",
       "    <tr>\n",
       "      <th>5086</th>\n",
       "      <td>civil appellate jurisdiction civil appeal numb...</td>\n",
       "      <td>1</td>\n",
       "      <td>0</td>\n",
       "      <td>-0.329202</td>\n",
       "    </tr>\n",
       "  </tbody>\n",
       "</table>\n",
       "</div>"
      ],
      "text/plain": [
       "                                                   text  label  Prediction  \\\n",
       "5082  civil appellate jurisdiction civil appeal numb...      1           0   \n",
       "5083  criminal appellate jurisdiction special leave ...      0           0   \n",
       "5084  criminal appellate jurisdiction criminal appea...      0           1   \n",
       "5085  civil appellate jurisdiction civil appeal numb...      0           1   \n",
       "5086  civil appellate jurisdiction civil appeal numb...      1           0   \n",
       "\n",
       "      probability  \n",
       "5082    -0.124477  \n",
       "5083    -0.086525  \n",
       "5084     0.218550  \n",
       "5085     0.270277  \n",
       "5086    -0.329202  "
      ]
     },
     "execution_count": 18,
     "metadata": {},
     "output_type": "execute_result"
    }
   ],
   "source": [
    "test_set.head()"
   ]
  },
  {
   "cell_type": "code",
   "execution_count": 19,
   "id": "6445e860",
   "metadata": {},
   "outputs": [],
   "source": [
    "test_set = test_set.reset_index(drop=True)"
   ]
  },
  {
   "cell_type": "code",
   "execution_count": 20,
   "id": "d88a5a40",
   "metadata": {},
   "outputs": [],
   "source": [
    "# list(test_set['probability'])"
   ]
  },
  {
   "cell_type": "code",
   "execution_count": 21,
   "id": "973af91a",
   "metadata": {
    "scrolled": false
   },
   "outputs": [
    {
     "data": {
      "text/html": [
       "<div>\n",
       "<style scoped>\n",
       "    .dataframe tbody tr th:only-of-type {\n",
       "        vertical-align: middle;\n",
       "    }\n",
       "\n",
       "    .dataframe tbody tr th {\n",
       "        vertical-align: top;\n",
       "    }\n",
       "\n",
       "    .dataframe thead th {\n",
       "        text-align: right;\n",
       "    }\n",
       "</style>\n",
       "<table border=\"1\" class=\"dataframe\">\n",
       "  <thead>\n",
       "    <tr style=\"text-align: right;\">\n",
       "      <th></th>\n",
       "      <th>text</th>\n",
       "      <th>label</th>\n",
       "      <th>Prediction</th>\n",
       "      <th>probability</th>\n",
       "    </tr>\n",
       "  </thead>\n",
       "  <tbody>\n",
       "    <tr>\n",
       "      <th>0</th>\n",
       "      <td>civil appellate jurisdiction civil appeal numb...</td>\n",
       "      <td>1</td>\n",
       "      <td>0</td>\n",
       "      <td>-0.124477</td>\n",
       "    </tr>\n",
       "    <tr>\n",
       "      <th>1</th>\n",
       "      <td>criminal appellate jurisdiction special leave ...</td>\n",
       "      <td>0</td>\n",
       "      <td>0</td>\n",
       "      <td>-0.086525</td>\n",
       "    </tr>\n",
       "    <tr>\n",
       "      <th>2</th>\n",
       "      <td>criminal appellate jurisdiction criminal appea...</td>\n",
       "      <td>0</td>\n",
       "      <td>1</td>\n",
       "      <td>0.218550</td>\n",
       "    </tr>\n",
       "    <tr>\n",
       "      <th>3</th>\n",
       "      <td>civil appellate jurisdiction civil appeal numb...</td>\n",
       "      <td>0</td>\n",
       "      <td>1</td>\n",
       "      <td>0.270277</td>\n",
       "    </tr>\n",
       "    <tr>\n",
       "      <th>4</th>\n",
       "      <td>civil appellate jurisdiction civil appeal numb...</td>\n",
       "      <td>1</td>\n",
       "      <td>0</td>\n",
       "      <td>-0.329202</td>\n",
       "    </tr>\n",
       "    <tr>\n",
       "      <th>5</th>\n",
       "      <td>civil appellate jurisdiction civil appeal numb...</td>\n",
       "      <td>0</td>\n",
       "      <td>1</td>\n",
       "      <td>0.024221</td>\n",
       "    </tr>\n",
       "    <tr>\n",
       "      <th>6</th>\n",
       "      <td>original jurisdiction writ petition  criminal ...</td>\n",
       "      <td>0</td>\n",
       "      <td>0</td>\n",
       "      <td>-0.247905</td>\n",
       "    </tr>\n",
       "    <tr>\n",
       "      <th>7</th>\n",
       "      <td>\\n1965 air  sc  254\\n\\nthe judgment was delive...</td>\n",
       "      <td>0</td>\n",
       "      <td>0</td>\n",
       "      <td>-0.110631</td>\n",
       "    </tr>\n",
       "    <tr>\n",
       "      <th>8</th>\n",
       "      <td>original jurisdiction writ petition number 587...</td>\n",
       "      <td>1</td>\n",
       "      <td>0</td>\n",
       "      <td>-0.139359</td>\n",
       "    </tr>\n",
       "    <tr>\n",
       "      <th>9</th>\n",
       "      <td>criminal appellate jurisdiction criminal appea...</td>\n",
       "      <td>0</td>\n",
       "      <td>0</td>\n",
       "      <td>-0.516738</td>\n",
       "    </tr>\n",
       "    <tr>\n",
       "      <th>10</th>\n",
       "      <td>civil appellate jurisdiction c.a. number. 1694...</td>\n",
       "      <td>1</td>\n",
       "      <td>0</td>\n",
       "      <td>-0.408600</td>\n",
       "    </tr>\n",
       "    <tr>\n",
       "      <th>11</th>\n",
       "      <td>civil appellate jurisdiction civil appeal numb...</td>\n",
       "      <td>0</td>\n",
       "      <td>1</td>\n",
       "      <td>0.134637</td>\n",
       "    </tr>\n",
       "    <tr>\n",
       "      <th>12</th>\n",
       "      <td>\\n\\ns. hegde c.j. both these appeals arise fro...</td>\n",
       "      <td>1</td>\n",
       "      <td>0</td>\n",
       "      <td>-0.323892</td>\n",
       "    </tr>\n",
       "    <tr>\n",
       "      <th>13</th>\n",
       "      <td>civil appellate jurisdiction civil appeal numb...</td>\n",
       "      <td>1</td>\n",
       "      <td>1</td>\n",
       "      <td>0.375654</td>\n",
       "    </tr>\n",
       "    <tr>\n",
       "      <th>14</th>\n",
       "      <td>civil appellate jurisdiction civil appeal numb...</td>\n",
       "      <td>0</td>\n",
       "      <td>0</td>\n",
       "      <td>-0.499661</td>\n",
       "    </tr>\n",
       "    <tr>\n",
       "      <th>15</th>\n",
       "      <td>civil appellate jurisdiction civil appeal numb...</td>\n",
       "      <td>0</td>\n",
       "      <td>0</td>\n",
       "      <td>-0.126763</td>\n",
       "    </tr>\n",
       "    <tr>\n",
       "      <th>16</th>\n",
       "      <td>civil appellate jurisdiction civil appeal numb...</td>\n",
       "      <td>1</td>\n",
       "      <td>1</td>\n",
       "      <td>0.031369</td>\n",
       "    </tr>\n",
       "    <tr>\n",
       "      <th>17</th>\n",
       "      <td>civil appellate jurisdiction civil appeal numb...</td>\n",
       "      <td>1</td>\n",
       "      <td>0</td>\n",
       "      <td>-0.358198</td>\n",
       "    </tr>\n",
       "    <tr>\n",
       "      <th>18</th>\n",
       "      <td>civil appellate jurisdiction civil appeal numb...</td>\n",
       "      <td>1</td>\n",
       "      <td>0</td>\n",
       "      <td>-0.131116</td>\n",
       "    </tr>\n",
       "    <tr>\n",
       "      <th>19</th>\n",
       "      <td>civil appellate jurisdiction civil appeal numb...</td>\n",
       "      <td>1</td>\n",
       "      <td>0</td>\n",
       "      <td>-0.074214</td>\n",
       "    </tr>\n",
       "  </tbody>\n",
       "</table>\n",
       "</div>"
      ],
      "text/plain": [
       "                                                 text  label  Prediction  \\\n",
       "0   civil appellate jurisdiction civil appeal numb...      1           0   \n",
       "1   criminal appellate jurisdiction special leave ...      0           0   \n",
       "2   criminal appellate jurisdiction criminal appea...      0           1   \n",
       "3   civil appellate jurisdiction civil appeal numb...      0           1   \n",
       "4   civil appellate jurisdiction civil appeal numb...      1           0   \n",
       "5   civil appellate jurisdiction civil appeal numb...      0           1   \n",
       "6   original jurisdiction writ petition  criminal ...      0           0   \n",
       "7   \\n1965 air  sc  254\\n\\nthe judgment was delive...      0           0   \n",
       "8   original jurisdiction writ petition number 587...      1           0   \n",
       "9   criminal appellate jurisdiction criminal appea...      0           0   \n",
       "10  civil appellate jurisdiction c.a. number. 1694...      1           0   \n",
       "11  civil appellate jurisdiction civil appeal numb...      0           1   \n",
       "12  \\n\\ns. hegde c.j. both these appeals arise fro...      1           0   \n",
       "13  civil appellate jurisdiction civil appeal numb...      1           1   \n",
       "14  civil appellate jurisdiction civil appeal numb...      0           0   \n",
       "15  civil appellate jurisdiction civil appeal numb...      0           0   \n",
       "16  civil appellate jurisdiction civil appeal numb...      1           1   \n",
       "17  civil appellate jurisdiction civil appeal numb...      1           0   \n",
       "18  civil appellate jurisdiction civil appeal numb...      1           0   \n",
       "19  civil appellate jurisdiction civil appeal numb...      1           0   \n",
       "\n",
       "    probability  \n",
       "0     -0.124477  \n",
       "1     -0.086525  \n",
       "2      0.218550  \n",
       "3      0.270277  \n",
       "4     -0.329202  \n",
       "5      0.024221  \n",
       "6     -0.247905  \n",
       "7     -0.110631  \n",
       "8     -0.139359  \n",
       "9     -0.516738  \n",
       "10    -0.408600  \n",
       "11     0.134637  \n",
       "12    -0.323892  \n",
       "13     0.375654  \n",
       "14    -0.499661  \n",
       "15    -0.126763  \n",
       "16     0.031369  \n",
       "17    -0.358198  \n",
       "18    -0.131116  \n",
       "19    -0.074214  "
      ]
     },
     "execution_count": 21,
     "metadata": {},
     "output_type": "execute_result"
    }
   ],
   "source": [
    "test_set.head(20)"
   ]
  },
  {
   "cell_type": "code",
   "execution_count": 22,
   "id": "d321d356",
   "metadata": {},
   "outputs": [],
   "source": [
    "lbl,pred = list(test_set['label']),list(test_set['Prediction'])\n",
    "right,wrong = 0,0\n",
    "\n",
    "for i in range(len(lbl)):\n",
    "    if lbl[i]==pred[i]:   #correct pred\n",
    "        right+=1\n",
    "    else:\n",
    "        wrong+=1          #wrong pred"
   ]
  },
  {
   "cell_type": "code",
   "execution_count": 23,
   "id": "09f5c287",
   "metadata": {},
   "outputs": [
    {
     "name": "stdout",
     "output_type": "stream",
     "text": [
      "Accuracy: 58.40474620962426\n",
      "Right predictions: 886\n",
      "Wrong predictions: 631\n"
     ]
    }
   ],
   "source": [
    "print(f\"Accuracy: {100*(right/len(lbl))}\")\n",
    "print(f\"Right predictions: {right}\")\n",
    "print(f\"Wrong predictions: {wrong}\")"
   ]
  },
  {
   "cell_type": "code",
   "execution_count": 24,
   "id": "071c5bc9",
   "metadata": {},
   "outputs": [
    {
     "data": {
      "text/plain": [
       "0.5840474620962426"
      ]
     },
     "execution_count": 24,
     "metadata": {},
     "output_type": "execute_result"
    }
   ],
   "source": [
    "clf.score(X=test_vectors,y=y_test)"
   ]
  }
 ],
 "metadata": {
  "kernelspec": {
   "display_name": "Python [conda env:vidhaan] *",
   "language": "python",
   "name": "conda-env-vidhaan-py"
  },
  "language_info": {
   "codemirror_mode": {
    "name": "ipython",
    "version": 3
   },
   "file_extension": ".py",
   "mimetype": "text/x-python",
   "name": "python",
   "nbconvert_exporter": "python",
   "pygments_lexer": "ipython3",
   "version": "3.7.12"
  }
 },
 "nbformat": 4,
 "nbformat_minor": 5
}

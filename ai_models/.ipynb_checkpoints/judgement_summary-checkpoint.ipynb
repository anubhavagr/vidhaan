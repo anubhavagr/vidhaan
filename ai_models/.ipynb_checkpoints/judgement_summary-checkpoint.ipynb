{
 "cells": [
  {
   "cell_type": "code",
   "execution_count": 1,
   "id": "85daa790",
   "metadata": {},
   "outputs": [],
   "source": [
    "# pip install -U transformers"
   ]
  },
  {
   "cell_type": "code",
   "execution_count": 2,
   "id": "8053eb7b",
   "metadata": {},
   "outputs": [],
   "source": [
    "from transformers import pipeline\n",
    "from bs4 import BeautifulSoup\n",
    "import requests"
   ]
  },
  {
   "cell_type": "code",
   "execution_count": 3,
   "id": "ee79396d",
   "metadata": {},
   "outputs": [],
   "source": [
    "# conda install -c conda-forge tensorflow-gpu "
   ]
  },
  {
   "cell_type": "code",
   "execution_count": 4,
   "id": "c30d0893",
   "metadata": {},
   "outputs": [],
   "source": [
    "# conda install -c anaconda jupyter"
   ]
  },
  {
   "cell_type": "code",
   "execution_count": 5,
   "id": "fa33c613",
   "metadata": {},
   "outputs": [
    {
     "name": "stderr",
     "output_type": "stream",
     "text": [
      "No model was supplied, defaulted to t5-small and revision d769bba (https://huggingface.co/t5-small).\n",
      "Using a pipeline without specifying a model name and revision in production is not recommended.\n"
     ]
    },
    {
     "data": {
      "application/vnd.jupyter.widget-view+json": {
       "model_id": "b843c4a3b9e04e83ae5d50d1bf572321",
       "version_major": 2,
       "version_minor": 0
      },
      "text/plain": [
       "Downloading tf_model.h5:   0%|          | 0.00/231M [00:00<?, ?B/s]"
      ]
     },
     "metadata": {},
     "output_type": "display_data"
    },
    {
     "name": "stderr",
     "output_type": "stream",
     "text": [
      "All model checkpoint layers were used when initializing TFT5ForConditionalGeneration.\n",
      "\n",
      "All the layers of TFT5ForConditionalGeneration were initialized from the model checkpoint at t5-small.\n",
      "If your task is similar to the task the model of the checkpoint was trained on, you can already use TFT5ForConditionalGeneration for predictions without further training.\n"
     ]
    },
    {
     "data": {
      "application/vnd.jupyter.widget-view+json": {
       "model_id": "8b36a6296b5345e1822150b94362288a",
       "version_major": 2,
       "version_minor": 0
      },
      "text/plain": [
       "Downloading spiece.model:   0%|          | 0.00/773k [00:00<?, ?B/s]"
      ]
     },
     "metadata": {},
     "output_type": "display_data"
    },
    {
     "data": {
      "application/vnd.jupyter.widget-view+json": {
       "model_id": "eb1f5ff645b8481881b16386528fa8c9",
       "version_major": 2,
       "version_minor": 0
      },
      "text/plain": [
       "Downloading tokenizer.json:   0%|          | 0.00/1.32M [00:00<?, ?B/s]"
      ]
     },
     "metadata": {},
     "output_type": "display_data"
    },
    {
     "name": "stderr",
     "output_type": "stream",
     "text": [
      "/home/anubhav/miniconda3/envs/vidhaan/lib/python3.7/site-packages/transformers/models/t5/tokenization_t5_fast.py:166: FutureWarning: This tokenizer was incorrectly instantiated with a model max length of 512 which will be corrected in Transformers v5.\n",
      "For now, this behavior is kept to avoid breaking backwards compatibility when padding/encoding with `truncation is True`.\n",
      "- Be aware that you SHOULD NOT rely on t5-small automatically truncating your input to 512 when padding/encoding.\n",
      "- If you want to encode/pad to sequences longer than 512 you can either instantiate this tokenizer with `model_max_length` or pass `max_length` when encoding/padding.\n",
      "- To avoid this warning, please instantiate this tokenizer with `model_max_length` set to your preferred value.\n",
      "  FutureWarning,\n"
     ]
    }
   ],
   "source": [
    "summarizer = pipeline(\"summarization\")"
   ]
  },
  {
   "cell_type": "code",
   "execution_count": 6,
   "id": "94169ff2",
   "metadata": {},
   "outputs": [],
   "source": [
    "# pip install -U tensorflow\n",
    "# pip install -U tensorflow-base\n",
    "# pip install -U tensorflow-gpu\n",
    "# !pip install -U keras"
   ]
  },
  {
   "cell_type": "code",
   "execution_count": 7,
   "id": "9b2e3db3",
   "metadata": {},
   "outputs": [],
   "source": [
    "# conda list | grep tensorflow"
   ]
  },
  {
   "cell_type": "code",
   "execution_count": 8,
   "id": "88f189f4",
   "metadata": {},
   "outputs": [],
   "source": [
    "URL = \"https://medium.com/the-ascent/i-discovered-its-never-too-late-to-invest-in-bitcoin-if-you-understand-it-d0848141144b\""
   ]
  },
  {
   "cell_type": "code",
   "execution_count": 9,
   "id": "e29669af",
   "metadata": {},
   "outputs": [],
   "source": [
    "r = requests.get(URL)"
   ]
  },
  {
   "cell_type": "code",
   "execution_count": 10,
   "id": "d012c945",
   "metadata": {},
   "outputs": [],
   "source": [
    "soup = BeautifulSoup(r.text, 'html.parser')\n",
    "results = soup.find_all(['h1', 'p'])\n",
    "text = [result.text for result in results]\n",
    "ARTICLE = ' '.join(text)"
   ]
  },
  {
   "cell_type": "code",
   "execution_count": 21,
   "id": "f306fe5d",
   "metadata": {},
   "outputs": [
    {
     "name": "stdout",
     "output_type": "stream",
     "text": [
      "Ascent Publication Dec 29, 2020 I Discovered It’s Never Too Late to Invest in Bitcoin If You Understand It Bitcoin has gone mainstream.<eos><eos> There are some people who hate me for it.<eos><eos> -- -- 31 Strive for happier.<eos><eos> Join a community of storytellers documenting the climb to happiness and fulfillment.<eos><eos> Moonie NFT Lithium in Future Venture Mr.<eos><eos> DISCIPLINA Uswa Zaheer ONEROOT seen.<eos><eos>haus Michael Slatkin in Tangible Liquidifty.<eos><eos>io AboutHelpTermsPrivacy Aussie Blogger with 500M+ views — Writer for CNBC & Business Insider.<eos><eos> Inspiring the world through Personal Development and Entrepreneurship — timdenning.<eos><eos>com/mb Tim Denning in The Startup Matt Lillywhite J.<eos><eos>E.<eos><eos> Guzman in Profiters Club Rejoice Denhere in Vital World Online Help Status Writers Blog Careers Privacy Terms About Knowable\n"
     ]
    }
   ],
   "source": [
    "print(ARTICLE)\n"
   ]
  },
  {
   "cell_type": "code",
   "execution_count": 12,
   "id": "bb9bc61d",
   "metadata": {},
   "outputs": [],
   "source": [
    "max_chunk = 500"
   ]
  },
  {
   "cell_type": "code",
   "execution_count": 36,
   "id": "75e8a25f",
   "metadata": {},
   "outputs": [],
   "source": []
  },
  {
   "cell_type": "code",
   "execution_count": 55,
   "id": "b449c179",
   "metadata": {},
   "outputs": [
    {
     "name": "stdout",
     "output_type": "stream",
     "text": [
      "0\n"
     ]
    }
   ],
   "source": [
    "ARTICLE = ARTICLE.replace('.', '.<eos>')\n",
    "ARTICLE = ARTICLE.replace('?', '?<eos>')\n",
    "ARTICLE = ARTICLE.replace('!', '!<eos>')\n",
    "\n",
    "sentences = ARTICLE.split('<eos>')\n",
    "current_chunk = 0 \n",
    "chunks = []\n",
    "for sentence in sentences:\n",
    "    if len(chunks) == current_chunk + 1: \n",
    "        if len(chunks[current_chunk]) + len(sentence.split(' ')) <= max_chunk:\n",
    "            chunks[current_chunk].extend(sentence.split(' '))\n",
    "        else:\n",
    "            current_chunk += 1\n",
    "            chunks.append(sentence.split(' '))\n",
    "    else:\n",
    "        print(current_chunk)\n",
    "        chunks.append(sentence.split(' '))\n",
    "\n",
    "for chunk_id in range(len(chunks)):\n",
    "    chunks[chunk_id] = ' '.join(chunks[chunk_id])"
   ]
  },
  {
   "cell_type": "code",
   "execution_count": 56,
   "id": "b161d44a",
   "metadata": {},
   "outputs": [
    {
     "data": {
      "text/plain": [
       "2"
      ]
     },
     "execution_count": 56,
     "metadata": {},
     "output_type": "execute_result"
    }
   ],
   "source": [
    "len(chunks)"
   ]
  },
  {
   "cell_type": "code",
   "execution_count": 57,
   "id": "caecd5b7",
   "metadata": {},
   "outputs": [
    {
     "name": "stderr",
     "output_type": "stream",
     "text": [
      "Your max_length is set to 150, but you input_length is only 73. You might consider decreasing max_length manually, e.g. summarizer('...', max_length=36)\n"
     ]
    }
   ],
   "source": [
    "res = summarizer(chunks, max_length=150, min_length=30, do_sample=False, device='cuda')"
   ]
  },
  {
   "cell_type": "code",
   "execution_count": 28,
   "id": "87131362",
   "metadata": {},
   "outputs": [],
   "source": [
    "# summarizer?"
   ]
  },
  {
   "cell_type": "code",
   "execution_count": 40,
   "id": "06900aff",
   "metadata": {},
   "outputs": [
    {
     "data": {
      "text/plain": [
       "{'summary_text': 'bitcoin is a paradigm shift in a world that is high on worthless currency printed in excess . the only way to fund our excessive lifestyles is to increase the global debt and pay for it with money printed out of thin air . how do you manage your psychology when bitcoin mania is sweeping the world and it has gone mainstream?'}"
      ]
     },
     "execution_count": 40,
     "metadata": {},
     "output_type": "execute_result"
    }
   ],
   "source": [
    "res[0]"
   ]
  },
  {
   "cell_type": "code",
   "execution_count": 32,
   "id": "593647f0",
   "metadata": {
    "scrolled": true
   },
   "outputs": [
    {
     "data": {
      "text/plain": [
       "{'summary_text': 'ascent Publication Dec 29, 2020 I Discovered It’s Never Too Late to Invest in Bitcoin If You Understand It Bitcoin has gone mainstream . join a community of storytellers documenting the climb to happiness and fulfillment .'}"
      ]
     },
     "execution_count": 32,
     "metadata": {},
     "output_type": "execute_result"
    }
   ],
   "source": [
    "res[0]"
   ]
  },
  {
   "cell_type": "code",
   "execution_count": 33,
   "id": "dbc16068",
   "metadata": {},
   "outputs": [],
   "source": [
    "l = \"I Discovered It’s Never Too Late to Invest in Bitcoin If You Understand It Bitcoin has gone mainstream. There are some people who hate me for it. I’m getting quite a few people all asking me the same question: “Is it too late to invest in bitcoin?” I don’t think it is. Bitcoin is a paradigm shift in a world that is high on worthless currency printed in excess. The only way to fund our excessive lifestyles is to increase the global debt and pay for it with money printed out of thin air. My approach to bitcoin is different. It’s a little less drastic. I’ve been playing with it for years and have become fascinated by it. The rewards for me understanding bitcoin are now over 17,900%+ on the initial investment. I don’t think I’ve ever made another investment like it. It’s likely I will never make another investment like it for the rest of my life. There may never be another investment like it. The unfortunate psychological challenge when you buy something that performs beyond your wildest dreams is you think to yourself, “I should have bought more.” You can always want more and spend more. But it doesn’t matter. Money has never made me happy. The same is likely true for you. So how do you manage your psychology when bitcoin mania is sweeping the world and it has gone mainstream? How do you cope when it’s trending on twitter, on the front page of every newspaper, being promoted by some of the biggest wall street tycoons in the world, like Paul Tudor Jones? First, you stay calm. You’re never late to anything in life. You’re right on time. What bitcoin has done to date is irrelevant. If you haven’t bought any or don’t understand it then that’s not the issue. The issue is whether you are openminded enough to rethink everything you know about money and investing. If you are, there is opportunity. If your mind is closed, the world is closed, and so are the opportunities. When I first heard about bitcoin, I thought it was a joke. I made fun of my work colleagues who were buying a sandwich with half a bitcoin and loving life. The trouble with bitcoin is it’s not easy to understand. When people don’t understand a concept they quickly dismiss it and call it a scam so they don’t feel stupid. Like I said, bitcoin isn’t normal. It confuses people and that’s what it was designed to do. Bitcoin is a short-circuit in one’s financial thinking. The “Too Late” Mindset Is Toxic The too late mindset isn’t good for your psychology. It makes you feel like shit. When people think about bitcoin I quickly see them become disappointed. They wish they had listened earlier. Or they wish they had bought at least one bitcoin when the price was lower. The problem with bitcoin is you can never buy at a good price. Why? Bitcoin keeps being the best-performing asset each year, and is now the best performing asset of the decade. Think about that. This is the superpower of bitcoin. It doesn’t matter when you buy it. What matters is that you do eventually. We’re taught to buy assets at a low price and sell them at a higher price. What if this was industrial age factory worker thinking? The best time to buy bitcoin is when you decide to. The reason is, bitcoin has a fixed supply of coins and predictable code built into it that tells you its future. You don’t have to be a genius to understand bitcoin’s future price. A Dutch institutional investor known as Plan B created a stock to flow model which helps investors understand where the price is going based on the hard-coded, predictable monetary policy of bitcoin. Once you understand stock to flow, then you’ll understand the overwhelming dollar value of guaranteed scarcity. Forget the price. What’s the opportunity? I want to shake up your thinking. The opportunity of bitcoin has nothing to do with price. Bitcoin solves a problem. The current value of the circulating supply of bitcoin is roughly $355 billion. The current value of the world’s supply of gold is about $9 trillion. The current value of the world’s supply of derivatives (a popular financial instrument people dump money into) is $640 trillion. The current value of the world’s supply of stocks is $95 trillion. If only a small amount of money moves out of one of these asset classes and into bitcoin then the price will skyrocket. Investment firms are buying bitcoin, not because they want to, but because they have to. There are very few places you can put your money and get a return. There are even fewer places you can put your money to store it safely in the event of a downturn or recession. I don’t personally care about the bitcoin price. I care about the problem it solves and whether over the long-term there is a financial return likely to occur for doing so. The worst way to invest as an everyday person is for the short term. One of my early investments in bitcoin was short term. I bought a lot and then sold it when the price crashed in 2017. That short-term thinking has meant I’m working a few years longer than I need to. I would be retired if I still had all the bitcoin I owned in 2017. I’m okay with that. My investor psychology was weak back then. I needed to see a few 50% drops to learn my lesson. The March 2020 covid crash was certainly a good test, and I passed without selling any bitcoin. Thinking about the assets you invest in over the long term helps reduce your stress levels. You’re less worried about whether it’s “too late” or “is now a good time” and focused on doing your research and understanding what you’re buying. This phrase sums it up better than I could: Time in the market beats timing the market. Euphoria Is Coming It’s going to be bad for your psychology. When euphoria hits an asset like bitcoin, people lose their minds and throw a wall of money at it. How do I know? I lived through the euphoric phase of bitcoin back in 2017. People I worked with went from IT professionals to wild gamblers in a day. Every computer screen in my office at one point was showing the bitcoin price. One guy in the office mortgaged his house to buy bitcoin. The problem ended up being rather unusual: people didn’t buy bitcoin. They bought shitcoins that were worth less than $1, thinking they’d get rich. That’s what euphoria can do to people’s thinking. It isn’t pleasant to watch — and it will happen again. The use-case for bitcoin was born during the pandemic. This is going to create ongoing euphoria. With Citibank throwing numbers out like $318,000 USD per bitcoin, and the price going over the all-time high of $20,000 USD per coin, people are guaranteed to collapse on the ground with a case of FOMO. What can you do about it? Stay calm. Your life won’t end if you don’t buy bitcoin. Take your time and research it. Start by reading the book, “The Bitcoin Standard” and go from there. Patience always wins when it comes to investing. The Risk of Bitcoin You Must Understand Nothing you put your money in is perfect. The biggest risk of bitcoin has always been the potential for it to be banned. In 2017, the risk was enormous. Over time that risk has decreased as more and more adopters of the technology — like PayPal and payments company, Square — have offered the product to their customers. The likelihood of bitcoin getting banned is almost zero. What will happen to bitcoin, though, is regulation. Regulation just means you will have to be identified when you buy and sell bitcoin. Unless you’re a drug dealer breaking the law, regulation is good for your investments. With more regulation comes more opportunities for legitimate wall street firms to invest their money in bitcoin and use it for what it was made for: a store of value. The other risk is your coins get stolen. The old school way to fix that issue is to purchase a Trezor or Ledger to store your coins in. I’m going to give you the non-technical definition of a hardware wallet: A hardware wallet takes your bitcoin off the internet. When your coins are off the internet nobody can access them except you. This is how you stay safe and prevent a Russian hacker from stealing your coins while you drink your early morning coffee by the jacuzzi. What’s the Difference Between Gold and Bitcoin? Scarcity is the one attribute both bitcoin and gold have. The issue is, the scarcity of gold is controlled by humans. The scarcity of bitcoin is controlled by nobody and can’t be changed. Every year the gold supply increases by roughly 2%, as new gold is discovered and mined. With oil, humans invented a technological advancement called fracking which became popular in 1949. Humans could invent more ways to mine gold. We could also throw lots of money at gold to mine more of it. The final option is to mine asteroids for gold. Doomsdayers say that if NASA decided to bring an asteroid home with them from space it would “destroy commodity prices and cause the world’s economy — worth $75.5 trillion — to collapse.” I think this is ridiculous. Humans may mine asteroids for gold but it’s probably a long way away and incredibly difficult to do. I don’t see the downfall of gold coming anytime soon. But I do see the 2% increase in the supply of gold every year as an unfortunate feature of the metal. The speculation over banks manipulating the gold price is another factor to consider when thinking about the difference between bitcoin and gold. Bitcoin is different to gold. It’s understood by digitally savvy millennials and doesn’t require a safe to store it in or muscly arms to hold it. There is no one owner of bitcoin. You can’t rip Zucks out of bed when he’s butt-naked and drag him to court so you can sue him over your grievances with facebook. There isn’t a human or company to sue when it comes to bitcoin. Bitcoin’s supply is fixed.Bitcoin technology is owned by nobody.Bitcoin’s inflation rate is locked and guarded by code.Bitcoin has no ego because no billionaire owns it. Bitcoin is an egoless, non-existent company. The game-changer with bitcoin is the network is owned by the users. Users own and give the technology value. Venture capitalists, bankers, and politicians don’t get to give bitcoin a permission slip or approve its use. Every person from every country in the world gets to vote on bitcoin with their smartphone by buying it. How to Think About Bitcoin Safely Ric Edelman, founder of RIA Digital Assets Council, makes the idea of investing in bitcoin easy. He recommends to his clients as a financial advisor to consider a 1% allocation in bitcoin. If you have $10,000 in savings, then consider a $100 investment in bitcoin. He says if you had invested 1% of your money in bitcoin in 2020, then it would have lifted everything you’d invested in by 25%. Now my approach is different. I’ve spent more than five years understanding how bitcoin works so my allocation is a lot more aggressive than 1%. But if you have no idea and want to access the benefits of bitcoin, then a 1% investment is hard to look past. Iconic hedge fund managers like Raoul Pal use a dead-simple approach: dollar-cost averaging. Here’s how to do it. Step 1: Decide on how much bitcoin you’re going to buy every month. Let’s say you decide on $100. Step 2: In the first month, invest $100 into bitcoin. The price might be at an all-time high. Step 3: In the second month, invest $100 into bitcoin. The price might be at an all-time low. Step 4: In the third month, invest $100 into bitcoin. The price might be going up again. Step 5: Keep investing $100 every month until you’ve reached your desired investment amount (let’s say your desired amount is 1% of all your money goes into bitcoin). With this approach you can smooth out the price you get into bitcoin at without stressing and losing your mind. Some months the price will be high, and some months the price will be low. Just like a savings account, you don’t care. You lock your money away and let it be protected by code, not humans. It Isn’t Too Late to Buy Bitcoin. It’s not time to panic.It’s time to digitally upgrade your financial education. Physical cash in your wallet and nuggets of gold you take inside with a wheelbarrow is the pre-digital financial world. The world of money is a long way behind advances in technology. Bitcoin is trying to catch the financial world up with the digital narrative, so we can use the phone in our pocket to go about our day and store our money without its value being secretly eroded away and taxed by inflation, by the pinstripe suit club. If you’ve been thinking about bitcoin, do your research. Go down the rabbit hole. Avoid FOMO. Stay away from the hype. Understand the problem it solves, intimately. Get to know bitcoin like you would a new lover you invite into your bed to shag. The best time to buy bitcoin is when you understand it and see its value. This article is for informational purposes only, it should not be considered Financial or Legal Advice. Consult a financial professional before making any major financial decisions. A community of storytellers documenting the journey to happiness and fulfillment. 3.4K  33  3.4K\\xa0claps 3.4K\\xa0claps 33 responses Written by Aussie Blogger with 100M+ views — Writer for CNBC & Business Insider. Inspiring the world through Personal Development and Entrepreneurship — timdenning.com/wc A community of storytellers documenting the journey to happiness & fulfillment. Join thousands of others making the climb on Medium. Written by Aussie Blogger with 100M+ views — Writer for CNBC & Business Insider. Inspiring the world through Personal Development and Entrepreneurship — timdenning.com/wc A community of storytellers documenting the journey to happiness & fulfillment. Join thousands of others making the climb on Medium. Medium is an open platform where 170 million readers come to find insightful and dynamic thinking. Here, expert and undiscovered voices alike dive into the heart of any topic and bring new ideas to the surface. Learn more Follow the writers, publications, and topics that matter to you, and you’ll see them on your homepage and in your inbox. Explore If you have a story to tell, knowledge to share, or a perspective to offer — welcome home. It’s easy and free to post your thinking on any topic. Write on Medium About Help Legal Get the Medium app\""
   ]
  },
  {
   "cell_type": "code",
   "execution_count": 54,
   "id": "4a610f00",
   "metadata": {},
   "outputs": [],
   "source": [
    "# ARTICLE = l\n",
    "ARTICLE = tx"
   ]
  },
  {
   "cell_type": "code",
   "execution_count": 58,
   "id": "c6c59593",
   "metadata": {},
   "outputs": [],
   "source": [
    "text = ' '.join([summ['summary_text'] for summ in res])"
   ]
  },
  {
   "cell_type": "code",
   "execution_count": 59,
   "id": "8c9c3b86",
   "metadata": {},
   "outputs": [],
   "source": [
    "with open('/media/anubhav/New Volume/vidhaan/ai_models/summary2.txt', 'w') as f:\n",
    "    f.write(text)"
   ]
  },
  {
   "cell_type": "code",
   "execution_count": 60,
   "id": "1dfa456b",
   "metadata": {},
   "outputs": [],
   "source": [
    "tx2 = \"In sub-section (1) of Section 16, the legislature has stipulated that a child born from a marriage which is null and void under Section 11 is legitimate, regardless of whether the birth has taken place before or after the commencement of Amending Act 68 of 1976. Legitimacy of a child born from a marriage which is null and void, is a matter of public policy so as to protect a child born from such a marriage from suffering the consequences of illegitimacy. Hence, though the marriage may be null and void, a child who is born from the marriage is nonetheless treated as legitimate by sub-section (1) of Section 16. One of the grounds on which a marriage is null and void under Section 11 read with clause (i) of Section 5 is that the marriage has been contracted when one of the parties had a spouse living at the time of marriage. A second marriage contracted by a Hindu during the subsistence of the first marriage is, therefore, null and void. However, the legislature has stepped in by enacting Section 16(1) to protect the legitimacy of a child born from such a marriage. Sub-section (3) of Section 16, however, stipulates that such a child who is born from a marriage which is null and void, will have a right in the property only of the parents and none other than the parents.\""
   ]
  },
  {
   "cell_type": "code",
   "execution_count": 50,
   "id": "bfab5521",
   "metadata": {},
   "outputs": [],
   "source": [
    "tx = \"Jailed: Joshua Sadler, 21, was sentenced to 12 months after admitting dangerous driving . The mother of a teenager who was killed when a friend crashed his car just four days after passing his test has spoken of her shock after the driver was jailed for only 12 months. Joshua Sadler, 21, lost control of his silver Renault Clio on a 60mph country road and smashed into a tree, killing front seat passenger Mikey Maguire, 19. Sadler had previously been convicted of a . string of serious motoring offences and twice banned from the road . before he even had a licence. He was seen on the night of the fatal crash performing handbrake turns and showing off in a car park. Sadler . pleaded guilty to causing death by careless driving and was sentenced . to 12 months in jail and banned him from driving for five years. Afterwards Mr Maguire’s mother Allison Jarman, 43, described the sentence as an ‘insult’. She said: 'When I was in court my head was in my hands and at one point I couldn’t even listen to what was happening. 'I . expected the sentence to be low because I have been doing a lot of . research online but when I heard it was 12 months it felt like a slap in . the face. 'Nothing can . bring Mikey back but 12 months for my son’s life is shocking. I was . absolutely speechless, he will be out in three months. 'Mikey and Joshua had known each other for years but I was under the impression that they weren’t close any more. 'He . had always been a bit of a troublemaker and had previous convictions . for driving offences. I always said he would end up hurting someone one . day, I just didn’t expect it to be my son.' The fatal crash happened on Huntick Road, Lytchett Matravers, near Poole, Dorset, on February 8 last year. Sadler, from Poole, lost control of his . car on a bend before it ploughed down a grass bank and struck the tree. Mr Maguire was pronounced dead at the scene. Victim: Mikey Maguire pictured on on holiday with his mother Allison, who described the sentence as an 'insult' to her son's memory . Sadler had previously been disqualified from driving after being convicted of two counts of aggravated vehicle taking. He appeared in court for one of the counts and driving without a licence and insurance in July 2010. In both incidents he lost control and caused more than £5,000 damage to one of the vehicles. Les Smith, defending, read out a statement from Sadler to Bournemouth Crown Court in which he expressed ‘regret and sorrow’ for the Mr Maguire’s death. He added: 'The incident haunts me every day and will do for the rest of my life. Nothing that is said or done to me can make me feel any worse.' As well as being jailed Sadler was disqualified from driving for five years and ordered to take an extended test at the end of the ban.\""
   ]
  },
  {
   "cell_type": "code",
   "execution_count": 61,
   "id": "670f959b",
   "metadata": {},
   "outputs": [
    {
     "name": "stdout",
     "output_type": "stream",
     "text": [
      "0\n"
     ]
    }
   ],
   "source": [
    "summary_gen = gen_summ(tx2)"
   ]
  },
  {
   "cell_type": "code",
   "execution_count": 63,
   "id": "3391f75e",
   "metadata": {},
   "outputs": [],
   "source": [
    "# res = summarizer(summary_gen, max_length=150, min_length=30, do_sample=False, device='cuda')\n",
    "text = ' '.join([summ['summary_text'] for summ in res])\n",
    "with open('/media/anubhav/New Volume/vidhaan/ai_models/summary3.txt', 'w') as f:\n",
    "    f.write(text)"
   ]
  },
  {
   "cell_type": "code",
   "execution_count": null,
   "id": "bffed097",
   "metadata": {},
   "outputs": [],
   "source": []
  }
 ],
 "metadata": {
  "kernelspec": {
   "display_name": "Python [conda env:vidhaan] *",
   "language": "python",
   "name": "conda-env-vidhaan-py"
  },
  "language_info": {
   "codemirror_mode": {
    "name": "ipython",
    "version": 3
   },
   "file_extension": ".py",
   "mimetype": "text/x-python",
   "name": "python",
   "nbconvert_exporter": "python",
   "pygments_lexer": "ipython3",
   "version": "3.7.12"
  }
 },
 "nbformat": 4,
 "nbformat_minor": 5
}

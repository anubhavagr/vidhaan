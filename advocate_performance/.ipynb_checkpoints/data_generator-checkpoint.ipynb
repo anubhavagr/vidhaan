{
 "cells": [
  {
   "cell_type": "code",
   "execution_count": 1,
   "id": "b9bcaaef",
   "metadata": {},
   "outputs": [],
   "source": [
    "import numpy as np\n",
    "import pandas as pd\n",
    "import random"
   ]
  },
  {
   "cell_type": "code",
   "execution_count": 2,
   "id": "24fe94c7",
   "metadata": {},
   "outputs": [],
   "source": [
    "df = pd.read_excel('advocate_performance.xlsx')"
   ]
  },
  {
   "cell_type": "code",
   "execution_count": 3,
   "id": "8e9ca210",
   "metadata": {},
   "outputs": [
    {
     "data": {
      "text/html": [
       "<div>\n",
       "<style scoped>\n",
       "    .dataframe tbody tr th:only-of-type {\n",
       "        vertical-align: middle;\n",
       "    }\n",
       "\n",
       "    .dataframe tbody tr th {\n",
       "        vertical-align: top;\n",
       "    }\n",
       "\n",
       "    .dataframe thead th {\n",
       "        text-align: right;\n",
       "    }\n",
       "</style>\n",
       "<table border=\"1\" class=\"dataframe\">\n",
       "  <thead>\n",
       "    <tr style=\"text-align: right;\">\n",
       "      <th></th>\n",
       "      <th>name</th>\n",
       "      <th>id</th>\n",
       "      <th>speciality</th>\n",
       "      <th>experience (yrs)</th>\n",
       "      <th>fees</th>\n",
       "      <th>age</th>\n",
       "      <th>avg resolve time (days)</th>\n",
       "      <th>active cases</th>\n",
       "    </tr>\n",
       "  </thead>\n",
       "  <tbody>\n",
       "    <tr>\n",
       "      <th>0</th>\n",
       "      <td>misri</td>\n",
       "      <td>0</td>\n",
       "      <td>NaN</td>\n",
       "      <td>NaN</td>\n",
       "      <td>NaN</td>\n",
       "      <td>NaN</td>\n",
       "      <td>NaN</td>\n",
       "      <td>NaN</td>\n",
       "    </tr>\n",
       "    <tr>\n",
       "      <th>1</th>\n",
       "      <td>tina</td>\n",
       "      <td>1</td>\n",
       "      <td>NaN</td>\n",
       "      <td>NaN</td>\n",
       "      <td>NaN</td>\n",
       "      <td>NaN</td>\n",
       "      <td>NaN</td>\n",
       "      <td>NaN</td>\n",
       "    </tr>\n",
       "    <tr>\n",
       "      <th>2</th>\n",
       "      <td>dharmendera</td>\n",
       "      <td>2</td>\n",
       "      <td>NaN</td>\n",
       "      <td>NaN</td>\n",
       "      <td>NaN</td>\n",
       "      <td>NaN</td>\n",
       "      <td>NaN</td>\n",
       "      <td>NaN</td>\n",
       "    </tr>\n",
       "    <tr>\n",
       "      <th>3</th>\n",
       "      <td>sukh</td>\n",
       "      <td>3</td>\n",
       "      <td>NaN</td>\n",
       "      <td>NaN</td>\n",
       "      <td>NaN</td>\n",
       "      <td>NaN</td>\n",
       "      <td>NaN</td>\n",
       "      <td>NaN</td>\n",
       "    </tr>\n",
       "    <tr>\n",
       "      <th>4</th>\n",
       "      <td>mairy</td>\n",
       "      <td>4</td>\n",
       "      <td>NaN</td>\n",
       "      <td>NaN</td>\n",
       "      <td>NaN</td>\n",
       "      <td>NaN</td>\n",
       "      <td>NaN</td>\n",
       "      <td>NaN</td>\n",
       "    </tr>\n",
       "  </tbody>\n",
       "</table>\n",
       "</div>"
      ],
      "text/plain": [
       "          name  id  speciality  experience (yrs)  fees  age  \\\n",
       "0        misri   0         NaN               NaN   NaN  NaN   \n",
       "1         tina   1         NaN               NaN   NaN  NaN   \n",
       "2  dharmendera   2         NaN               NaN   NaN  NaN   \n",
       "3         sukh   3         NaN               NaN   NaN  NaN   \n",
       "4        mairy   4         NaN               NaN   NaN  NaN   \n",
       "\n",
       "   avg resolve time (days)  active cases  \n",
       "0                      NaN           NaN  \n",
       "1                      NaN           NaN  \n",
       "2                      NaN           NaN  \n",
       "3                      NaN           NaN  \n",
       "4                      NaN           NaN  "
      ]
     },
     "execution_count": 3,
     "metadata": {},
     "output_type": "execute_result"
    }
   ],
   "source": [
    "df.head()"
   ]
  },
  {
   "cell_type": "code",
   "execution_count": 4,
   "id": "df0cc232",
   "metadata": {},
   "outputs": [],
   "source": [
    "types_of_cases = [\"Arbitration Petition\",\"Civil (Appeal) Petition\",\"Contempt Petition (Civil)\",\"Contempt Petition (Criminal)\",\"Criminal Appeal Petition\",\"Election Petition\",\"Original Suit\",\"Petition for Special Leave to Appeal\",\"Transferred Case Petition\",\"Writ Petition\"]"
   ]
  },
  {
   "cell_type": "code",
   "execution_count": 11,
   "id": "029d190f",
   "metadata": {},
   "outputs": [
    {
     "name": "stderr",
     "output_type": "stream",
     "text": [
      "C:\\Users\\AK-47\\AppData\\Local\\Temp/ipykernel_8268/4281693829.py:2: SettingWithCopyWarning: \n",
      "A value is trying to be set on a copy of a slice from a DataFrame\n",
      "\n",
      "See the caveats in the documentation: https://pandas.pydata.org/pandas-docs/stable/user_guide/indexing.html#returning-a-view-versus-a-copy\n",
      "  df['id'][i] = len(df)*100000+df['id'][i]\n",
      "C:\\Users\\AK-47\\AppData\\Local\\Temp/ipykernel_8268/4281693829.py:4: SettingWithCopyWarning: \n",
      "A value is trying to be set on a copy of a slice from a DataFrame\n",
      "\n",
      "See the caveats in the documentation: https://pandas.pydata.org/pandas-docs/stable/user_guide/indexing.html#returning-a-view-versus-a-copy\n",
      "  df['experience (yrs)'][i] = np.random.randint(low=0,high=40)\n",
      "C:\\Users\\AK-47\\AppData\\Local\\Temp/ipykernel_8268/4281693829.py:6: SettingWithCopyWarning: \n",
      "A value is trying to be set on a copy of a slice from a DataFrame\n",
      "\n",
      "See the caveats in the documentation: https://pandas.pydata.org/pandas-docs/stable/user_guide/indexing.html#returning-a-view-versus-a-copy\n",
      "  df['fees'][i] = df['experience (yrs)'][i]*10000 + 5000\n",
      "C:\\Users\\AK-47\\AppData\\Local\\Temp/ipykernel_8268/4281693829.py:8: SettingWithCopyWarning: \n",
      "A value is trying to be set on a copy of a slice from a DataFrame\n",
      "\n",
      "See the caveats in the documentation: https://pandas.pydata.org/pandas-docs/stable/user_guide/indexing.html#returning-a-view-versus-a-copy\n",
      "  df['age'][i] = int(df['experience (yrs)'][i]+25)\n",
      "C:\\Users\\AK-47\\AppData\\Local\\Temp/ipykernel_8268/4281693829.py:10: SettingWithCopyWarning: \n",
      "A value is trying to be set on a copy of a slice from a DataFrame\n",
      "\n",
      "See the caveats in the documentation: https://pandas.pydata.org/pandas-docs/stable/user_guide/indexing.html#returning-a-view-versus-a-copy\n",
      "  df['avg resolve time (days)'][i] = np.random.randint(low=30,high=800)\n",
      "C:\\Users\\AK-47\\AppData\\Local\\Temp/ipykernel_8268/4281693829.py:12: SettingWithCopyWarning: \n",
      "A value is trying to be set on a copy of a slice from a DataFrame\n",
      "\n",
      "See the caveats in the documentation: https://pandas.pydata.org/pandas-docs/stable/user_guide/indexing.html#returning-a-view-versus-a-copy\n",
      "  df['active cases'][i] = np.random.randint(low=1,high=10)\n",
      "C:\\Users\\AK-47\\AppData\\Local\\Temp/ipykernel_8268/4281693829.py:14: SettingWithCopyWarning: \n",
      "A value is trying to be set on a copy of a slice from a DataFrame\n",
      "\n",
      "See the caveats in the documentation: https://pandas.pydata.org/pandas-docs/stable/user_guide/indexing.html#returning-a-view-versus-a-copy\n",
      "  df['speciality'][i] = random.choice(types_of_cases)\n"
     ]
    }
   ],
   "source": [
    "for i in range(len(df)):\n",
    "    df['id'][i] = len(df)*100000+df['id'][i]\n",
    "    \n",
    "    df['experience (yrs)'][i] = np.random.randint(low=0,high=40)\n",
    "    \n",
    "    df['fees'][i] = df['experience (yrs)'][i]*np.random.randint(low=10000,high=10100) + 5000\n",
    "    \n",
    "    df['age'][i] = int(df['experience (yrs)'][i]+np.random.randint(low=21,high=25))\n",
    "\n",
    "    df['avg resolve time (days)'][i] = np.random.randint(low=30,high=800)\n",
    "    \n",
    "    df['active cases'][i] = np.random.randint(low=1,high=10)\n",
    "    \n",
    "    df['speciality'][i] = random.choice(types_of_cases)\n",
    "    \n",
    "df['age'] = df['age'].astype(int)\n",
    "df['fees'] = df['fees'].astype(int)    \n",
    "df['avg resolve time (days)'] = df['avg resolve time (days)'].astype(int)"
   ]
  },
  {
   "cell_type": "code",
   "execution_count": 13,
   "id": "eff2e776",
   "metadata": {},
   "outputs": [],
   "source": [
    "df.to_csv(\"dataset_advocate_performance.csv\")"
   ]
  },
  {
   "cell_type": "code",
   "execution_count": null,
   "id": "ed746699",
   "metadata": {},
   "outputs": [],
   "source": []
  }
 ],
 "metadata": {
  "kernelspec": {
   "display_name": "Python 3",
   "language": "python",
   "name": "python3"
  },
  "language_info": {
   "codemirror_mode": {
    "name": "ipython",
    "version": 3
   },
   "file_extension": ".py",
   "mimetype": "text/x-python",
   "name": "python",
   "nbconvert_exporter": "python",
   "pygments_lexer": "ipython3",
   "version": "3.7.12"
  }
 },
 "nbformat": 4,
 "nbformat_minor": 5
}

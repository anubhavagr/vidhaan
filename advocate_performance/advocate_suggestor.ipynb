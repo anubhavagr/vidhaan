{
 "cells": [
  {
   "cell_type": "code",
   "execution_count": null,
   "id": "454d76de",
   "metadata": {},
   "outputs": [],
   "source": [
    "import pandas as pd\n",
    "import numpy as np"
   ]
  },
  {
   "cell_type": "code",
   "execution_count": null,
   "id": "5df66013",
   "metadata": {},
   "outputs": [],
   "source": [
    "df = pd.read_csv('dataset_advocate_performance.csv',index_col=False)"
   ]
  },
  {
   "cell_type": "code",
   "execution_count": null,
   "id": "069625ee",
   "metadata": {},
   "outputs": [],
   "source": [
    "del df['Unnamed: 0'],df['id']"
   ]
  },
  {
   "cell_type": "code",
   "execution_count": null,
   "id": "ef3783ac",
   "metadata": {},
   "outputs": [],
   "source": [
    "len(df)"
   ]
  },
  {
   "cell_type": "code",
   "execution_count": null,
   "id": "83f8eb43",
   "metadata": {},
   "outputs": [],
   "source": [
    "df.head(20)"
   ]
  },
  {
   "cell_type": "code",
   "execution_count": null,
   "id": "b4f79cfc",
   "metadata": {},
   "outputs": [],
   "source": [
    "df['experience (yrs)'] = df['experience (yrs)'].astype(int)\n",
    "df['active cases'] = df['active cases'].astype(int)"
   ]
  },
  {
   "cell_type": "code",
   "execution_count": null,
   "id": "f7f9e0c6",
   "metadata": {},
   "outputs": [],
   "source": [
    "types_of_cases = [\"Arbitration Petition\",\"Civil (Appeal) Petition\",\"Contempt Petition (Civil)\",\"Contempt Petition (Criminal)\",\"Criminal Appeal Petition\",\"Election Petition\",\"Original Suit\",\"Petition for Special Leave to Appeal\",\"Transferred Case Petition\",\"Writ Petition\"]"
   ]
  },
  {
   "cell_type": "code",
   "execution_count": null,
   "id": "92a0f1ee",
   "metadata": {},
   "outputs": [],
   "source": [
    "for i in range(len(types_of_cases)):\n",
    "    print(i+1,types_of_cases[i])"
   ]
  },
  {
   "cell_type": "code",
   "execution_count": null,
   "id": "77c3fb6f",
   "metadata": {},
   "outputs": [],
   "source": [
    "print(\"Enter your desired speciality from advocate:\\n\")\n",
    "for i in range(len(types_of_cases)):\n",
    "    print(f\"{i+1} for {types_of_cases[i]}\")\n",
    "\n",
    "sp = int(input(\":\"))"
   ]
  },
  {
   "cell_type": "code",
   "execution_count": null,
   "id": "cfa5b3d9",
   "metadata": {},
   "outputs": [],
   "source": [
    "d = df[df['speciality']==types_of_cases[sp-1]]\n",
    "actual_order=[]\n",
    "inp_order = []\n"
   ]
  },
  {
   "cell_type": "code",
   "execution_count": null,
   "id": "5daf3041",
   "metadata": {},
   "outputs": [],
   "source": [
    "d.head()"
   ]
  },
  {
   "cell_type": "code",
   "execution_count": null,
   "id": "0e2c8c83",
   "metadata": {},
   "outputs": [],
   "source": [
    "features = [\"experience (yrs)\",\"fees\",\"age\",\"avg resolve time (days)\",\"active cases\"]"
   ]
  },
  {
   "cell_type": "code",
   "execution_count": null,
   "id": "8fa263d4",
   "metadata": {},
   "outputs": [],
   "source": [
    "print(\"Enter scores of these features as(1-100)\")\n",
    "print(\"1 experience\\n2 fees\\n3 age\\n4 avg resolve time (days)\\n5 active cases\\n\")\n",
    "actual_order = []"
   ]
  },
  {
   "cell_type": "code",
   "execution_count": null,
   "id": "552e9aa7",
   "metadata": {},
   "outputs": [],
   "source": [
    "# print(\"Enter scores of these features as(10-50)\")\n",
    "# print(\"1 experience\\n2 fees\\n3 age\\n4 avg resolve time (days)\\n5 active cases\\n\")\n",
    "actual_order = []\n",
    "for i in range(len(features)):\n",
    "    print(f\"Enter your score for {features[i]}\")\n",
    "    n = int(input())\n",
    "    actual_order.append([n,str(features[i])])"
   ]
  },
  {
   "cell_type": "code",
   "execution_count": null,
   "id": "196bc1f7",
   "metadata": {},
   "outputs": [],
   "source": [
    "# print(actual_order)"
   ]
  },
  {
   "cell_type": "code",
   "execution_count": null,
   "id": "482a5de3",
   "metadata": {},
   "outputs": [],
   "source": [
    "# print(sorted(actual_order,reverse=True))"
   ]
  },
  {
   "cell_type": "code",
   "execution_count": null,
   "id": "090d535d",
   "metadata": {},
   "outputs": [],
   "source": [
    "actual_order = sorted(actual_order,reverse=True)\n",
    "order_list = []"
   ]
  },
  {
   "cell_type": "code",
   "execution_count": null,
   "id": "2f5b7fa0",
   "metadata": {
    "scrolled": true
   },
   "outputs": [],
   "source": [
    "for i in range(len(actual_order)):\n",
    "#     print(i)\n",
    "    actual_order[i] = str(actual_order[i][1])\n",
    "    if actual_order[i]== \"experience (yrs)\":\n",
    "        order_list.append(False)\n",
    "    else:\n",
    "        order_list.append(True)"
   ]
  },
  {
   "cell_type": "code",
   "execution_count": null,
   "id": "6a442733",
   "metadata": {},
   "outputs": [],
   "source": [
    "# print(order_list)"
   ]
  },
  {
   "cell_type": "code",
   "execution_count": null,
   "id": "959efa5c",
   "metadata": {},
   "outputs": [],
   "source": [
    "d = d.sort_values(by=actual_order,ascending=order_list)\n",
    "d = d.reset_index(drop=True)"
   ]
  },
  {
   "cell_type": "code",
   "execution_count": null,
   "id": "872815e7",
   "metadata": {},
   "outputs": [],
   "source": [
    "d.head(30)"
   ]
  },
  {
   "cell_type": "code",
   "execution_count": null,
   "id": "04d4cb53",
   "metadata": {},
   "outputs": [],
   "source": [
    "len(d)"
   ]
  },
  {
   "cell_type": "raw",
   "id": "07af93dd",
   "metadata": {},
   "source": []
  },
  {
   "cell_type": "code",
   "execution_count": null,
   "id": "bf9c9cba",
   "metadata": {},
   "outputs": [],
   "source": [
    "# d.to_json(\"/media/anubhav/New Volume/vidhaan/advocate_performance/advocatedcsplit.json\",orient='split')"
   ]
  },
  {
   "cell_type": "code",
   "execution_count": 4,
   "id": "bdd335e8",
   "metadata": {},
   "outputs": [],
   "source": [
    "def advocate_suggestor(sp,exp,fee,age,avg_resolvetime,activecases):\n",
    "    import pandas as pd\n",
    "    import numpy as np\n",
    "    df = pd.read_csv('dataset_advocate_performance.csv',index_col=False)\n",
    "    del df['Unnamed: 0'],df['id']\n",
    "    df['experience (yrs)'] = df['experience (yrs)'].astype(int)\n",
    "    df['active cases'] = df['active cases'].astype(int)\n",
    "    types_of_cases = [\"Arbitration Petition\",\"Civil (Appeal) Petition\",\"Contempt Petition (Civil)\",\"Contempt Petition (Criminal)\",\"Criminal Appeal Petition\",\"Election Petition\",\"Original Suit\",\"Petition for Special Leave to Appeal\",\"Transferred Case Petition\",\"Writ Petition\"]\n",
    "\n",
    "    for i in range(len(types_of_cases)):\n",
    "        print(f\"{i+1} for {types_of_cases[i]}\")\n",
    "\n",
    "    d = df[df['speciality']==types_of_cases[sp-1]]\n",
    "    actual_order=[]\n",
    "    inp_order = []\n",
    "    features = [\"experience (yrs)\",\"fees\",\"age\",\"avg resolve time (days)\",\"active cases\"]\n",
    "    actual_order = [[exp,\"experience (yrs)\"],[fee,\"fees\"],[age,\"age\"],[avg_resolvetime,\"avg resolve time (days)\"],[activecases,\"active cases\"]]\n",
    "\n",
    "    actual_order = sorted(actual_order,reverse=True)\n",
    "    order_list = []\n",
    "    for i in range(len(actual_order)):\n",
    "        actual_order[i] = str(actual_order[i][1])\n",
    "        if actual_order[i]== \"experience (yrs)\":\n",
    "            order_list.append(False)\n",
    "        else:\n",
    "            order_list.append(True)\n",
    "    d = d.sort_values(by=actual_order,ascending=order_list)\n",
    "    d = d.reset_index(drop=True)\n",
    "    print(d.head())\n",
    "    return d.head().to_json(orient='records')    "
   ]
  },
  {
   "cell_type": "code",
   "execution_count": 5,
   "id": "b13977f8",
   "metadata": {},
   "outputs": [
    {
     "name": "stdout",
     "output_type": "stream",
     "text": [
      "1 for Arbitration Petition\n",
      "2 for Civil (Appeal) Petition\n",
      "3 for Contempt Petition (Civil)\n",
      "4 for Contempt Petition (Criminal)\n",
      "5 for Criminal Appeal Petition\n",
      "6 for Election Petition\n",
      "7 for Original Suit\n",
      "8 for Petition for Special Leave to Appeal\n",
      "9 for Transferred Case Petition\n",
      "10 for Writ Petition\n",
      "       name     speciality  experience (yrs)    fees  age  \\\n",
      "0    gulnaz  Writ Petition                34  347414   58   \n",
      "1     vinos  Writ Petition                33  337772   56   \n",
      "2  narayani  Writ Petition                 1   15004   23   \n",
      "3    chootu  Writ Petition                16  166216   40   \n",
      "4     abrar  Writ Petition                11  115968   34   \n",
      "\n",
      "   avg resolve time (days)  active cases  \n",
      "0                       30             2  \n",
      "1                       30             9  \n",
      "2                       34             9  \n",
      "3                       35             6  \n",
      "4                       38             3  \n"
     ]
    }
   ],
   "source": [
    "a = advocate_suggestor(sp=10,exp=20,fee=10,age=5,avg_resolvetime=100,activecases=30)"
   ]
  },
  {
   "cell_type": "code",
   "execution_count": 6,
   "id": "c606e64c",
   "metadata": {},
   "outputs": [
    {
     "name": "stdout",
     "output_type": "stream",
     "text": [
      "[{\"name\":\"gulnaz\",\"speciality\":\"Writ Petition\",\"experience (yrs)\":34,\"fees\":347414,\"age\":58,\"avg resolve time (days)\":30,\"active cases\":2},{\"name\":\"vinos\",\"speciality\":\"Writ Petition\",\"experience (yrs)\":33,\"fees\":337772,\"age\":56,\"avg resolve time (days)\":30,\"active cases\":9},{\"name\":\"narayani\",\"speciality\":\"Writ Petition\",\"experience (yrs)\":1,\"fees\":15004,\"age\":23,\"avg resolve time (days)\":34,\"active cases\":9},{\"name\":\"chootu\",\"speciality\":\"Writ Petition\",\"experience (yrs)\":16,\"fees\":166216,\"age\":40,\"avg resolve time (days)\":35,\"active cases\":6},{\"name\":\"abrar\",\"speciality\":\"Writ Petition\",\"experience (yrs)\":11,\"fees\":115968,\"age\":34,\"avg resolve time (days)\":38,\"active cases\":3}]\n"
     ]
    }
   ],
   "source": [
    "print(a)"
   ]
  },
  {
   "cell_type": "code",
   "execution_count": null,
   "id": "dbd25038",
   "metadata": {},
   "outputs": [],
   "source": []
  }
 ],
 "metadata": {
  "kernelspec": {
   "display_name": "Python 3",
   "language": "python",
   "name": "python3"
  },
  "language_info": {
   "codemirror_mode": {
    "name": "ipython",
    "version": 3
   },
   "file_extension": ".py",
   "mimetype": "text/x-python",
   "name": "python",
   "nbconvert_exporter": "python",
   "pygments_lexer": "ipython3",
   "version": "3.7.12"
  }
 },
 "nbformat": 4,
 "nbformat_minor": 5
}
